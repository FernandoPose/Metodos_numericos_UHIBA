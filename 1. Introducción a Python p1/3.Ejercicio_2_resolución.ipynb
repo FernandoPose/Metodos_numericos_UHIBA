{
  "cells": [
    {
      "cell_type": "markdown",
      "metadata": {
        "id": "EpI8HV1Es37G"
      },
      "source": [
        "# Busqueda del menor valor en una lista de enteros 🔍"
      ]
    },
    {
      "cell_type": "markdown",
      "metadata": {
        "id": "6qzEe85ZvJ8P"
      },
      "source": [
        "## Diagrama de flujo"
      ]
    },
    {
      "cell_type": "markdown",
      "metadata": {
        "id": "JG-stTciu2eg"
      },
      "source": [
        "![diagrama de flujo](https://github.com/phdnico/CN2024/blob/main/imagenes_cn/diagrama_de_minimo.PNG?raw=true)"
      ]
    },
    {
      "cell_type": "markdown",
      "metadata": {
        "id": "Y-AmxbL3vVv-"
      },
      "source": [
        "## En python tenemos un método que encuentra el valor minimo de una lista\n",
        "`min(lst_numeros)`"
      ]
    },
    {
      "cell_type": "code",
      "execution_count": null,
      "metadata": {
        "colab": {
          "base_uri": "https://localhost:8080/"
        },
        "id": "NrWREQcKuUVH",
        "outputId": "8c15eb77-f1aa-4205-b32c-3ce7c3a8b6a6"
      },
      "outputs": [
        {
          "name": "stdout",
          "output_type": "stream",
          "text": [
            "El valor mínimo en la lista es: 2\n"
          ]
        }
      ],
      "source": [
        "lst_numeros = [23, 45, 12, 67, 34, 89, 2, 78, 90, 11]\n",
        "\n",
        "# Encontrar el valor mínimo en la lista\n",
        "valor_minimo = min(lst_numeros)\n",
        "\n",
        "# Mostrar el valor mínimo\n",
        "print(f\"El valor mínimo en la lista es: {valor_minimo}\")"
      ]
    },
    {
      "cell_type": "markdown",
      "metadata": {
        "id": "m87I8NGMv6oo"
      },
      "source": [
        "### Ahora vamos a programarlo\n",
        "\n",
        "![min](https://github.com/phdnico/CN2024/blob/main/imagenes_cn/xkcd_1.PNG?raw=true)"
      ]
    },
    {
      "cell_type": "code",
      "execution_count": null,
      "metadata": {
        "id": "etJ0USagv8t-"
      },
      "outputs": [],
      "source": [
        "for n in lst_numeros:\n",
        "  print(n)"
      ]
    },
    {
      "cell_type": "markdown",
      "metadata": {
        "id": "BGzWp3adxllu"
      },
      "source": [
        "## Vamos a imprimir un segmento en particular"
      ]
    },
    {
      "cell_type": "code",
      "execution_count": null,
      "metadata": {
        "colab": {
          "base_uri": "https://localhost:8080/"
        },
        "id": "62P0UEBQwBgY",
        "outputId": "4e9f4223-7ab1-47ab-827b-a3f334008beb"
      },
      "outputs": [
        {
          "name": "stdout",
          "output_type": "stream",
          "text": [
            "[12, 67, 34, 89, 2, 78, 90, 11]\n"
          ]
        }
      ],
      "source": [
        "# podemos imprimir un segmento de la lista, por ejemplo arrancando en el index 2\n",
        "print(lst_numeros[2:])"
      ]
    },
    {
      "cell_type": "code",
      "execution_count": null,
      "metadata": {
        "id": "FmIwqu3ewN04"
      },
      "outputs": [],
      "source": [
        "index = 0\n",
        "for n in lst_numeros:\n",
        "  print(index)\n",
        "  print(n)\n",
        "  index +=1\n",
        "  print(\"............\")"
      ]
    },
    {
      "cell_type": "code",
      "execution_count": null,
      "metadata": {
        "id": "FxknGWbNze5C"
      },
      "outputs": [],
      "source": [
        "valor_minimo = lst_numeros[0]\n",
        "\n",
        "# Iterar sobre la lista comenzando desde el segundo elemento\n",
        "for valor in lst_numeros[1:]:\n",
        "    # Comparar cada valor con el valor mínimo actual\n",
        "    if valor < valor_minimo:\n",
        "        valor_minimo = valor  # Actualizar el valor mínimo si se encuentra un valor menor\n",
        "\n",
        "# Mostrar el valor mínimo encontrado\n",
        "print(f\"El valor mínimo en la lista es: {valor_minimo}\")"
      ]
    },
    {
      "cell_type": "markdown",
      "metadata": {
        "id": "abxkBpCf1EHu"
      },
      "source": [
        "### Valro máximo"
      ]
    },
    {
      "cell_type": "code",
      "execution_count": null,
      "metadata": {
        "colab": {
          "base_uri": "https://localhost:8080/"
        },
        "id": "S_KGj2ekz16c",
        "outputId": "e7e96f61-ca78-448b-826c-277e7f29ca89"
      },
      "outputs": [
        {
          "name": "stdout",
          "output_type": "stream",
          "text": [
            "El valor máximo en la lista es: 90\n"
          ]
        }
      ],
      "source": [
        "valor_maximo =  lst_numeros[0]\n",
        "\n",
        "# Iterar sobre la lista comenzando desde el segundo elemento\n",
        "for valor in lst_numeros[1:]:\n",
        "    # Comparar cada valor con el valor máximo actual\n",
        "    if valor > valor_maximo:\n",
        "        valor_maximo = valor  # Actualizar el valor máximo si se encuentra un valor mayor\n",
        "\n",
        "# Mostrar el valor máximo encontrado\n",
        "print(f\"El valor máximo en la lista es: {valor_maximo}\")"
      ]
    },
    {
      "cell_type": "markdown",
      "metadata": {
        "id": "slgsrANc5-1D"
      },
      "source": [
        "## Método de burbuja 💭 **bubble_sort**\n",
        "![burbuja](https://github.com/phdnico/CN2024/blob/main/imagenes_cn/xkcd_2.PNG?raw=true)"
      ]
    },
    {
      "cell_type": "markdown",
      "metadata": {
        "id": "Nj2HrMdvHXW9"
      },
      "source": [
        "![burbuja](https://github.com/phdnico/CN2024/blob/main/imagenes_cn/bubble.PNG?raw=true)"
      ]
    },
    {
      "cell_type": "markdown",
      "metadata": {
        "id": "bit8TdZ9HdI7"
      },
      "source": [
        "## Explicación del Diagrama de Flujo\n",
        "\n",
        "1. Inicio: El algoritmo comienza.\n",
        "\n",
        "2. Iterar a través de la lista: El algoritmo se prepara para iterar a través de todos los elementos de la lista.\n",
        "\n",
        "3. ¿Hay elementos por comparar?: Se verifica si aún hay elementos adyacentes que no han sido comparados.\n",
        "\n",
        "4. Comparar dos elementos adyacentes: Se comparan dos elementos que están uno al lado del otro.\n",
        "\n",
        "5. ¿Están en orden incorrecto?: Se verifica si los elementos están en el orden correcto.\n",
        " * Si no están en orden, Intercambiar elementos.\n",
        "\n",
        " * Si están en orden, se pasa a los siguientes elementos.\n",
        "\n",
        "6. ¿Está la lista ordenada?: Después de recorrer toda la lista, se verifica si está ordenada.\n",
        "  * Si no lo está, el algoritmo repite la iteración.\n",
        "  * Si lo está, el algoritmo finaliza."
      ]
    },
    {
      "cell_type": "code",
      "execution_count": null,
      "metadata": {
        "id": "cZPMi3zXCzRM"
      },
      "outputs": [],
      "source": [
        "def bubble_sort(arr):\n",
        "    n = len(arr)\n",
        "    # Recorremos todos los elementos del arreglo\n",
        "    for i in range(n):\n",
        "        # Últimos i elementos ya están en su lugar\n",
        "        for j in range(0, n-i-1):\n",
        "            # Intercambiamos si el elemento encontrado es mayor que el siguiente\n",
        "            if arr[j] > arr[j+1]:\n",
        "                arr[j], arr[j+1] = arr[j+1], arr[j]\n",
        "                print(f\"Intercambiando {arr[j+1]} con {arr[j]}: {arr}\")\n",
        "        print(f\"Iteración {i+1}, estado del arreglo: {arr}\")\n",
        "\n",
        "# Ejemplo de uso\n",
        "lst_numero2 = [64, 34, 25, 12, 22, 11, 90]\n",
        "print(\"Lista original:\")\n",
        "print(lst_numero2)\n",
        "\n",
        "bubble_sort(lst_numero2)\n",
        "\n",
        "print(\"Lista ordenado:\")\n",
        "print(lst_numero2)"
      ]
    },
    {
      "cell_type": "code",
      "execution_count": null,
      "metadata": {
        "id": "Q_ttZUqOC4Zd"
      },
      "outputs": [],
      "source": []
    }
  ],
  "metadata": {
    "colab": {
      "provenance": []
    },
    "kernelspec": {
      "display_name": "Python 3",
      "name": "python3"
    },
    "language_info": {
      "name": "python"
    }
  },
  "nbformat": 4,
  "nbformat_minor": 0
}

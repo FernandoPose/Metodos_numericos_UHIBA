{
  "nbformat": 4,
  "nbformat_minor": 0,
  "metadata": {
    "colab": {
      "provenance": [],
      "collapsed_sections": [
        "qocfCDGSJgyp",
        "-N3t3svAKrLW",
        "7QSZMQfnKt-u",
        "1SFvzc1bK1qY",
        "r4OcwqZFK4k0",
        "sp5KaLQBK8FV",
        "SA92ZAJALW96",
        "sJ57HHZ5X8xU",
        "Fz3GMPGmVVXY",
        "MrXHAYs_Xygk",
        "lXH7tVi1WqpV",
        "-kAyXCFuNSqi",
        "vsJYSfONNVXc"
      ]
    },
    "kernelspec": {
      "name": "python3",
      "display_name": "Python 3"
    },
    "language_info": {
      "name": "python"
    }
  },
  "cells": [
    {
      "cell_type": "markdown",
      "source": [
        "# **Cálculo Numérico:** Errores\n",
        "09 de septiembre 2024 - Universidad Hospital Italiano de Buenos Aires"
      ],
      "metadata": {
        "id": "qocfCDGSJgyp"
      }
    },
    {
      "cell_type": "markdown",
      "source": [
        "## Fuentes de error"
      ],
      "metadata": {
        "id": "-N3t3svAKrLW"
      }
    },
    {
      "cell_type": "markdown",
      "source": [
        "Los cálculos numéricos, que involucran el uso de máquinas (análogas o digitales) presentan una serie de errores que provienen de diferentes fuentes:\n",
        "\n",
        "- del modelo\n",
        "\n",
        "- de los datos\n",
        "\n",
        "- de truncamiento\n",
        "\n",
        "- de representación de los números (punto flotante)\n",
        "\n",
        "- $ \\ldots$"
      ],
      "metadata": {
        "id": "5Snv4h9bKsBM"
      }
    },
    {
      "cell_type": "markdown",
      "source": [
        "### Error en el modelo y los datos"
      ],
      "metadata": {
        "id": "7QSZMQfnKt-u"
      }
    },
    {
      "cell_type": "markdown",
      "source": [
        "Imprecisiones en las mediciones o incertezas en los parámetros:\n",
        "\n",
        "*Infortunadamente no tenemos control de los errores en los datos y el modelo de forma directa pero podemos usar métodos que pueden ser más robustos en la presencia de estos tipos de errores.*"
      ],
      "metadata": {
        "id": "Cey2UeP7K0LD"
      }
    },
    {
      "cell_type": "markdown",
      "source": [
        "### Error de truncamiento"
      ],
      "metadata": {
        "id": "1SFvzc1bK1qY"
      }
    },
    {
      "cell_type": "markdown",
      "source": [
        "Los errores surgen de la expansión de funciones con una función simple, por ejemplo, $sin(x) \\approx x$ para $|x|\\approx0$."
      ],
      "metadata": {
        "id": "PPWlNHqNK3cd"
      }
    },
    {
      "cell_type": "markdown",
      "source": [
        "### Error de  representación de punto fotante"
      ],
      "metadata": {
        "id": "r4OcwqZFK4k0"
      }
    },
    {
      "cell_type": "markdown",
      "source": [
        "Los errores surgen de aproximar números reales con la representación  en precisión finita de números en el computador."
      ],
      "metadata": {
        "id": "L5rWSiDbK6KW"
      }
    },
    {
      "cell_type": "markdown",
      "source": [
        "# Definiciones básicas\n",
        "\n",
        "Errores absoluto y relativo: Es crucial cuantificar la precisión de una aproximación. Los errores absoluto y relativo son dos medidas comunes para hacerlo."
      ],
      "metadata": {
        "id": "sp5KaLQBK8FV"
      }
    },
    {
      "cell_type": "markdown",
      "source": [
        "## **Error Absoluto**:\n",
        "El error absoluto se define como la diferencia entre el valor verdadero (o de referencia) y el valor aproximado.\n",
        "\n",
        "\\begin{equation}\n",
        "\\text{Error Absoluto} = | \\text{Valor Verdadero} - \\text{Valor Aproximado} |\n",
        "\\end{equation}"
      ],
      "metadata": {
        "id": "SA92ZAJALW96"
      }
    },
    {
      "cell_type": "markdown",
      "source": [
        "***Ejemplo:*** Se realiza una medición y se obtiene un valor aproximado de $29.99$ *m*. Asumiendo que el valor exacto de dicha medición debería ser de $30.00$ *m*, ¿cuál es el error absoluto obtenido? Cuál sería el error absoluto si se disminuye un orden de magnitud las cantidades?"
      ],
      "metadata": {
        "id": "q-EwYpBZLg03"
      }
    },
    {
      "cell_type": "code",
      "source": [
        "v_verdadero = 30.0\n",
        "v_aproximado = 29.9\n",
        "\n",
        "resultado = abs(v_verdadero - v_aproximado)\n",
        "print(\"{0:.4f}\".format(resultado))"
      ],
      "metadata": {
        "id": "l2XgT5xZLd2j"
      },
      "execution_count": null,
      "outputs": []
    },
    {
      "cell_type": "code",
      "source": [
        "# reduciendo un órden de magnitud las cantidades\n",
        "v_verdadero = 3.0\n",
        "v_aproximado = 2.9\n",
        "\n",
        "resultado = abs(v_verdadero - v_aproximado)\n",
        "print(\"{0:6.4f}\".format(resultado))"
      ],
      "metadata": {
        "id": "3G5q3dvgLny8"
      },
      "execution_count": null,
      "outputs": []
    },
    {
      "cell_type": "markdown",
      "source": [
        "Se observa que el valor del error absoluto es igual ($\\approx 0.1$), independiente de la magnitud de las cantidades."
      ],
      "metadata": {
        "id": "oU3fRn42LqOd"
      }
    },
    {
      "cell_type": "markdown",
      "source": [
        "## **Error Relativo**:\n",
        "El error relativo es el error absoluto dividido por el valor absoluto del valor verdadero. Se puede expresar como:\n",
        "\n",
        "\\begin{equation}\n",
        "\\text{Error Relativo} = \\frac{\\text{Error Absoluto}}{|\\text{Valor Verdadero}|}\n",
        "\\end{equation}\n",
        "\n",
        "\n",
        "Nota: para expresarlo en porcentaje, simplemente multiplicas el error relativo por 100."
      ],
      "metadata": {
        "id": "sJ57HHZ5X8xU"
      }
    },
    {
      "cell_type": "markdown",
      "source": [
        "***Ejemplo:*** Repetir el ejemplo anterior, pero calculando el error relativo porcentual."
      ],
      "metadata": {
        "id": "7DprFBIPLuTr"
      }
    },
    {
      "cell_type": "code",
      "source": [
        "v_verdadero = 30.0\n",
        "v_aproximado = 29.9\n",
        "\n",
        "resultado = abs(v_verdadero - v_aproximado) / v_verdadero * 100\n",
        "print(\"{0:.4f}%\".format(resultado))"
      ],
      "metadata": {
        "id": "PFRygeS-LwNP"
      },
      "execution_count": null,
      "outputs": []
    },
    {
      "cell_type": "code",
      "source": [
        "# reduciendo un órden de magnitud las cantidades\n",
        "v_verdadero = 3.0\n",
        "v_aproximado = 2.9\n",
        "\n",
        "resultado = abs(v_verdadero - v_aproximado) / v_verdadero * 100\n",
        "print(\"{0:6.4f}%\".format(resultado))"
      ],
      "metadata": {
        "id": "C5Tbmr_JLyq0"
      },
      "execution_count": null,
      "outputs": []
    },
    {
      "cell_type": "markdown",
      "source": [
        "Se observa que los resultados son diferentes y es mayor cuando las cantidades medidas son menores.\n"
      ],
      "metadata": {
        "id": "seps-qaNL3_8"
      }
    },
    {
      "cell_type": "markdown",
      "source": [
        "# Ejercicio: Cálculo de Errores para la Función Exponencial\n",
        "\n",
        " Calcular los errores absoluto y relativo al evaluar una aproximación de la función exponencial para una lista de valores de `x`.\n",
        "\n",
        " 1. Considera la siguiente lista de valores para x: [−1,−0.5,0,0.5,1,5,10].\n",
        " 2. Para cada valor de `x`, calcula:\n",
        "  * El valor exacto de `e^x ` utilizando `math.exp()`\n",
        "  * Una aproximación de `e^x ` utilizando la serie de Taylor truncada hasta el término\n",
        "`x^3`\n",
        "\\begin{equation}\n",
        "e^x = \\sum^\\infty_{n=0} \\frac{x^n}{n!} \\approx 1 + x + \\frac{x^2}{2!} + \\frac{x^3}{3!}\n",
        "\\end{equation}\n",
        "\n",
        "3. Una vez obtenidos el valor exacto y la aproximación para cada `x`, calcula el error absoluto y el error relativo.\n",
        "\n",
        "4. En una plot, grafica x, valor_exacto , valor_aproximado. Si puedes coloca las legends para identificar\n",
        "\n",
        "5. Guarda todo lo que creas necesario en un dataframe\n",
        "\n"
      ],
      "metadata": {
        "id": "Fz3GMPGmVVXY"
      }
    },
    {
      "cell_type": "markdown",
      "source": [
        "Para x_valores = [-1, -0.5, 0, 0.5, 1] el resultao esperado es ![Sin título.png](data:image/png;base64,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) **¿qué sucede en x  5 y 10?**"
      ],
      "metadata": {
        "id": "bTNAzkEparLs"
      }
    },
    {
      "cell_type": "markdown",
      "source": [
        "## Resolución"
      ],
      "metadata": {
        "id": "MrXHAYs_Xygk"
      }
    },
    {
      "cell_type": "code",
      "source": [
        "import math\n",
        "import matplotlib.pyplot as plt\n",
        "import pandas as pd"
      ],
      "metadata": {
        "id": "BBGOd3DCTDnJ"
      },
      "execution_count": null,
      "outputs": []
    },
    {
      "cell_type": "code",
      "source": [
        "# Cargo los valores por enunciado\n",
        "x_val_1 = [-1,-0.5,0,0.5,1,5,10]"
      ],
      "metadata": {
        "id": "yHnnb-XJT1Y1"
      },
      "execution_count": null,
      "outputs": []
    },
    {
      "cell_type": "code",
      "source": [
        "# Hago la función de aproximación (para n=3):\n",
        "def exp_aprox(x):\n",
        "  return 1 + x + x**2/math.factorial(2) + x**3/math.factorial(3)\n",
        "\n",
        "# Ejemplo:\n",
        "print(\"e^2 = (con n = 3)\", exp_aprox(2))"
      ],
      "metadata": {
        "id": "FBQQq3v1TJi3"
      },
      "execution_count": null,
      "outputs": []
    },
    {
      "cell_type": "code",
      "source": [
        "def taylor_exp(x, n):\n",
        "    resultado = 0\n",
        "    # Calcular suma de los términos de la serie de Taylor\n",
        "    for k in range(n + 1):\n",
        "        resultado = resultado + x**k / math.factorial(k) # resultado += x**k / math.factorial(k)\n",
        "    return resultado\n",
        "\n",
        "# Ejemplo:\n",
        "print(\"e^2 = (con n = 3)\", taylor_exp(2, 3))"
      ],
      "metadata": {
        "id": "uaTKRrYfUxDT"
      },
      "execution_count": null,
      "outputs": []
    },
    {
      "cell_type": "markdown",
      "source": [
        "Nota: el código:\n",
        "\n",
        "```python\n",
        "exp_verdadero = []\n",
        "for i in x_val_1:\n",
        "    exp_verdadero.append(math.exp(i))\n",
        "```\n",
        "\n",
        "Puede escribirse utilizando listas por comprensión de la siguiente forma:\n",
        "\n",
        "```python\n",
        "exp_verdadero = [math.exp(i) for i in x_val_1]\n",
        "```"
      ],
      "metadata": {
        "id": "U1JhDYW5Tkxz"
      }
    },
    {
      "cell_type": "code",
      "source": [
        "#Lista con valores verdaderos\n",
        "exp_verdadero = [math.exp(i) for i in x_val_1]\n",
        "\n",
        "#Lista con valores aproximados con serie de Taylor\n",
        "exp_taylor = [exp_aprox(i) for i in x_val_1]\n",
        "\n",
        "#Lista con errores absolutos\n",
        "errores_abs = [abs(av-aa) for av,aa in zip(exp_verdadero,exp_taylor)]\n",
        "\n",
        "#Lista con errores relativos\n",
        "errores_rel = [ea/abs(av) for ea,av in zip(errores_abs,exp_verdadero)]\n",
        "\n",
        "#Guardar datos en dataframe\n",
        "datos = {'x':x_val_1,\n",
        "         'e^x':exp_verdadero,\n",
        "         'e^x_aproximado':exp_taylor,\n",
        "         'error_absoluto':errores_abs,\n",
        "         'error_relativo':errores_rel}\n",
        "\n",
        "df = pd.DataFrame(datos)\n",
        "\n",
        "df"
      ],
      "metadata": {
        "id": "Y-BJ30o2Eu4r"
      },
      "execution_count": null,
      "outputs": []
    },
    {
      "cell_type": "markdown",
      "source": [
        "## Gráfico"
      ],
      "metadata": {
        "id": "lXH7tVi1WqpV"
      }
    },
    {
      "cell_type": "code",
      "source": [
        "df"
      ],
      "metadata": {
        "id": "ydQvomh6WtPS"
      },
      "execution_count": null,
      "outputs": []
    },
    {
      "cell_type": "code",
      "source": [
        "df[:5]"
      ],
      "metadata": {
        "id": "Ozo2s3LOW15r"
      },
      "execution_count": null,
      "outputs": []
    },
    {
      "cell_type": "code",
      "source": [
        "#Graficar para x:[-1,1]\n",
        "plt.figure(figsize=(10, 6))\n",
        "plt.plot(df['x'][:5], df['e^x'][:5], label='Exponencial verdadera', marker='o')\n",
        "plt.plot(df['x'][:5], df['e^x_aproximado'][:5], label='Exponencial aproximada', marker='x')\n",
        "plt.xlabel('x')\n",
        "plt.ylabel('y')\n",
        "plt.title('Exponencial: Valor verdadero vs. Aproximación')\n",
        "plt.legend()\n",
        "plt.grid(True)\n",
        "plt.show()"
      ],
      "metadata": {
        "id": "IdpZVkkx7sQl"
      },
      "execution_count": null,
      "outputs": []
    },
    {
      "cell_type": "code",
      "source": [
        "#Graficar para x:[-1,10]\n",
        "plt.figure(figsize=(10, 6))\n",
        "plt.plot(df['x'], df['e^x'], label='Exponencial verdadera', marker='o')\n",
        "plt.plot(df['x'], df['e^x_aproximado'], label='Exponencial aproximada', marker='x')\n",
        "plt.xlabel('x')\n",
        "plt.ylabel('y')\n",
        "plt.title('Exponencial: Valor verdadero vs. Aproximación')\n",
        "plt.legend()\n",
        "plt.grid(True)\n",
        "plt.show()"
      ],
      "metadata": {
        "id": "iNlNe8rG723d"
      },
      "execution_count": null,
      "outputs": []
    },
    {
      "cell_type": "markdown",
      "source": [
        "# ¿Error absoluto o relativo?"
      ],
      "metadata": {
        "id": "-kAyXCFuNSqi"
      }
    },
    {
      "cell_type": "markdown",
      "source": [
        "### **Depende del contexto** y del **tipo de problema** que estés abordando:\n",
        "\n",
        "**Error absoluto:**\n",
        "\n",
        "*   Evalua el tamaño de la desviación en unidades reales. Pequeñas diferencias pueden ser críticas (por ejemplo, en medidas físicas)\n",
        "*   Valores a comparar tienen magnitudes similares.\n",
        "*   Ejemplo de uso en problemas físicos (mediciones)\n",
        "\n",
        "**Error relativo:**\n",
        "\n",
        "*   El valor verdadero puede variar en orden de magnitud.\n",
        "*   Cuando los valores a comparar tienen magnitudes diferentes.\n",
        "*   Ejemplo de uso en ingeniería y procesamiento de señales\n"
      ],
      "metadata": {
        "id": "vsJYSfONNVXc"
      }
    },
    {
      "cell_type": "code",
      "source": [
        "# Ordenar por error absoluto (de mayor a menor)\n",
        "df_error_absoluto = df.sort_values(by='error_absoluto', ascending=False)\n",
        "df_error_absoluto = df_error_absoluto.style.background_gradient(cmap='Blues')\n",
        "df_error_absoluto"
      ],
      "metadata": {
        "id": "MssnoDEjPeYV"
      },
      "execution_count": null,
      "outputs": []
    },
    {
      "cell_type": "code",
      "source": [
        "# Ordenar por error absoluto (de mayor a menor)\n",
        "df_error_relativo = df.sort_values(by='error_relativo', ascending=False)\n",
        "df_error_relativo = df_error_relativo.style.background_gradient(cmap='Blues')\n",
        "df_error_relativo"
      ],
      "metadata": {
        "id": "26LbZFBwNRRe"
      },
      "execution_count": null,
      "outputs": []
    }
  ]
}
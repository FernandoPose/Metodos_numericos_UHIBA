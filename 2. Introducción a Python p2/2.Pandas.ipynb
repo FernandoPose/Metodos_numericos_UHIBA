{
  "nbformat": 4,
  "nbformat_minor": 0,
  "metadata": {
    "colab": {
      "provenance": []
    },
    "kernelspec": {
      "name": "python3",
      "display_name": "Python 3"
    },
    "language_info": {
      "name": "python"
    }
  },
  "cells": [
    {
      "cell_type": "markdown",
      "metadata": {
        "id": "xr0LLqBK5Uak"
      },
      "source": [
        "![texto alternativo](https://user-images.githubusercontent.com/50641494/85175904-ebb62f00-b24e-11ea-81cb-438de552e34d.PNG)\n",
        "\n",
        "🐍 2021\n",
        "\n",
        "\n",
        "![](https://www.notion.so/image/https%3A%2F%2Fs3-us-west-2.amazonaws.com%2Fsecure.notion-static.com%2F22e8a50c-f313-4d66-adaa-bbed91992723%2FUntitled.png?table=block&id=af1566d2-7579-41dd-9dbb-07f099d3bb8f&spaceId=62aa27de-48fd-4703-8a40-2de64b627b11&width=950&userId=&cache=v2)\n",
        "\n",
        "[clase en texto](https://www.notion.so/Clase-Pandas-512e9f6d961f443ea82a9db35f4b0216)"
      ]
    },
    {
      "cell_type": "markdown",
      "metadata": {
        "id": "zrEOKmH68Piz"
      },
      "source": [
        "## 01 Levantar los datos"
      ]
    },
    {
      "cell_type": "markdown",
      "metadata": {
        "id": "AucZccO45X9r"
      },
      "source": [
        "## Traemos datos desde Github"
      ]
    },
    {
      "cell_type": "code",
      "metadata": {
        "id": "G0gQ-j495KzG"
      },
      "source": [
        "import pandas as pd\n",
        "df = pd.read_csv(\"https://raw.githubusercontent.com/phdnico/ejemplo_con_pandas/main/datos.csv\")"
      ],
      "execution_count": null,
      "outputs": []
    },
    {
      "cell_type": "markdown",
      "metadata": {
        "id": "mS4Sti34DuTA"
      },
      "source": []
    },
    {
      "cell_type": "code",
      "metadata": {
        "colab": {
          "base_uri": "https://localhost:8080/",
          "height": 363
        },
        "id": "awcK11jtea1l",
        "outputId": "6a5fa1b3-d466-40c8-d487-7927094ee97b"
      },
      "source": [
        "df"
      ],
      "execution_count": null,
      "outputs": [
        {
          "output_type": "execute_result",
          "data": {
            "text/plain": [
              "        Marca temporal      Nombre   Apellido Nickname o apodo   Edad  \\\n",
              "0  25/05/2021 18:09:06  Jose Maria  Vallorani            JoseMa    20   \n",
              "1  25/05/2021 16:44:39  Maria-Ines   Orellana              Maru    78   \n",
              "2  26/05/2021 16:44:39     Agustin    Bonilla            Tincho    31   \n",
              "3  27/05/2021 16:44:39        Ioan    Cervera               NaN    23   \n",
              "4  28/05/2021 16:44:39     Avelina       Haro               NaN    34   \n",
              "5  29/05/2021 16:44:39   Anastasia     Picazo               NaN    78   \n",
              "6  30/05/2021 16:44:39       Yaiza     Oliver               NaN    22   \n",
              "7  31/05/2021 16:44:39      Arturo    Sanchez               Rey    19   \n",
              "8   1/06/2021 16:44:39        Jose      Casas              Pepe    22   \n",
              "9   2/06/2021 16:44:39   Cristian     Verdugo               NaN    21   \n",
              "\n",
              "  Conocimiento de programación con Python  Año de Nacimiento   \n",
              "0                                   Mucho                1900  \n",
              "1                                    Algo                1942  \n",
              "2                                Bastante                1989  \n",
              "3                                   Mucho                1997  \n",
              "4                                   Mucho                1986  \n",
              "5                                    Nada                1942  \n",
              "6                                    Algo                1995  \n",
              "7                                Bastante                2001  \n",
              "8                                   Mucho                1998  \n",
              "9                                   Mucho                1999  "
            ],
            "text/html": [
              "\n",
              "  <div id=\"df-34ce36a6-e2dc-4770-ac1d-b80dd38260f7\" class=\"colab-df-container\">\n",
              "    <div>\n",
              "<style scoped>\n",
              "    .dataframe tbody tr th:only-of-type {\n",
              "        vertical-align: middle;\n",
              "    }\n",
              "\n",
              "    .dataframe tbody tr th {\n",
              "        vertical-align: top;\n",
              "    }\n",
              "\n",
              "    .dataframe thead th {\n",
              "        text-align: right;\n",
              "    }\n",
              "</style>\n",
              "<table border=\"1\" class=\"dataframe\">\n",
              "  <thead>\n",
              "    <tr style=\"text-align: right;\">\n",
              "      <th></th>\n",
              "      <th>Marca temporal</th>\n",
              "      <th>Nombre</th>\n",
              "      <th>Apellido</th>\n",
              "      <th>Nickname o apodo</th>\n",
              "      <th>Edad</th>\n",
              "      <th>Conocimiento de programación con Python</th>\n",
              "      <th>Año de Nacimiento</th>\n",
              "    </tr>\n",
              "  </thead>\n",
              "  <tbody>\n",
              "    <tr>\n",
              "      <th>0</th>\n",
              "      <td>25/05/2021 18:09:06</td>\n",
              "      <td>Jose Maria</td>\n",
              "      <td>Vallorani</td>\n",
              "      <td>JoseMa</td>\n",
              "      <td>20</td>\n",
              "      <td>Mucho</td>\n",
              "      <td>1900</td>\n",
              "    </tr>\n",
              "    <tr>\n",
              "      <th>1</th>\n",
              "      <td>25/05/2021 16:44:39</td>\n",
              "      <td>Maria-Ines</td>\n",
              "      <td>Orellana</td>\n",
              "      <td>Maru</td>\n",
              "      <td>78</td>\n",
              "      <td>Algo</td>\n",
              "      <td>1942</td>\n",
              "    </tr>\n",
              "    <tr>\n",
              "      <th>2</th>\n",
              "      <td>26/05/2021 16:44:39</td>\n",
              "      <td>Agustin</td>\n",
              "      <td>Bonilla</td>\n",
              "      <td>Tincho</td>\n",
              "      <td>31</td>\n",
              "      <td>Bastante</td>\n",
              "      <td>1989</td>\n",
              "    </tr>\n",
              "    <tr>\n",
              "      <th>3</th>\n",
              "      <td>27/05/2021 16:44:39</td>\n",
              "      <td>Ioan</td>\n",
              "      <td>Cervera</td>\n",
              "      <td>NaN</td>\n",
              "      <td>23</td>\n",
              "      <td>Mucho</td>\n",
              "      <td>1997</td>\n",
              "    </tr>\n",
              "    <tr>\n",
              "      <th>4</th>\n",
              "      <td>28/05/2021 16:44:39</td>\n",
              "      <td>Avelina</td>\n",
              "      <td>Haro</td>\n",
              "      <td>NaN</td>\n",
              "      <td>34</td>\n",
              "      <td>Mucho</td>\n",
              "      <td>1986</td>\n",
              "    </tr>\n",
              "    <tr>\n",
              "      <th>5</th>\n",
              "      <td>29/05/2021 16:44:39</td>\n",
              "      <td>Anastasia</td>\n",
              "      <td>Picazo</td>\n",
              "      <td>NaN</td>\n",
              "      <td>78</td>\n",
              "      <td>Nada</td>\n",
              "      <td>1942</td>\n",
              "    </tr>\n",
              "    <tr>\n",
              "      <th>6</th>\n",
              "      <td>30/05/2021 16:44:39</td>\n",
              "      <td>Yaiza</td>\n",
              "      <td>Oliver</td>\n",
              "      <td>NaN</td>\n",
              "      <td>22</td>\n",
              "      <td>Algo</td>\n",
              "      <td>1995</td>\n",
              "    </tr>\n",
              "    <tr>\n",
              "      <th>7</th>\n",
              "      <td>31/05/2021 16:44:39</td>\n",
              "      <td>Arturo</td>\n",
              "      <td>Sanchez</td>\n",
              "      <td>Rey</td>\n",
              "      <td>19</td>\n",
              "      <td>Bastante</td>\n",
              "      <td>2001</td>\n",
              "    </tr>\n",
              "    <tr>\n",
              "      <th>8</th>\n",
              "      <td>1/06/2021 16:44:39</td>\n",
              "      <td>Jose</td>\n",
              "      <td>Casas</td>\n",
              "      <td>Pepe</td>\n",
              "      <td>22</td>\n",
              "      <td>Mucho</td>\n",
              "      <td>1998</td>\n",
              "    </tr>\n",
              "    <tr>\n",
              "      <th>9</th>\n",
              "      <td>2/06/2021 16:44:39</td>\n",
              "      <td>Cristian</td>\n",
              "      <td>Verdugo</td>\n",
              "      <td>NaN</td>\n",
              "      <td>21</td>\n",
              "      <td>Mucho</td>\n",
              "      <td>1999</td>\n",
              "    </tr>\n",
              "  </tbody>\n",
              "</table>\n",
              "</div>\n",
              "    <div class=\"colab-df-buttons\">\n",
              "\n",
              "  <div class=\"colab-df-container\">\n",
              "    <button class=\"colab-df-convert\" onclick=\"convertToInteractive('df-34ce36a6-e2dc-4770-ac1d-b80dd38260f7')\"\n",
              "            title=\"Convert this dataframe to an interactive table.\"\n",
              "            style=\"display:none;\">\n",
              "\n",
              "  <svg xmlns=\"http://www.w3.org/2000/svg\" height=\"24px\" viewBox=\"0 -960 960 960\">\n",
              "    <path d=\"M120-120v-720h720v720H120Zm60-500h600v-160H180v160Zm220 220h160v-160H400v160Zm0 220h160v-160H400v160ZM180-400h160v-160H180v160Zm440 0h160v-160H620v160ZM180-180h160v-160H180v160Zm440 0h160v-160H620v160Z\"/>\n",
              "  </svg>\n",
              "    </button>\n",
              "\n",
              "  <style>\n",
              "    .colab-df-container {\n",
              "      display:flex;\n",
              "      gap: 12px;\n",
              "    }\n",
              "\n",
              "    .colab-df-convert {\n",
              "      background-color: #E8F0FE;\n",
              "      border: none;\n",
              "      border-radius: 50%;\n",
              "      cursor: pointer;\n",
              "      display: none;\n",
              "      fill: #1967D2;\n",
              "      height: 32px;\n",
              "      padding: 0 0 0 0;\n",
              "      width: 32px;\n",
              "    }\n",
              "\n",
              "    .colab-df-convert:hover {\n",
              "      background-color: #E2EBFA;\n",
              "      box-shadow: 0px 1px 2px rgba(60, 64, 67, 0.3), 0px 1px 3px 1px rgba(60, 64, 67, 0.15);\n",
              "      fill: #174EA6;\n",
              "    }\n",
              "\n",
              "    .colab-df-buttons div {\n",
              "      margin-bottom: 4px;\n",
              "    }\n",
              "\n",
              "    [theme=dark] .colab-df-convert {\n",
              "      background-color: #3B4455;\n",
              "      fill: #D2E3FC;\n",
              "    }\n",
              "\n",
              "    [theme=dark] .colab-df-convert:hover {\n",
              "      background-color: #434B5C;\n",
              "      box-shadow: 0px 1px 3px 1px rgba(0, 0, 0, 0.15);\n",
              "      filter: drop-shadow(0px 1px 2px rgba(0, 0, 0, 0.3));\n",
              "      fill: #FFFFFF;\n",
              "    }\n",
              "  </style>\n",
              "\n",
              "    <script>\n",
              "      const buttonEl =\n",
              "        document.querySelector('#df-34ce36a6-e2dc-4770-ac1d-b80dd38260f7 button.colab-df-convert');\n",
              "      buttonEl.style.display =\n",
              "        google.colab.kernel.accessAllowed ? 'block' : 'none';\n",
              "\n",
              "      async function convertToInteractive(key) {\n",
              "        const element = document.querySelector('#df-34ce36a6-e2dc-4770-ac1d-b80dd38260f7');\n",
              "        const dataTable =\n",
              "          await google.colab.kernel.invokeFunction('convertToInteractive',\n",
              "                                                    [key], {});\n",
              "        if (!dataTable) return;\n",
              "\n",
              "        const docLinkHtml = 'Like what you see? Visit the ' +\n",
              "          '<a target=\"_blank\" href=https://colab.research.google.com/notebooks/data_table.ipynb>data table notebook</a>'\n",
              "          + ' to learn more about interactive tables.';\n",
              "        element.innerHTML = '';\n",
              "        dataTable['output_type'] = 'display_data';\n",
              "        await google.colab.output.renderOutput(dataTable, element);\n",
              "        const docLink = document.createElement('div');\n",
              "        docLink.innerHTML = docLinkHtml;\n",
              "        element.appendChild(docLink);\n",
              "      }\n",
              "    </script>\n",
              "  </div>\n",
              "\n",
              "\n",
              "<div id=\"df-ee92909f-2c63-4a68-8d6d-043bbe168eef\">\n",
              "  <button class=\"colab-df-quickchart\" onclick=\"quickchart('df-ee92909f-2c63-4a68-8d6d-043bbe168eef')\"\n",
              "            title=\"Suggest charts.\"\n",
              "            style=\"display:none;\">\n",
              "\n",
              "<svg xmlns=\"http://www.w3.org/2000/svg\" height=\"24px\"viewBox=\"0 0 24 24\"\n",
              "     width=\"24px\">\n",
              "    <g>\n",
              "        <path d=\"M19 3H5c-1.1 0-2 .9-2 2v14c0 1.1.9 2 2 2h14c1.1 0 2-.9 2-2V5c0-1.1-.9-2-2-2zM9 17H7v-7h2v7zm4 0h-2V7h2v10zm4 0h-2v-4h2v4z\"/>\n",
              "    </g>\n",
              "</svg>\n",
              "  </button>\n",
              "\n",
              "<style>\n",
              "  .colab-df-quickchart {\n",
              "    background-color: #E8F0FE;\n",
              "    border: none;\n",
              "    border-radius: 50%;\n",
              "    cursor: pointer;\n",
              "    display: none;\n",
              "    fill: #1967D2;\n",
              "    height: 32px;\n",
              "    padding: 0 0 0 0;\n",
              "    width: 32px;\n",
              "  }\n",
              "\n",
              "  .colab-df-quickchart:hover {\n",
              "    background-color: #E2EBFA;\n",
              "    box-shadow: 0px 1px 2px rgba(60, 64, 67, 0.3), 0px 1px 3px 1px rgba(60, 64, 67, 0.15);\n",
              "    fill: #174EA6;\n",
              "  }\n",
              "\n",
              "  [theme=dark] .colab-df-quickchart {\n",
              "    background-color: #3B4455;\n",
              "    fill: #D2E3FC;\n",
              "  }\n",
              "\n",
              "  [theme=dark] .colab-df-quickchart:hover {\n",
              "    background-color: #434B5C;\n",
              "    box-shadow: 0px 1px 3px 1px rgba(0, 0, 0, 0.15);\n",
              "    filter: drop-shadow(0px 1px 2px rgba(0, 0, 0, 0.3));\n",
              "    fill: #FFFFFF;\n",
              "  }\n",
              "</style>\n",
              "\n",
              "  <script>\n",
              "    async function quickchart(key) {\n",
              "      const charts = await google.colab.kernel.invokeFunction(\n",
              "          'suggestCharts', [key], {});\n",
              "    }\n",
              "    (() => {\n",
              "      let quickchartButtonEl =\n",
              "        document.querySelector('#df-ee92909f-2c63-4a68-8d6d-043bbe168eef button');\n",
              "      quickchartButtonEl.style.display =\n",
              "        google.colab.kernel.accessAllowed ? 'block' : 'none';\n",
              "    })();\n",
              "  </script>\n",
              "</div>\n",
              "    </div>\n",
              "  </div>\n"
            ]
          },
          "metadata": {},
          "execution_count": 2
        }
      ]
    },
    {
      "cell_type": "code",
      "metadata": {
        "colab": {
          "base_uri": "https://localhost:8080/"
        },
        "id": "rfLA4UT2DzWj",
        "outputId": "8d1dc103-17d7-4f66-a9d9-55b26cc5e474"
      },
      "source": [
        "df.columns"
      ],
      "execution_count": null,
      "outputs": [
        {
          "output_type": "execute_result",
          "data": {
            "text/plain": [
              "Index(['Marca temporal', 'Nombre', 'Apellido', 'Nickname o apodo ', 'Edad',\n",
              "       'Conocimiento de programación con Python', 'Año de Nacimiento '],\n",
              "      dtype='object')"
            ]
          },
          "metadata": {},
          "execution_count": 3
        }
      ]
    },
    {
      "cell_type": "code",
      "metadata": {
        "colab": {
          "base_uri": "https://localhost:8080/"
        },
        "id": "2dPidItO5fnQ",
        "outputId": "62cd0705-0f54-4926-971d-2af793554a01"
      },
      "source": [
        "type(df)"
      ],
      "execution_count": null,
      "outputs": [
        {
          "output_type": "execute_result",
          "data": {
            "text/plain": [
              "pandas.core.frame.DataFrame"
            ]
          },
          "metadata": {
            "tags": []
          },
          "execution_count": 5
        }
      ]
    },
    {
      "cell_type": "code",
      "metadata": {
        "colab": {
          "base_uri": "https://localhost:8080/",
          "height": 359
        },
        "id": "tGyVBSnC75cj",
        "outputId": "372dbd7f-1f3a-4b00-e94f-bca0df0d8226"
      },
      "source": [
        "df"
      ],
      "execution_count": null,
      "outputs": [
        {
          "output_type": "execute_result",
          "data": {
            "text/html": [
              "<div>\n",
              "<style scoped>\n",
              "    .dataframe tbody tr th:only-of-type {\n",
              "        vertical-align: middle;\n",
              "    }\n",
              "\n",
              "    .dataframe tbody tr th {\n",
              "        vertical-align: top;\n",
              "    }\n",
              "\n",
              "    .dataframe thead th {\n",
              "        text-align: right;\n",
              "    }\n",
              "</style>\n",
              "<table border=\"1\" class=\"dataframe\">\n",
              "  <thead>\n",
              "    <tr style=\"text-align: right;\">\n",
              "      <th></th>\n",
              "      <th>Marca temporal</th>\n",
              "      <th>Nombre</th>\n",
              "      <th>Apellido</th>\n",
              "      <th>Nickname o apodo</th>\n",
              "      <th>Edad</th>\n",
              "      <th>Conocimiento de programación con Python</th>\n",
              "      <th>Año de Nacimiento</th>\n",
              "    </tr>\n",
              "  </thead>\n",
              "  <tbody>\n",
              "    <tr>\n",
              "      <th>0</th>\n",
              "      <td>25/05/2021 18:09:06</td>\n",
              "      <td>Jose Maria</td>\n",
              "      <td>Vallorani</td>\n",
              "      <td>JoseMa</td>\n",
              "      <td>20</td>\n",
              "      <td>Mucho</td>\n",
              "      <td>1900</td>\n",
              "    </tr>\n",
              "    <tr>\n",
              "      <th>1</th>\n",
              "      <td>25/05/2021 16:44:39</td>\n",
              "      <td>Maria-Ines</td>\n",
              "      <td>Orellana</td>\n",
              "      <td>Maru</td>\n",
              "      <td>78</td>\n",
              "      <td>Algo</td>\n",
              "      <td>1942</td>\n",
              "    </tr>\n",
              "    <tr>\n",
              "      <th>2</th>\n",
              "      <td>26/05/2021 16:44:39</td>\n",
              "      <td>Agustin</td>\n",
              "      <td>Bonilla</td>\n",
              "      <td>Tincho</td>\n",
              "      <td>31</td>\n",
              "      <td>Bastante</td>\n",
              "      <td>1989</td>\n",
              "    </tr>\n",
              "    <tr>\n",
              "      <th>3</th>\n",
              "      <td>27/05/2021 16:44:39</td>\n",
              "      <td>Ioan</td>\n",
              "      <td>Cervera</td>\n",
              "      <td>NaN</td>\n",
              "      <td>23</td>\n",
              "      <td>Mucho</td>\n",
              "      <td>1997</td>\n",
              "    </tr>\n",
              "    <tr>\n",
              "      <th>4</th>\n",
              "      <td>28/05/2021 16:44:39</td>\n",
              "      <td>Avelina</td>\n",
              "      <td>Haro</td>\n",
              "      <td>NaN</td>\n",
              "      <td>34</td>\n",
              "      <td>Mucho</td>\n",
              "      <td>1986</td>\n",
              "    </tr>\n",
              "    <tr>\n",
              "      <th>5</th>\n",
              "      <td>29/05/2021 16:44:39</td>\n",
              "      <td>Anastasia</td>\n",
              "      <td>Picazo</td>\n",
              "      <td>NaN</td>\n",
              "      <td>78</td>\n",
              "      <td>Nada</td>\n",
              "      <td>1942</td>\n",
              "    </tr>\n",
              "    <tr>\n",
              "      <th>6</th>\n",
              "      <td>30/05/2021 16:44:39</td>\n",
              "      <td>Yaiza</td>\n",
              "      <td>Oliver</td>\n",
              "      <td>NaN</td>\n",
              "      <td>22</td>\n",
              "      <td>Algo</td>\n",
              "      <td>1995</td>\n",
              "    </tr>\n",
              "    <tr>\n",
              "      <th>7</th>\n",
              "      <td>31/05/2021 16:44:39</td>\n",
              "      <td>Arturo</td>\n",
              "      <td>Sanchez</td>\n",
              "      <td>Rey</td>\n",
              "      <td>19</td>\n",
              "      <td>Bastante</td>\n",
              "      <td>2001</td>\n",
              "    </tr>\n",
              "    <tr>\n",
              "      <th>8</th>\n",
              "      <td>1/06/2021 16:44:39</td>\n",
              "      <td>Jose</td>\n",
              "      <td>Casas</td>\n",
              "      <td>Pepe</td>\n",
              "      <td>22</td>\n",
              "      <td>Mucho</td>\n",
              "      <td>1998</td>\n",
              "    </tr>\n",
              "    <tr>\n",
              "      <th>9</th>\n",
              "      <td>2/06/2021 16:44:39</td>\n",
              "      <td>Cristian</td>\n",
              "      <td>Verdugo</td>\n",
              "      <td>NaN</td>\n",
              "      <td>21</td>\n",
              "      <td>Mucho</td>\n",
              "      <td>1999</td>\n",
              "    </tr>\n",
              "  </tbody>\n",
              "</table>\n",
              "</div>"
            ],
            "text/plain": [
              "        Marca temporal  ... Año de Nacimiento \n",
              "0  25/05/2021 18:09:06  ...               1900\n",
              "1  25/05/2021 16:44:39  ...               1942\n",
              "2  26/05/2021 16:44:39  ...               1989\n",
              "3  27/05/2021 16:44:39  ...               1997\n",
              "4  28/05/2021 16:44:39  ...               1986\n",
              "5  29/05/2021 16:44:39  ...               1942\n",
              "6  30/05/2021 16:44:39  ...               1995\n",
              "7  31/05/2021 16:44:39  ...               2001\n",
              "8   1/06/2021 16:44:39  ...               1998\n",
              "9   2/06/2021 16:44:39  ...               1999\n",
              "\n",
              "[10 rows x 7 columns]"
            ]
          },
          "metadata": {
            "tags": []
          },
          "execution_count": 20
        }
      ]
    },
    {
      "cell_type": "code",
      "metadata": {
        "colab": {
          "base_uri": "https://localhost:8080/"
        },
        "id": "rFVQpZiw-ScU",
        "outputId": "3cad1c68-2a1a-4a6d-da4b-f350108830bf"
      },
      "source": [
        "df['Nombre']"
      ],
      "execution_count": null,
      "outputs": [
        {
          "output_type": "execute_result",
          "data": {
            "text/plain": [
              "0    Jose Maria\n",
              "1    Maria-Ines\n",
              "2       Agustin\n",
              "3          Ioan\n",
              "4       Avelina\n",
              "5     Anastasia\n",
              "6         Yaiza\n",
              "7        Arturo\n",
              "8          Jose\n",
              "9     Cristian \n",
              "Name: Nombre, dtype: object"
            ]
          },
          "metadata": {
            "tags": []
          },
          "execution_count": 6
        }
      ]
    },
    {
      "cell_type": "code",
      "metadata": {
        "colab": {
          "base_uri": "https://localhost:8080/"
        },
        "id": "O10mM-H8-eMQ",
        "outputId": "2527b710-4c14-411c-da7d-8beaf7a54810"
      },
      "source": [
        "df['Edad']"
      ],
      "execution_count": null,
      "outputs": [
        {
          "output_type": "execute_result",
          "data": {
            "text/plain": [
              "0    20\n",
              "1    78\n",
              "2    31\n",
              "3    23\n",
              "4    34\n",
              "5    78\n",
              "6    22\n",
              "7    19\n",
              "8    22\n",
              "9    21\n",
              "Name: Edad, dtype: int64"
            ]
          },
          "metadata": {
            "tags": []
          },
          "execution_count": 7
        }
      ]
    },
    {
      "cell_type": "code",
      "metadata": {
        "id": "MIhWhEt7F8wi",
        "colab": {
          "base_uri": "https://localhost:8080/"
        },
        "outputId": "d149926b-5062-488b-f1ba-fca2662a49c0"
      },
      "source": [
        "#ver por fila\n",
        "df.loc[0]"
      ],
      "execution_count": null,
      "outputs": [
        {
          "output_type": "execute_result",
          "data": {
            "text/plain": [
              "Marca temporal                             25/05/2021 18:09:06\n",
              "Nombre                                              Jose Maria\n",
              "Apellido                                             Vallorani\n",
              "Nickname o apodo                                        JoseMa\n",
              "Edad                                                        20\n",
              "Conocimiento de programación con Python                  Mucho\n",
              "Año de Nacimiento                                         1900\n",
              "Name: 0, dtype: object"
            ]
          },
          "metadata": {
            "tags": []
          },
          "execution_count": 8
        }
      ]
    },
    {
      "cell_type": "markdown",
      "metadata": {
        "id": "koDwq9A47OdX"
      },
      "source": [
        "## 02 Preparar los datos"
      ]
    },
    {
      "cell_type": "markdown",
      "metadata": {
        "id": "RPX7-WdT7o5d"
      },
      "source": [
        "### 02.01 Eliminar la columna \"Marca temporal\", no brinda información\n",
        "\n",
        "![texto alternativo](https://www.notion.so/image/https%3A%2F%2Fs3-us-west-2.amazonaws.com%2Fsecure.notion-static.com%2F7289b927-6975-43b1-846e-ea2cfccb3de4%2FUntitled.png?table=block&id=240eabaf-20c4-46c9-ad7f-3de63d57e831&spaceId=62aa27de-48fd-4703-8a40-2de64b627b11&width=2580&userId=&cache=v2)"
      ]
    },
    {
      "cell_type": "code",
      "metadata": {
        "id": "1DfgTLGi7mU0"
      },
      "source": [
        "del df['Marca temporal']"
      ],
      "execution_count": null,
      "outputs": []
    },
    {
      "cell_type": "code",
      "metadata": {
        "colab": {
          "base_uri": "https://localhost:8080/",
          "height": 359
        },
        "id": "OM45UQTe79Fk",
        "outputId": "e7d576f1-5581-484e-c42e-ceae46a372fd"
      },
      "source": [
        "df"
      ],
      "execution_count": null,
      "outputs": [
        {
          "output_type": "execute_result",
          "data": {
            "text/html": [
              "<div>\n",
              "<style scoped>\n",
              "    .dataframe tbody tr th:only-of-type {\n",
              "        vertical-align: middle;\n",
              "    }\n",
              "\n",
              "    .dataframe tbody tr th {\n",
              "        vertical-align: top;\n",
              "    }\n",
              "\n",
              "    .dataframe thead th {\n",
              "        text-align: right;\n",
              "    }\n",
              "</style>\n",
              "<table border=\"1\" class=\"dataframe\">\n",
              "  <thead>\n",
              "    <tr style=\"text-align: right;\">\n",
              "      <th></th>\n",
              "      <th>Nombre</th>\n",
              "      <th>Apellido</th>\n",
              "      <th>Nickname o apodo</th>\n",
              "      <th>Edad</th>\n",
              "      <th>Conocimiento de programación con Python</th>\n",
              "      <th>Año de Nacimiento</th>\n",
              "    </tr>\n",
              "  </thead>\n",
              "  <tbody>\n",
              "    <tr>\n",
              "      <th>0</th>\n",
              "      <td>Jose Maria</td>\n",
              "      <td>Vallorani</td>\n",
              "      <td>JoseMa</td>\n",
              "      <td>20</td>\n",
              "      <td>Mucho</td>\n",
              "      <td>1900</td>\n",
              "    </tr>\n",
              "    <tr>\n",
              "      <th>1</th>\n",
              "      <td>Maria-Ines</td>\n",
              "      <td>Orellana</td>\n",
              "      <td>Maru</td>\n",
              "      <td>78</td>\n",
              "      <td>Algo</td>\n",
              "      <td>1942</td>\n",
              "    </tr>\n",
              "    <tr>\n",
              "      <th>2</th>\n",
              "      <td>Agustin</td>\n",
              "      <td>Bonilla</td>\n",
              "      <td>Tincho</td>\n",
              "      <td>31</td>\n",
              "      <td>Bastante</td>\n",
              "      <td>1989</td>\n",
              "    </tr>\n",
              "    <tr>\n",
              "      <th>3</th>\n",
              "      <td>Ioan</td>\n",
              "      <td>Cervera</td>\n",
              "      <td>NaN</td>\n",
              "      <td>23</td>\n",
              "      <td>Mucho</td>\n",
              "      <td>1997</td>\n",
              "    </tr>\n",
              "    <tr>\n",
              "      <th>4</th>\n",
              "      <td>Avelina</td>\n",
              "      <td>Haro</td>\n",
              "      <td>NaN</td>\n",
              "      <td>34</td>\n",
              "      <td>Mucho</td>\n",
              "      <td>1986</td>\n",
              "    </tr>\n",
              "    <tr>\n",
              "      <th>5</th>\n",
              "      <td>Anastasia</td>\n",
              "      <td>Picazo</td>\n",
              "      <td>NaN</td>\n",
              "      <td>78</td>\n",
              "      <td>Nada</td>\n",
              "      <td>1942</td>\n",
              "    </tr>\n",
              "    <tr>\n",
              "      <th>6</th>\n",
              "      <td>Yaiza</td>\n",
              "      <td>Oliver</td>\n",
              "      <td>NaN</td>\n",
              "      <td>22</td>\n",
              "      <td>Algo</td>\n",
              "      <td>1995</td>\n",
              "    </tr>\n",
              "    <tr>\n",
              "      <th>7</th>\n",
              "      <td>Arturo</td>\n",
              "      <td>Sanchez</td>\n",
              "      <td>Rey</td>\n",
              "      <td>19</td>\n",
              "      <td>Bastante</td>\n",
              "      <td>2001</td>\n",
              "    </tr>\n",
              "    <tr>\n",
              "      <th>8</th>\n",
              "      <td>Jose</td>\n",
              "      <td>Casas</td>\n",
              "      <td>Pepe</td>\n",
              "      <td>22</td>\n",
              "      <td>Mucho</td>\n",
              "      <td>1998</td>\n",
              "    </tr>\n",
              "    <tr>\n",
              "      <th>9</th>\n",
              "      <td>Cristian</td>\n",
              "      <td>Verdugo</td>\n",
              "      <td>NaN</td>\n",
              "      <td>21</td>\n",
              "      <td>Mucho</td>\n",
              "      <td>1999</td>\n",
              "    </tr>\n",
              "  </tbody>\n",
              "</table>\n",
              "</div>"
            ],
            "text/plain": [
              "       Nombre  ... Año de Nacimiento \n",
              "0  Jose Maria  ...               1900\n",
              "1  Maria-Ines  ...               1942\n",
              "2     Agustin  ...               1989\n",
              "3        Ioan  ...               1997\n",
              "4     Avelina  ...               1986\n",
              "5   Anastasia  ...               1942\n",
              "6       Yaiza  ...               1995\n",
              "7      Arturo  ...               2001\n",
              "8        Jose  ...               1998\n",
              "9   Cristian   ...               1999\n",
              "\n",
              "[10 rows x 6 columns]"
            ]
          },
          "metadata": {
            "tags": []
          },
          "execution_count": 10
        }
      ]
    },
    {
      "cell_type": "markdown",
      "metadata": {
        "id": "mCrfQCyz8Dup"
      },
      "source": [
        "### 02.02 Renombrar las columnas, de momento tenemos nombres de columnas muy extensos\n",
        "\n",
        "![texto alternativo](https://www.notion.so/image/https%3A%2F%2Fs3-us-west-2.amazonaws.com%2Fsecure.notion-static.com%2Fe9619710-828a-4cbf-8369-4c7e8cba6997%2FUntitled.png?table=block&id=f5460654-c3cd-4719-95e5-2eec9a574d03&spaceId=62aa27de-48fd-4703-8a40-2de64b627b11&width=2240&userId=&cache=v2)"
      ]
    },
    {
      "cell_type": "markdown",
      "metadata": {
        "id": "7EuNqdid9b-b"
      },
      "source": [
        "*Los nombres de las columnas son:*"
      ]
    },
    {
      "cell_type": "code",
      "metadata": {
        "colab": {
          "base_uri": "https://localhost:8080/"
        },
        "id": "oENlbweJ8M_7",
        "outputId": "de0d4328-83c9-4a3b-d01b-c646a19b3f88"
      },
      "source": [
        "df.columns"
      ],
      "execution_count": null,
      "outputs": [
        {
          "output_type": "execute_result",
          "data": {
            "text/plain": [
              "Index(['Nombre', 'Apellido', 'Nickname o apodo ', 'Edad',\n",
              "       'Conocimiento de programación con Python', 'Año de Nacimiento '],\n",
              "      dtype='object')"
            ]
          },
          "metadata": {
            "tags": []
          },
          "execution_count": 11
        }
      ]
    },
    {
      "cell_type": "markdown",
      "metadata": {
        "id": "rdZ24s_c9m60"
      },
      "source": [
        "Para cambiar los nombres utilizaremos **.rename**\n",
        "![texto alternativo](https://www.notion.so/image/https%3A%2F%2Fs3-us-west-2.amazonaws.com%2Fsecure.notion-static.com%2F1bab3661-fc1c-40f4-9fa4-76500701763b%2FUntitled.png?table=block&id=a1c6b6d4-a9f4-46d0-a06a-dddb0e692d34&spaceId=62aa27de-48fd-4703-8a40-2de64b627b11&width=590&userId=&cache=v2)"
      ]
    },
    {
      "cell_type": "code",
      "metadata": {
        "id": "Y1vUSyPl99W8"
      },
      "source": [
        "df = df.rename(columns={'Nombre':'nombre',\n",
        "                   'Apellido':'apellido',\n",
        "                   'Nickname o apodo ':'apodo',\n",
        "                   'Edad':'edad',\n",
        "                   'Conocimiento de programación con Python':'level',\n",
        "                   'Año de Nacimiento ':'nacimiento'})"
      ],
      "execution_count": null,
      "outputs": []
    },
    {
      "cell_type": "code",
      "metadata": {
        "colab": {
          "base_uri": "https://localhost:8080/",
          "height": 359
        },
        "id": "9vr4IOPhGzft",
        "outputId": "1b85e057-316f-4834-d4af-bda443b45872"
      },
      "source": [
        "df"
      ],
      "execution_count": null,
      "outputs": [
        {
          "output_type": "execute_result",
          "data": {
            "text/html": [
              "<div>\n",
              "<style scoped>\n",
              "    .dataframe tbody tr th:only-of-type {\n",
              "        vertical-align: middle;\n",
              "    }\n",
              "\n",
              "    .dataframe tbody tr th {\n",
              "        vertical-align: top;\n",
              "    }\n",
              "\n",
              "    .dataframe thead th {\n",
              "        text-align: right;\n",
              "    }\n",
              "</style>\n",
              "<table border=\"1\" class=\"dataframe\">\n",
              "  <thead>\n",
              "    <tr style=\"text-align: right;\">\n",
              "      <th></th>\n",
              "      <th>nombre</th>\n",
              "      <th>apellido</th>\n",
              "      <th>apodo</th>\n",
              "      <th>edad</th>\n",
              "      <th>level</th>\n",
              "      <th>nacimiento</th>\n",
              "    </tr>\n",
              "  </thead>\n",
              "  <tbody>\n",
              "    <tr>\n",
              "      <th>0</th>\n",
              "      <td>Jose Maria</td>\n",
              "      <td>Vallorani</td>\n",
              "      <td>JoseMa</td>\n",
              "      <td>20</td>\n",
              "      <td>Mucho</td>\n",
              "      <td>1900</td>\n",
              "    </tr>\n",
              "    <tr>\n",
              "      <th>1</th>\n",
              "      <td>Maria-Ines</td>\n",
              "      <td>Orellana</td>\n",
              "      <td>Maru</td>\n",
              "      <td>78</td>\n",
              "      <td>Algo</td>\n",
              "      <td>1942</td>\n",
              "    </tr>\n",
              "    <tr>\n",
              "      <th>2</th>\n",
              "      <td>Agustin</td>\n",
              "      <td>Bonilla</td>\n",
              "      <td>Tincho</td>\n",
              "      <td>31</td>\n",
              "      <td>Bastante</td>\n",
              "      <td>1989</td>\n",
              "    </tr>\n",
              "    <tr>\n",
              "      <th>3</th>\n",
              "      <td>Ioan</td>\n",
              "      <td>Cervera</td>\n",
              "      <td>NaN</td>\n",
              "      <td>23</td>\n",
              "      <td>Mucho</td>\n",
              "      <td>1997</td>\n",
              "    </tr>\n",
              "    <tr>\n",
              "      <th>4</th>\n",
              "      <td>Avelina</td>\n",
              "      <td>Haro</td>\n",
              "      <td>NaN</td>\n",
              "      <td>34</td>\n",
              "      <td>Mucho</td>\n",
              "      <td>1986</td>\n",
              "    </tr>\n",
              "    <tr>\n",
              "      <th>5</th>\n",
              "      <td>Anastasia</td>\n",
              "      <td>Picazo</td>\n",
              "      <td>NaN</td>\n",
              "      <td>78</td>\n",
              "      <td>Nada</td>\n",
              "      <td>1942</td>\n",
              "    </tr>\n",
              "    <tr>\n",
              "      <th>6</th>\n",
              "      <td>Yaiza</td>\n",
              "      <td>Oliver</td>\n",
              "      <td>NaN</td>\n",
              "      <td>22</td>\n",
              "      <td>Algo</td>\n",
              "      <td>1995</td>\n",
              "    </tr>\n",
              "    <tr>\n",
              "      <th>7</th>\n",
              "      <td>Arturo</td>\n",
              "      <td>Sanchez</td>\n",
              "      <td>Rey</td>\n",
              "      <td>19</td>\n",
              "      <td>Bastante</td>\n",
              "      <td>2001</td>\n",
              "    </tr>\n",
              "    <tr>\n",
              "      <th>8</th>\n",
              "      <td>Jose</td>\n",
              "      <td>Casas</td>\n",
              "      <td>Pepe</td>\n",
              "      <td>22</td>\n",
              "      <td>Mucho</td>\n",
              "      <td>1998</td>\n",
              "    </tr>\n",
              "    <tr>\n",
              "      <th>9</th>\n",
              "      <td>Cristian</td>\n",
              "      <td>Verdugo</td>\n",
              "      <td>NaN</td>\n",
              "      <td>21</td>\n",
              "      <td>Mucho</td>\n",
              "      <td>1999</td>\n",
              "    </tr>\n",
              "  </tbody>\n",
              "</table>\n",
              "</div>"
            ],
            "text/plain": [
              "       nombre   apellido   apodo  edad     level  nacimiento\n",
              "0  Jose Maria  Vallorani  JoseMa    20     Mucho        1900\n",
              "1  Maria-Ines   Orellana    Maru    78      Algo        1942\n",
              "2     Agustin    Bonilla  Tincho    31  Bastante        1989\n",
              "3        Ioan    Cervera     NaN    23     Mucho        1997\n",
              "4     Avelina       Haro     NaN    34     Mucho        1986\n",
              "5   Anastasia     Picazo     NaN    78      Nada        1942\n",
              "6       Yaiza     Oliver     NaN    22      Algo        1995\n",
              "7      Arturo    Sanchez     Rey    19  Bastante        2001\n",
              "8        Jose      Casas    Pepe    22     Mucho        1998\n",
              "9   Cristian     Verdugo     NaN    21     Mucho        1999"
            ]
          },
          "metadata": {
            "tags": []
          },
          "execution_count": 13
        }
      ]
    },
    {
      "cell_type": "markdown",
      "metadata": {
        "id": "7ReAFu0I-tGf"
      },
      "source": [
        "### 02.03 Conocer las dimensiones del dataframe\n",
        "![texto alternativo](https://www.notion.so/image/https%3A%2F%2Fs3-us-west-2.amazonaws.com%2Fsecure.notion-static.com%2Fc66f2269-8930-4037-86f7-ea91e26a0283%2FUntitled.png?table=block&id=14ff6f2d-9a59-43a1-85c7-aba655b5fadf&spaceId=62aa27de-48fd-4703-8a40-2de64b627b11&width=1490&userId=&cache=v2)"
      ]
    },
    {
      "cell_type": "code",
      "metadata": {
        "colab": {
          "base_uri": "https://localhost:8080/"
        },
        "id": "9f2OC82n-9-O",
        "outputId": "e96fb0cb-95a8-453a-ccc3-07884ac0e422"
      },
      "source": [
        "df.shape"
      ],
      "execution_count": null,
      "outputs": [
        {
          "output_type": "execute_result",
          "data": {
            "text/plain": [
              "(10, 6)"
            ]
          },
          "metadata": {},
          "execution_count": 8
        }
      ]
    },
    {
      "cell_type": "code",
      "metadata": {
        "colab": {
          "base_uri": "https://localhost:8080/"
        },
        "id": "XbdwzrDP_G55",
        "outputId": "94353a9e-ef5d-4f8f-b2be-55c0aa8e5711"
      },
      "source": [
        "df.size"
      ],
      "execution_count": null,
      "outputs": [
        {
          "output_type": "execute_result",
          "data": {
            "text/plain": [
              "60"
            ]
          },
          "metadata": {},
          "execution_count": 9
        }
      ]
    },
    {
      "cell_type": "code",
      "metadata": {
        "colab": {
          "base_uri": "https://localhost:8080/"
        },
        "id": "vicPZjyU_JbN",
        "outputId": "6ff67d71-4c40-4485-d833-dfd518d2a39e"
      },
      "source": [
        "filas = df.shape[0]\n",
        "columnas = df.shape[1]\n",
        "\n",
        "print(filas)\n",
        "print(columnas)"
      ],
      "execution_count": null,
      "outputs": [
        {
          "output_type": "stream",
          "name": "stdout",
          "text": [
            "10\n",
            "7\n"
          ]
        }
      ]
    },
    {
      "cell_type": "markdown",
      "metadata": {
        "id": "NErL-gFM_YW6"
      },
      "source": [
        "### 02.04 Recorrer las columnas\n",
        "\n",
        "1.   Por nombre\n",
        "2.   Por posición (no recomendado)\n",
        "\n"
      ]
    },
    {
      "cell_type": "code",
      "metadata": {
        "id": "iPwFuxDg_nEG"
      },
      "source": [
        "df['nombre']"
      ],
      "execution_count": null,
      "outputs": []
    },
    {
      "cell_type": "code",
      "metadata": {
        "colab": {
          "base_uri": "https://localhost:8080/"
        },
        "id": "RHjNQbdh_pgw",
        "outputId": "ef830b83-c1b5-4d2e-922b-ced04652f6fc"
      },
      "source": [
        "df.iloc[:,3] # empezamos desde Cero"
      ],
      "execution_count": null,
      "outputs": [
        {
          "output_type": "execute_result",
          "data": {
            "text/plain": [
              "0    20\n",
              "1    78\n",
              "2    31\n",
              "3    23\n",
              "4    34\n",
              "5    78\n",
              "6    22\n",
              "7    19\n",
              "8    22\n",
              "9    21\n",
              "Name: Edad, dtype: int64"
            ]
          },
          "metadata": {},
          "execution_count": 11
        }
      ]
    },
    {
      "cell_type": "markdown",
      "metadata": {
        "id": "MEqBtcvF_1cq"
      },
      "source": [
        "### 02.05 Hallar en la columna edad:\n",
        "\n",
        "1.   el valor mínimo **min()**\n",
        "2.   el valor máximo **max()**\n",
        "3.   la suma de todas las edades **sum()**\n",
        "\n"
      ]
    },
    {
      "cell_type": "code",
      "metadata": {
        "id": "QnL8Y5GEAKTi"
      },
      "source": [
        "df['edad'].min()"
      ],
      "execution_count": null,
      "outputs": []
    },
    {
      "cell_type": "code",
      "metadata": {
        "id": "P0gOwXvEAOJK"
      },
      "source": [
        "df['edad'].max()"
      ],
      "execution_count": null,
      "outputs": []
    },
    {
      "cell_type": "code",
      "metadata": {
        "id": "3hsMN4ndAPGo"
      },
      "source": [
        "df['edad'].sum()"
      ],
      "execution_count": null,
      "outputs": []
    },
    {
      "cell_type": "markdown",
      "metadata": {
        "id": "MJzTlk-BAlyT"
      },
      "source": [
        "## 03 Conceptos nuevos: ¿qué pasa cuando un campo esta vacío´?"
      ]
    },
    {
      "cell_type": "markdown",
      "metadata": {
        "id": "hD7miO8SA3GR"
      },
      "source": [
        "### 03.01 muestre la columna 'apodo' y comente\n"
      ]
    },
    {
      "cell_type": "code",
      "metadata": {
        "id": "d2HxXAiNA8q9"
      },
      "source": [
        "df['apodo']"
      ],
      "execution_count": null,
      "outputs": []
    },
    {
      "cell_type": "markdown",
      "metadata": {
        "id": "j9dDpJXoB_Z6"
      },
      "source": [
        "![texto alternativo](https://www.notion.so/image/https%3A%2F%2Fs3-us-west-2.amazonaws.com%2Fsecure.notion-static.com%2F29ce407a-d926-42a9-8d24-004f6db9d023%2FUntitled.png?table=block&id=13a80d40-5ce2-4f36-baae-5015dcee08d3&spaceId=62aa27de-48fd-4703-8a40-2de64b627b11&width=680&userId=&cache=v2)\n",
        "\n",
        "\n",
        "Viendo la hoja de cálculo\n",
        "![texto alternativo](https://www.notion.so/image/https%3A%2F%2Fs3-us-west-2.amazonaws.com%2Fsecure.notion-static.com%2F907d5466-1e8b-4150-9ea0-948fe23b99dd%2FUntitled.png?table=block&id=944b732c-caa2-4993-a794-9c5036ccd060&spaceId=62aa27de-48fd-4703-8a40-2de64b627b11&width=2490&userId=&cache=v2)"
      ]
    },
    {
      "cell_type": "markdown",
      "metadata": {
        "id": "B7TyB8EKCRE-"
      },
      "source": [
        "## 04 **Primer desafío** 🕵️‍♀️ : Deberemos reemplazar los valores NaN en la columna \"apodo\" por el nombre concatenado con el apellido, siguiendo estas condiciones:\n",
        "\n",
        "1.   Hallar las posiciones donde aparecen los NaN\n",
        "2.   De la columna nombre si la longitud ≤5 completar el apodo con el nombre\n",
        "3.   Si la longitud del nombre es >5 tomar las 4 primeras letras y concatenar con las 2 primeras letras del apellido\n",
        "\n"
      ]
    },
    {
      "cell_type": "markdown",
      "metadata": {
        "id": "B2VNb6WKDno-"
      },
      "source": [
        "### 04.01 posiciones donde aparecen NaN"
      ]
    },
    {
      "cell_type": "code",
      "metadata": {
        "colab": {
          "base_uri": "https://localhost:8080/"
        },
        "id": "lYNffXbHsI3Y",
        "outputId": "d6d377b0-6066-484a-cc4f-a13804454fc3"
      },
      "source": [
        "pd.isna(df[\"apodo\"])"
      ],
      "execution_count": null,
      "outputs": [
        {
          "output_type": "execute_result",
          "data": {
            "text/plain": [
              "0    False\n",
              "1    False\n",
              "2    False\n",
              "3     True\n",
              "4     True\n",
              "5     True\n",
              "6     True\n",
              "7    False\n",
              "8    False\n",
              "9     True\n",
              "Name: apodo, dtype: bool"
            ]
          },
          "metadata": {
            "tags": []
          },
          "execution_count": 27
        }
      ]
    },
    {
      "cell_type": "code",
      "metadata": {
        "colab": {
          "base_uri": "https://localhost:8080/"
        },
        "id": "l3MDHjSBD_ig",
        "outputId": "ceee90b5-39a9-4415-c13f-218944da7aab"
      },
      "source": [
        "df.loc[pd.isna(df[\"apodo\"]), :].index\n",
        "# cantidad de NaN en la columna 'apodo'\n",
        "#pd.isna(df[\"apodo\"]).sum()"
      ],
      "execution_count": null,
      "outputs": [
        {
          "output_type": "execute_result",
          "data": {
            "text/plain": [
              "Int64Index([3, 4, 5, 6, 9], dtype='int64')"
            ]
          },
          "metadata": {
            "tags": []
          },
          "execution_count": 28
        }
      ]
    },
    {
      "cell_type": "code",
      "metadata": {
        "colab": {
          "base_uri": "https://localhost:8080/"
        },
        "id": "3-xEHUN6seKK",
        "outputId": "98b8fd34-3922-42d8-93b6-b3bbed898093"
      },
      "source": [
        "pd.isna(df[\"apodo\"]).sum()"
      ],
      "execution_count": null,
      "outputs": [
        {
          "output_type": "execute_result",
          "data": {
            "text/plain": [
              "5"
            ]
          },
          "metadata": {
            "tags": []
          },
          "execution_count": 29
        }
      ]
    },
    {
      "cell_type": "markdown",
      "metadata": {
        "id": "VEsurdCVEUW8"
      },
      "source": [
        "### 04.02 Veamos los puntos 2 y 3 del primer desafío, para la\n",
        "\n",
        "---\n",
        "\n",
        "posición 3\n"
      ]
    },
    {
      "cell_type": "code",
      "metadata": {
        "colab": {
          "base_uri": "https://localhost:8080/",
          "height": 359
        },
        "id": "Y9wNeUY4sqPl",
        "outputId": "4043f30f-cb94-4a26-800d-35f5ca49cf52"
      },
      "source": [
        "df"
      ],
      "execution_count": null,
      "outputs": [
        {
          "output_type": "execute_result",
          "data": {
            "text/html": [
              "<div>\n",
              "<style scoped>\n",
              "    .dataframe tbody tr th:only-of-type {\n",
              "        vertical-align: middle;\n",
              "    }\n",
              "\n",
              "    .dataframe tbody tr th {\n",
              "        vertical-align: top;\n",
              "    }\n",
              "\n",
              "    .dataframe thead th {\n",
              "        text-align: right;\n",
              "    }\n",
              "</style>\n",
              "<table border=\"1\" class=\"dataframe\">\n",
              "  <thead>\n",
              "    <tr style=\"text-align: right;\">\n",
              "      <th></th>\n",
              "      <th>nombre</th>\n",
              "      <th>apellido</th>\n",
              "      <th>apodo</th>\n",
              "      <th>edad</th>\n",
              "      <th>level</th>\n",
              "      <th>nacimiento</th>\n",
              "    </tr>\n",
              "  </thead>\n",
              "  <tbody>\n",
              "    <tr>\n",
              "      <th>0</th>\n",
              "      <td>Jose Maria</td>\n",
              "      <td>Vallorani</td>\n",
              "      <td>JoseMa</td>\n",
              "      <td>20</td>\n",
              "      <td>Mucho</td>\n",
              "      <td>1900</td>\n",
              "    </tr>\n",
              "    <tr>\n",
              "      <th>1</th>\n",
              "      <td>Maria-Ines</td>\n",
              "      <td>Orellana</td>\n",
              "      <td>Maru</td>\n",
              "      <td>78</td>\n",
              "      <td>Algo</td>\n",
              "      <td>1942</td>\n",
              "    </tr>\n",
              "    <tr>\n",
              "      <th>2</th>\n",
              "      <td>Agustin</td>\n",
              "      <td>Bonilla</td>\n",
              "      <td>Tincho</td>\n",
              "      <td>31</td>\n",
              "      <td>Bastante</td>\n",
              "      <td>1989</td>\n",
              "    </tr>\n",
              "    <tr>\n",
              "      <th>3</th>\n",
              "      <td>Ioan</td>\n",
              "      <td>Cervera</td>\n",
              "      <td>NaN</td>\n",
              "      <td>23</td>\n",
              "      <td>Mucho</td>\n",
              "      <td>1997</td>\n",
              "    </tr>\n",
              "    <tr>\n",
              "      <th>4</th>\n",
              "      <td>Avelina</td>\n",
              "      <td>Haro</td>\n",
              "      <td>NaN</td>\n",
              "      <td>34</td>\n",
              "      <td>Mucho</td>\n",
              "      <td>1986</td>\n",
              "    </tr>\n",
              "    <tr>\n",
              "      <th>5</th>\n",
              "      <td>Anastasia</td>\n",
              "      <td>Picazo</td>\n",
              "      <td>NaN</td>\n",
              "      <td>78</td>\n",
              "      <td>Nada</td>\n",
              "      <td>1942</td>\n",
              "    </tr>\n",
              "    <tr>\n",
              "      <th>6</th>\n",
              "      <td>Yaiza</td>\n",
              "      <td>Oliver</td>\n",
              "      <td>NaN</td>\n",
              "      <td>22</td>\n",
              "      <td>Algo</td>\n",
              "      <td>1995</td>\n",
              "    </tr>\n",
              "    <tr>\n",
              "      <th>7</th>\n",
              "      <td>Arturo</td>\n",
              "      <td>Sanchez</td>\n",
              "      <td>Rey</td>\n",
              "      <td>19</td>\n",
              "      <td>Bastante</td>\n",
              "      <td>2001</td>\n",
              "    </tr>\n",
              "    <tr>\n",
              "      <th>8</th>\n",
              "      <td>Jose</td>\n",
              "      <td>Casas</td>\n",
              "      <td>Pepe</td>\n",
              "      <td>22</td>\n",
              "      <td>Mucho</td>\n",
              "      <td>1998</td>\n",
              "    </tr>\n",
              "    <tr>\n",
              "      <th>9</th>\n",
              "      <td>Cristian</td>\n",
              "      <td>Verdugo</td>\n",
              "      <td>NaN</td>\n",
              "      <td>21</td>\n",
              "      <td>Mucho</td>\n",
              "      <td>1999</td>\n",
              "    </tr>\n",
              "  </tbody>\n",
              "</table>\n",
              "</div>"
            ],
            "text/plain": [
              "       nombre   apellido   apodo  edad     level  nacimiento\n",
              "0  Jose Maria  Vallorani  JoseMa    20     Mucho        1900\n",
              "1  Maria-Ines   Orellana    Maru    78      Algo        1942\n",
              "2     Agustin    Bonilla  Tincho    31  Bastante        1989\n",
              "3        Ioan    Cervera     NaN    23     Mucho        1997\n",
              "4     Avelina       Haro     NaN    34     Mucho        1986\n",
              "5   Anastasia     Picazo     NaN    78      Nada        1942\n",
              "6       Yaiza     Oliver     NaN    22      Algo        1995\n",
              "7      Arturo    Sanchez     Rey    19  Bastante        2001\n",
              "8        Jose      Casas    Pepe    22     Mucho        1998\n",
              "9   Cristian     Verdugo     NaN    21     Mucho        1999"
            ]
          },
          "metadata": {
            "tags": []
          },
          "execution_count": 30
        }
      ]
    },
    {
      "cell_type": "code",
      "metadata": {
        "colab": {
          "base_uri": "https://localhost:8080/",
          "height": 35
        },
        "id": "gSDgY54RFGlB",
        "outputId": "31409fe0-7517-4cf7-d329-86b1d0f26373"
      },
      "source": [
        "df['nombre'][3]"
      ],
      "execution_count": null,
      "outputs": [
        {
          "output_type": "execute_result",
          "data": {
            "application/vnd.google.colaboratory.intrinsic+json": {
              "type": "string"
            },
            "text/plain": [
              "'Ioan'"
            ]
          },
          "metadata": {
            "tags": []
          },
          "execution_count": 31
        }
      ]
    },
    {
      "cell_type": "code",
      "metadata": {
        "colab": {
          "base_uri": "https://localhost:8080/"
        },
        "id": "bcYSFoEeFOwV",
        "outputId": "1fcde710-7fe7-4271-ee38-2e48058997b5"
      },
      "source": [
        "len(df['nombre'][3])"
      ],
      "execution_count": null,
      "outputs": [
        {
          "output_type": "execute_result",
          "data": {
            "text/plain": [
              "4"
            ]
          },
          "metadata": {
            "tags": []
          },
          "execution_count": 32
        }
      ]
    },
    {
      "cell_type": "markdown",
      "metadata": {
        "id": "VlfL-KbaFXqg"
      },
      "source": [
        "#### 04.02.01 Actulizar el valor de una celda df.at[index,'columna'] = 'nuevo valor'"
      ]
    },
    {
      "cell_type": "code",
      "metadata": {
        "colab": {
          "base_uri": "https://localhost:8080/",
          "height": 359
        },
        "id": "ToRzgCkLFlvO",
        "outputId": "ad05ea87-ec4b-42d5-add8-242c89d93137"
      },
      "source": [
        "df.at[3, 'apodo'] = 'Ioan'\n",
        "df"
      ],
      "execution_count": null,
      "outputs": [
        {
          "output_type": "execute_result",
          "data": {
            "text/html": [
              "<div>\n",
              "<style scoped>\n",
              "    .dataframe tbody tr th:only-of-type {\n",
              "        vertical-align: middle;\n",
              "    }\n",
              "\n",
              "    .dataframe tbody tr th {\n",
              "        vertical-align: top;\n",
              "    }\n",
              "\n",
              "    .dataframe thead th {\n",
              "        text-align: right;\n",
              "    }\n",
              "</style>\n",
              "<table border=\"1\" class=\"dataframe\">\n",
              "  <thead>\n",
              "    <tr style=\"text-align: right;\">\n",
              "      <th></th>\n",
              "      <th>nombre</th>\n",
              "      <th>apellido</th>\n",
              "      <th>apodo</th>\n",
              "      <th>edad</th>\n",
              "      <th>level</th>\n",
              "      <th>nacimiento</th>\n",
              "    </tr>\n",
              "  </thead>\n",
              "  <tbody>\n",
              "    <tr>\n",
              "      <th>0</th>\n",
              "      <td>Jose Maria</td>\n",
              "      <td>Vallorani</td>\n",
              "      <td>JoseMa</td>\n",
              "      <td>20</td>\n",
              "      <td>Mucho</td>\n",
              "      <td>1900</td>\n",
              "    </tr>\n",
              "    <tr>\n",
              "      <th>1</th>\n",
              "      <td>Maria-Ines</td>\n",
              "      <td>Orellana</td>\n",
              "      <td>Maru</td>\n",
              "      <td>78</td>\n",
              "      <td>Algo</td>\n",
              "      <td>1942</td>\n",
              "    </tr>\n",
              "    <tr>\n",
              "      <th>2</th>\n",
              "      <td>Agustin</td>\n",
              "      <td>Bonilla</td>\n",
              "      <td>Tincho</td>\n",
              "      <td>31</td>\n",
              "      <td>Bastante</td>\n",
              "      <td>1989</td>\n",
              "    </tr>\n",
              "    <tr>\n",
              "      <th>3</th>\n",
              "      <td>Ioan</td>\n",
              "      <td>Cervera</td>\n",
              "      <td>Ioan</td>\n",
              "      <td>23</td>\n",
              "      <td>Mucho</td>\n",
              "      <td>1997</td>\n",
              "    </tr>\n",
              "    <tr>\n",
              "      <th>4</th>\n",
              "      <td>Avelina</td>\n",
              "      <td>Haro</td>\n",
              "      <td>NaN</td>\n",
              "      <td>34</td>\n",
              "      <td>Mucho</td>\n",
              "      <td>1986</td>\n",
              "    </tr>\n",
              "    <tr>\n",
              "      <th>5</th>\n",
              "      <td>Anastasia</td>\n",
              "      <td>Picazo</td>\n",
              "      <td>NaN</td>\n",
              "      <td>78</td>\n",
              "      <td>Nada</td>\n",
              "      <td>1942</td>\n",
              "    </tr>\n",
              "    <tr>\n",
              "      <th>6</th>\n",
              "      <td>Yaiza</td>\n",
              "      <td>Oliver</td>\n",
              "      <td>NaN</td>\n",
              "      <td>22</td>\n",
              "      <td>Algo</td>\n",
              "      <td>1995</td>\n",
              "    </tr>\n",
              "    <tr>\n",
              "      <th>7</th>\n",
              "      <td>Arturo</td>\n",
              "      <td>Sanchez</td>\n",
              "      <td>Rey</td>\n",
              "      <td>19</td>\n",
              "      <td>Bastante</td>\n",
              "      <td>2001</td>\n",
              "    </tr>\n",
              "    <tr>\n",
              "      <th>8</th>\n",
              "      <td>Jose</td>\n",
              "      <td>Casas</td>\n",
              "      <td>Pepe</td>\n",
              "      <td>22</td>\n",
              "      <td>Mucho</td>\n",
              "      <td>1998</td>\n",
              "    </tr>\n",
              "    <tr>\n",
              "      <th>9</th>\n",
              "      <td>Cristian</td>\n",
              "      <td>Verdugo</td>\n",
              "      <td>NaN</td>\n",
              "      <td>21</td>\n",
              "      <td>Mucho</td>\n",
              "      <td>1999</td>\n",
              "    </tr>\n",
              "  </tbody>\n",
              "</table>\n",
              "</div>"
            ],
            "text/plain": [
              "       nombre   apellido   apodo  edad     level  nacimiento\n",
              "0  Jose Maria  Vallorani  JoseMa    20     Mucho        1900\n",
              "1  Maria-Ines   Orellana    Maru    78      Algo        1942\n",
              "2     Agustin    Bonilla  Tincho    31  Bastante        1989\n",
              "3        Ioan    Cervera    Ioan    23     Mucho        1997\n",
              "4     Avelina       Haro     NaN    34     Mucho        1986\n",
              "5   Anastasia     Picazo     NaN    78      Nada        1942\n",
              "6       Yaiza     Oliver     NaN    22      Algo        1995\n",
              "7      Arturo    Sanchez     Rey    19  Bastante        2001\n",
              "8        Jose      Casas    Pepe    22     Mucho        1998\n",
              "9   Cristian     Verdugo     NaN    21     Mucho        1999"
            ]
          },
          "metadata": {
            "tags": []
          },
          "execution_count": 33
        }
      ]
    },
    {
      "cell_type": "markdown",
      "metadata": {
        "id": "XheeVfknFyTD"
      },
      "source": [
        "#### 04.02.02 Veamos los puntos 2 y 3 del primer desafío, para la posición 4"
      ]
    },
    {
      "cell_type": "code",
      "metadata": {
        "colab": {
          "base_uri": "https://localhost:8080/",
          "height": 35
        },
        "id": "Bo7Ls_JGF2B5",
        "outputId": "1bee5ed2-1972-439f-8953-8d88b02921c4"
      },
      "source": [
        "df['nombre'][4]"
      ],
      "execution_count": null,
      "outputs": [
        {
          "output_type": "execute_result",
          "data": {
            "application/vnd.google.colaboratory.intrinsic+json": {
              "type": "string"
            },
            "text/plain": [
              "'Avelina'"
            ]
          },
          "metadata": {
            "tags": []
          },
          "execution_count": 34
        }
      ]
    },
    {
      "cell_type": "code",
      "metadata": {
        "colab": {
          "base_uri": "https://localhost:8080/"
        },
        "id": "p66_LvCMF3pw",
        "outputId": "eaa0503e-9d49-4a24-d737-f7d46235cbb7"
      },
      "source": [
        "len(df['nombre'][4])"
      ],
      "execution_count": null,
      "outputs": [
        {
          "output_type": "execute_result",
          "data": {
            "text/plain": [
              "7"
            ]
          },
          "metadata": {
            "tags": []
          },
          "execution_count": 35
        }
      ]
    },
    {
      "cell_type": "code",
      "metadata": {
        "colab": {
          "base_uri": "https://localhost:8080/"
        },
        "id": "9sMvhznKGAfQ",
        "outputId": "13924d10-22b5-40d3-d5c2-44ad360a05c2"
      },
      "source": [
        "## Avelina => longitud 7 => solo usar los 4 valores"
      ],
      "execution_count": null,
      "outputs": [
        {
          "output_type": "execute_result",
          "data": {
            "text/plain": [
              "nombre                Jose Maria\n",
              "Apellido               Vallorani\n",
              "apodo                     JoseMa\n",
              "edad                          20\n",
              "level                      Mucho\n",
              "Año de Nacimiento           1900\n",
              "Name: 0, dtype: object"
            ]
          },
          "metadata": {
            "tags": []
          },
          "execution_count": 44
        }
      ]
    },
    {
      "cell_type": "code",
      "metadata": {
        "colab": {
          "base_uri": "https://localhost:8080/"
        },
        "id": "BWQ2NM7_Glsd",
        "outputId": "362364e0-f398-4904-dc66-344bd2d467e5"
      },
      "source": [
        "len(df['apellido'][4])"
      ],
      "execution_count": null,
      "outputs": [
        {
          "output_type": "execute_result",
          "data": {
            "text/plain": [
              "4"
            ]
          },
          "metadata": {
            "tags": []
          },
          "execution_count": 36
        }
      ]
    },
    {
      "cell_type": "markdown",
      "metadata": {
        "id": "_1lzBxnaHTDN"
      },
      "source": [
        "#### 04.02.03 Recordemos ... strings"
      ]
    },
    {
      "cell_type": "code",
      "metadata": {
        "colab": {
          "base_uri": "https://localhost:8080/"
        },
        "id": "-Kb3AWw9HJ1Q",
        "outputId": "fa0f2c1a-c84c-4c69-b99d-b19efaec0ad9"
      },
      "source": [
        "var_nombre = df['nombre'][4] # posición 4\n",
        "print(var_nombre)\n"
      ],
      "execution_count": null,
      "outputs": [
        {
          "output_type": "stream",
          "text": [
            "Avelina\n"
          ],
          "name": "stdout"
        }
      ]
    },
    {
      "cell_type": "code",
      "metadata": {
        "colab": {
          "base_uri": "https://localhost:8080/",
          "height": 35
        },
        "id": "RlThiTCMtWNE",
        "outputId": "980551a0-671e-48df-a403-420bd9102592"
      },
      "source": [
        "var_nombre[0:4]"
      ],
      "execution_count": null,
      "outputs": [
        {
          "output_type": "execute_result",
          "data": {
            "application/vnd.google.colaboratory.intrinsic+json": {
              "type": "string"
            },
            "text/plain": [
              "'Avel'"
            ]
          },
          "metadata": {
            "tags": []
          },
          "execution_count": 38
        }
      ]
    },
    {
      "cell_type": "code",
      "metadata": {
        "colab": {
          "base_uri": "https://localhost:8080/"
        },
        "id": "57btBTwQHkGL",
        "outputId": "3a405cea-cb11-4201-ce1f-4ece9befacac"
      },
      "source": [
        "## Todo junto y concatenando nos queda\n",
        "var_nombre = df['nombre'][4][0:4] # solo tomo 4 letras\n",
        "var_apellido = df['apellido'][4][0:2] # solo tomo 2 letras\n",
        "\n",
        "print(var_nombre)\n",
        "print(var_apellido)\n",
        "## Concatenamos\n",
        "var_apodo = var_nombre + var_apellido\n",
        "print(\"--------\")\n",
        "print(var_apodo)"
      ],
      "execution_count": null,
      "outputs": [
        {
          "output_type": "stream",
          "text": [
            "Avel\n",
            "Ha\n",
            "--------\n",
            "AvelHa\n"
          ],
          "name": "stdout"
        }
      ]
    },
    {
      "cell_type": "markdown",
      "metadata": {
        "id": "pVK8vY12H37_"
      },
      "source": [
        "#### 04.02.04 Strings + pandas a full 🧙‍♂️"
      ]
    },
    {
      "cell_type": "code",
      "metadata": {
        "colab": {
          "base_uri": "https://localhost:8080/",
          "height": 35
        },
        "id": "csUeL3eKIEd1",
        "outputId": "ebaa9e7b-2259-445c-b84b-20b628fd15d4"
      },
      "source": [
        "var_apodo = df['nombre'][4][0:4]+df['apellido'][4][0:2]\n",
        "var_apodo"
      ],
      "execution_count": null,
      "outputs": [
        {
          "output_type": "execute_result",
          "data": {
            "application/vnd.google.colaboratory.intrinsic+json": {
              "type": "string"
            },
            "text/plain": [
              "'AvelHa'"
            ]
          },
          "metadata": {
            "tags": []
          },
          "execution_count": 40
        }
      ]
    },
    {
      "cell_type": "code",
      "metadata": {
        "colab": {
          "base_uri": "https://localhost:8080/",
          "height": 359
        },
        "id": "zJ2DlpivuA4K",
        "outputId": "476dbf96-35c4-4e05-e06c-78690b786e18"
      },
      "source": [
        "df"
      ],
      "execution_count": null,
      "outputs": [
        {
          "output_type": "execute_result",
          "data": {
            "text/html": [
              "<div>\n",
              "<style scoped>\n",
              "    .dataframe tbody tr th:only-of-type {\n",
              "        vertical-align: middle;\n",
              "    }\n",
              "\n",
              "    .dataframe tbody tr th {\n",
              "        vertical-align: top;\n",
              "    }\n",
              "\n",
              "    .dataframe thead th {\n",
              "        text-align: right;\n",
              "    }\n",
              "</style>\n",
              "<table border=\"1\" class=\"dataframe\">\n",
              "  <thead>\n",
              "    <tr style=\"text-align: right;\">\n",
              "      <th></th>\n",
              "      <th>nombre</th>\n",
              "      <th>apellido</th>\n",
              "      <th>apodo</th>\n",
              "      <th>edad</th>\n",
              "      <th>level</th>\n",
              "      <th>nacimiento</th>\n",
              "    </tr>\n",
              "  </thead>\n",
              "  <tbody>\n",
              "    <tr>\n",
              "      <th>0</th>\n",
              "      <td>Jose Maria</td>\n",
              "      <td>Vallorani</td>\n",
              "      <td>JoseMa</td>\n",
              "      <td>20</td>\n",
              "      <td>Mucho</td>\n",
              "      <td>1900</td>\n",
              "    </tr>\n",
              "    <tr>\n",
              "      <th>1</th>\n",
              "      <td>Maria-Ines</td>\n",
              "      <td>Orellana</td>\n",
              "      <td>Maru</td>\n",
              "      <td>78</td>\n",
              "      <td>Algo</td>\n",
              "      <td>1942</td>\n",
              "    </tr>\n",
              "    <tr>\n",
              "      <th>2</th>\n",
              "      <td>Agustin</td>\n",
              "      <td>Bonilla</td>\n",
              "      <td>Tincho</td>\n",
              "      <td>31</td>\n",
              "      <td>Bastante</td>\n",
              "      <td>1989</td>\n",
              "    </tr>\n",
              "    <tr>\n",
              "      <th>3</th>\n",
              "      <td>Ioan</td>\n",
              "      <td>Cervera</td>\n",
              "      <td>Ioan</td>\n",
              "      <td>23</td>\n",
              "      <td>Mucho</td>\n",
              "      <td>1997</td>\n",
              "    </tr>\n",
              "    <tr>\n",
              "      <th>4</th>\n",
              "      <td>Avelina</td>\n",
              "      <td>Haro</td>\n",
              "      <td>NaN</td>\n",
              "      <td>34</td>\n",
              "      <td>Mucho</td>\n",
              "      <td>1986</td>\n",
              "    </tr>\n",
              "    <tr>\n",
              "      <th>5</th>\n",
              "      <td>Anastasia</td>\n",
              "      <td>Picazo</td>\n",
              "      <td>NaN</td>\n",
              "      <td>78</td>\n",
              "      <td>Nada</td>\n",
              "      <td>1942</td>\n",
              "    </tr>\n",
              "    <tr>\n",
              "      <th>6</th>\n",
              "      <td>Yaiza</td>\n",
              "      <td>Oliver</td>\n",
              "      <td>NaN</td>\n",
              "      <td>22</td>\n",
              "      <td>Algo</td>\n",
              "      <td>1995</td>\n",
              "    </tr>\n",
              "    <tr>\n",
              "      <th>7</th>\n",
              "      <td>Arturo</td>\n",
              "      <td>Sanchez</td>\n",
              "      <td>Rey</td>\n",
              "      <td>19</td>\n",
              "      <td>Bastante</td>\n",
              "      <td>2001</td>\n",
              "    </tr>\n",
              "    <tr>\n",
              "      <th>8</th>\n",
              "      <td>Jose</td>\n",
              "      <td>Casas</td>\n",
              "      <td>Pepe</td>\n",
              "      <td>22</td>\n",
              "      <td>Mucho</td>\n",
              "      <td>1998</td>\n",
              "    </tr>\n",
              "    <tr>\n",
              "      <th>9</th>\n",
              "      <td>Cristian</td>\n",
              "      <td>Verdugo</td>\n",
              "      <td>NaN</td>\n",
              "      <td>21</td>\n",
              "      <td>Mucho</td>\n",
              "      <td>1999</td>\n",
              "    </tr>\n",
              "  </tbody>\n",
              "</table>\n",
              "</div>"
            ],
            "text/plain": [
              "       nombre   apellido   apodo  edad     level  nacimiento\n",
              "0  Jose Maria  Vallorani  JoseMa    20     Mucho        1900\n",
              "1  Maria-Ines   Orellana    Maru    78      Algo        1942\n",
              "2     Agustin    Bonilla  Tincho    31  Bastante        1989\n",
              "3        Ioan    Cervera    Ioan    23     Mucho        1997\n",
              "4     Avelina       Haro     NaN    34     Mucho        1986\n",
              "5   Anastasia     Picazo     NaN    78      Nada        1942\n",
              "6       Yaiza     Oliver     NaN    22      Algo        1995\n",
              "7      Arturo    Sanchez     Rey    19  Bastante        2001\n",
              "8        Jose      Casas    Pepe    22     Mucho        1998\n",
              "9   Cristian     Verdugo     NaN    21     Mucho        1999"
            ]
          },
          "metadata": {
            "tags": []
          },
          "execution_count": 41
        }
      ]
    },
    {
      "cell_type": "code",
      "metadata": {
        "colab": {
          "base_uri": "https://localhost:8080/",
          "height": 359
        },
        "id": "UuQmK3FlIN9h",
        "outputId": "b935b6ac-cc13-4ef0-a67e-b6fec273eba2"
      },
      "source": [
        "## y para finalizar este ejemplo a mano ...\n",
        "df.at[4, 'apodo'] = var_apodo\n",
        "df"
      ],
      "execution_count": null,
      "outputs": [
        {
          "output_type": "execute_result",
          "data": {
            "text/html": [
              "<div>\n",
              "<style scoped>\n",
              "    .dataframe tbody tr th:only-of-type {\n",
              "        vertical-align: middle;\n",
              "    }\n",
              "\n",
              "    .dataframe tbody tr th {\n",
              "        vertical-align: top;\n",
              "    }\n",
              "\n",
              "    .dataframe thead th {\n",
              "        text-align: right;\n",
              "    }\n",
              "</style>\n",
              "<table border=\"1\" class=\"dataframe\">\n",
              "  <thead>\n",
              "    <tr style=\"text-align: right;\">\n",
              "      <th></th>\n",
              "      <th>nombre</th>\n",
              "      <th>apellido</th>\n",
              "      <th>apodo</th>\n",
              "      <th>edad</th>\n",
              "      <th>level</th>\n",
              "      <th>nacimiento</th>\n",
              "    </tr>\n",
              "  </thead>\n",
              "  <tbody>\n",
              "    <tr>\n",
              "      <th>0</th>\n",
              "      <td>Jose Maria</td>\n",
              "      <td>Vallorani</td>\n",
              "      <td>JoseMa</td>\n",
              "      <td>20</td>\n",
              "      <td>Mucho</td>\n",
              "      <td>1900</td>\n",
              "    </tr>\n",
              "    <tr>\n",
              "      <th>1</th>\n",
              "      <td>Maria-Ines</td>\n",
              "      <td>Orellana</td>\n",
              "      <td>Maru</td>\n",
              "      <td>78</td>\n",
              "      <td>Algo</td>\n",
              "      <td>1942</td>\n",
              "    </tr>\n",
              "    <tr>\n",
              "      <th>2</th>\n",
              "      <td>Agustin</td>\n",
              "      <td>Bonilla</td>\n",
              "      <td>Tincho</td>\n",
              "      <td>31</td>\n",
              "      <td>Bastante</td>\n",
              "      <td>1989</td>\n",
              "    </tr>\n",
              "    <tr>\n",
              "      <th>3</th>\n",
              "      <td>Ioan</td>\n",
              "      <td>Cervera</td>\n",
              "      <td>Ioan</td>\n",
              "      <td>23</td>\n",
              "      <td>Mucho</td>\n",
              "      <td>1997</td>\n",
              "    </tr>\n",
              "    <tr>\n",
              "      <th>4</th>\n",
              "      <td>Avelina</td>\n",
              "      <td>Haro</td>\n",
              "      <td>AvelHa</td>\n",
              "      <td>34</td>\n",
              "      <td>Mucho</td>\n",
              "      <td>1986</td>\n",
              "    </tr>\n",
              "    <tr>\n",
              "      <th>5</th>\n",
              "      <td>Anastasia</td>\n",
              "      <td>Picazo</td>\n",
              "      <td>NaN</td>\n",
              "      <td>78</td>\n",
              "      <td>Nada</td>\n",
              "      <td>1942</td>\n",
              "    </tr>\n",
              "    <tr>\n",
              "      <th>6</th>\n",
              "      <td>Yaiza</td>\n",
              "      <td>Oliver</td>\n",
              "      <td>NaN</td>\n",
              "      <td>22</td>\n",
              "      <td>Algo</td>\n",
              "      <td>1995</td>\n",
              "    </tr>\n",
              "    <tr>\n",
              "      <th>7</th>\n",
              "      <td>Arturo</td>\n",
              "      <td>Sanchez</td>\n",
              "      <td>Rey</td>\n",
              "      <td>19</td>\n",
              "      <td>Bastante</td>\n",
              "      <td>2001</td>\n",
              "    </tr>\n",
              "    <tr>\n",
              "      <th>8</th>\n",
              "      <td>Jose</td>\n",
              "      <td>Casas</td>\n",
              "      <td>Pepe</td>\n",
              "      <td>22</td>\n",
              "      <td>Mucho</td>\n",
              "      <td>1998</td>\n",
              "    </tr>\n",
              "    <tr>\n",
              "      <th>9</th>\n",
              "      <td>Cristian</td>\n",
              "      <td>Verdugo</td>\n",
              "      <td>NaN</td>\n",
              "      <td>21</td>\n",
              "      <td>Mucho</td>\n",
              "      <td>1999</td>\n",
              "    </tr>\n",
              "  </tbody>\n",
              "</table>\n",
              "</div>"
            ],
            "text/plain": [
              "       nombre   apellido   apodo  edad     level  nacimiento\n",
              "0  Jose Maria  Vallorani  JoseMa    20     Mucho        1900\n",
              "1  Maria-Ines   Orellana    Maru    78      Algo        1942\n",
              "2     Agustin    Bonilla  Tincho    31  Bastante        1989\n",
              "3        Ioan    Cervera    Ioan    23     Mucho        1997\n",
              "4     Avelina       Haro  AvelHa    34     Mucho        1986\n",
              "5   Anastasia     Picazo     NaN    78      Nada        1942\n",
              "6       Yaiza     Oliver     NaN    22      Algo        1995\n",
              "7      Arturo    Sanchez     Rey    19  Bastante        2001\n",
              "8        Jose      Casas    Pepe    22     Mucho        1998\n",
              "9   Cristian     Verdugo     NaN    21     Mucho        1999"
            ]
          },
          "metadata": {
            "tags": []
          },
          "execution_count": 42
        }
      ]
    },
    {
      "cell_type": "code",
      "metadata": {
        "id": "eYe7OTIsMUPj"
      },
      "source": [],
      "execution_count": null,
      "outputs": []
    },
    {
      "cell_type": "markdown",
      "metadata": {
        "id": "9HEWBFuILwDn"
      },
      "source": []
    },
    {
      "cell_type": "markdown",
      "metadata": {
        "id": "d9DqHzz0LoFp"
      },
      "source": [
        "### 04.03 Esquema del primer desafío nos queda:  ![texto alternativo](https://www.notion.so/image/https%3A%2F%2Fs3-us-west-2.amazonaws.com%2Fsecure.notion-static.com%2F444a628e-0543-47f5-8c17-9862a9a1b455%2FUntitled.png?table=block&id=065092b2-74b7-4c08-a469-db7f94ef0f6d&spaceId=62aa27de-48fd-4703-8a40-2de64b627b11&width=1860&userId=&cache=v2)"
      ]
    },
    {
      "cell_type": "markdown",
      "metadata": {
        "id": "BJ1uDGTcMnKY"
      },
      "source": [
        "#### 04.03.01 Recordemos el ciclo for"
      ]
    },
    {
      "cell_type": "code",
      "metadata": {
        "colab": {
          "base_uri": "https://localhost:8080/"
        },
        "id": "RFBUZlBCMYgQ",
        "outputId": "125c4327-728a-446b-8d2a-720b12b65e7a"
      },
      "source": [
        "filas = df.shape[0]\n",
        "for i in range(0,filas):\n",
        "  if(pd.isna(df[\"apodo\"][i])): # pd.isna()\n",
        "    print(i)\n",
        "    print(\"es NaN\")\n",
        "#solo aparecen 5,6,9 ya que actualizamos los índices 3 y 4"
      ],
      "execution_count": null,
      "outputs": [
        {
          "output_type": "stream",
          "text": [
            "5\n",
            "es NaN\n",
            "6\n",
            "es NaN\n",
            "9\n",
            "es NaN\n"
          ],
          "name": "stdout"
        }
      ]
    },
    {
      "cell_type": "code",
      "metadata": {
        "colab": {
          "base_uri": "https://localhost:8080/",
          "height": 359
        },
        "id": "z0IMq_IMuzKq",
        "outputId": "de1cb160-1deb-4f56-b502-27b0a2d0d016"
      },
      "source": [
        "df"
      ],
      "execution_count": null,
      "outputs": [
        {
          "output_type": "execute_result",
          "data": {
            "text/html": [
              "<div>\n",
              "<style scoped>\n",
              "    .dataframe tbody tr th:only-of-type {\n",
              "        vertical-align: middle;\n",
              "    }\n",
              "\n",
              "    .dataframe tbody tr th {\n",
              "        vertical-align: top;\n",
              "    }\n",
              "\n",
              "    .dataframe thead th {\n",
              "        text-align: right;\n",
              "    }\n",
              "</style>\n",
              "<table border=\"1\" class=\"dataframe\">\n",
              "  <thead>\n",
              "    <tr style=\"text-align: right;\">\n",
              "      <th></th>\n",
              "      <th>nombre</th>\n",
              "      <th>apellido</th>\n",
              "      <th>apodo</th>\n",
              "      <th>edad</th>\n",
              "      <th>level</th>\n",
              "      <th>nacimiento</th>\n",
              "    </tr>\n",
              "  </thead>\n",
              "  <tbody>\n",
              "    <tr>\n",
              "      <th>0</th>\n",
              "      <td>Jose Maria</td>\n",
              "      <td>Vallorani</td>\n",
              "      <td>JoseMa</td>\n",
              "      <td>20</td>\n",
              "      <td>Mucho</td>\n",
              "      <td>1900</td>\n",
              "    </tr>\n",
              "    <tr>\n",
              "      <th>1</th>\n",
              "      <td>Maria-Ines</td>\n",
              "      <td>Orellana</td>\n",
              "      <td>Maru</td>\n",
              "      <td>78</td>\n",
              "      <td>Algo</td>\n",
              "      <td>1942</td>\n",
              "    </tr>\n",
              "    <tr>\n",
              "      <th>2</th>\n",
              "      <td>Agustin</td>\n",
              "      <td>Bonilla</td>\n",
              "      <td>Tincho</td>\n",
              "      <td>31</td>\n",
              "      <td>Bastante</td>\n",
              "      <td>1989</td>\n",
              "    </tr>\n",
              "    <tr>\n",
              "      <th>3</th>\n",
              "      <td>Ioan</td>\n",
              "      <td>Cervera</td>\n",
              "      <td>Ioan</td>\n",
              "      <td>23</td>\n",
              "      <td>Mucho</td>\n",
              "      <td>1997</td>\n",
              "    </tr>\n",
              "    <tr>\n",
              "      <th>4</th>\n",
              "      <td>Avelina</td>\n",
              "      <td>Haro</td>\n",
              "      <td>AvelHa</td>\n",
              "      <td>34</td>\n",
              "      <td>Mucho</td>\n",
              "      <td>1986</td>\n",
              "    </tr>\n",
              "    <tr>\n",
              "      <th>5</th>\n",
              "      <td>Anastasia</td>\n",
              "      <td>Picazo</td>\n",
              "      <td>NaN</td>\n",
              "      <td>78</td>\n",
              "      <td>Nada</td>\n",
              "      <td>1942</td>\n",
              "    </tr>\n",
              "    <tr>\n",
              "      <th>6</th>\n",
              "      <td>Yaiza</td>\n",
              "      <td>Oliver</td>\n",
              "      <td>NaN</td>\n",
              "      <td>22</td>\n",
              "      <td>Algo</td>\n",
              "      <td>1995</td>\n",
              "    </tr>\n",
              "    <tr>\n",
              "      <th>7</th>\n",
              "      <td>Arturo</td>\n",
              "      <td>Sanchez</td>\n",
              "      <td>Rey</td>\n",
              "      <td>19</td>\n",
              "      <td>Bastante</td>\n",
              "      <td>2001</td>\n",
              "    </tr>\n",
              "    <tr>\n",
              "      <th>8</th>\n",
              "      <td>Jose</td>\n",
              "      <td>Casas</td>\n",
              "      <td>Pepe</td>\n",
              "      <td>22</td>\n",
              "      <td>Mucho</td>\n",
              "      <td>1998</td>\n",
              "    </tr>\n",
              "    <tr>\n",
              "      <th>9</th>\n",
              "      <td>Cristian</td>\n",
              "      <td>Verdugo</td>\n",
              "      <td>NaN</td>\n",
              "      <td>21</td>\n",
              "      <td>Mucho</td>\n",
              "      <td>1999</td>\n",
              "    </tr>\n",
              "  </tbody>\n",
              "</table>\n",
              "</div>"
            ],
            "text/plain": [
              "       nombre   apellido   apodo  edad     level  nacimiento\n",
              "0  Jose Maria  Vallorani  JoseMa    20     Mucho        1900\n",
              "1  Maria-Ines   Orellana    Maru    78      Algo        1942\n",
              "2     Agustin    Bonilla  Tincho    31  Bastante        1989\n",
              "3        Ioan    Cervera    Ioan    23     Mucho        1997\n",
              "4     Avelina       Haro  AvelHa    34     Mucho        1986\n",
              "5   Anastasia     Picazo     NaN    78      Nada        1942\n",
              "6       Yaiza     Oliver     NaN    22      Algo        1995\n",
              "7      Arturo    Sanchez     Rey    19  Bastante        2001\n",
              "8        Jose      Casas    Pepe    22     Mucho        1998\n",
              "9   Cristian     Verdugo     NaN    21     Mucho        1999"
            ]
          },
          "metadata": {
            "tags": []
          },
          "execution_count": 44
        }
      ]
    },
    {
      "cell_type": "markdown",
      "metadata": {
        "id": "kT2DQeKrM6Sk"
      },
      "source": [
        "### 04.04 Filnalicemos el desafío 👩‍💻"
      ]
    },
    {
      "cell_type": "code",
      "metadata": {
        "id": "v1b3cJj5u-D3"
      },
      "source": [
        "filas = df.shape[0]\n",
        "for i in range(0,filas):\n",
        "  if(pd.isna(df[\"apodo\"][i])): # pd.isna()\n",
        "    if(len(df['nombre'][i])<=5):\n",
        "      var_apodo = df['nombre'][i]\n",
        "      df.at[i, 'apodo'] = var_apodo\n",
        "    else:\n",
        "      var_apodo = df['nombre'][i][0:4]+df['apellido'][i][0:2]\n",
        "      df.at[i, 'apodo'] = var_apodo\n"
      ],
      "execution_count": null,
      "outputs": []
    },
    {
      "cell_type": "code",
      "metadata": {
        "colab": {
          "base_uri": "https://localhost:8080/",
          "height": 359
        },
        "id": "_Ftt1pyLvY8s",
        "outputId": "c08647bd-cd09-4024-ae74-8217f3cf6a42"
      },
      "source": [
        "df"
      ],
      "execution_count": null,
      "outputs": [
        {
          "output_type": "execute_result",
          "data": {
            "text/html": [
              "<div>\n",
              "<style scoped>\n",
              "    .dataframe tbody tr th:only-of-type {\n",
              "        vertical-align: middle;\n",
              "    }\n",
              "\n",
              "    .dataframe tbody tr th {\n",
              "        vertical-align: top;\n",
              "    }\n",
              "\n",
              "    .dataframe thead th {\n",
              "        text-align: right;\n",
              "    }\n",
              "</style>\n",
              "<table border=\"1\" class=\"dataframe\">\n",
              "  <thead>\n",
              "    <tr style=\"text-align: right;\">\n",
              "      <th></th>\n",
              "      <th>nombre</th>\n",
              "      <th>apellido</th>\n",
              "      <th>apodo</th>\n",
              "      <th>edad</th>\n",
              "      <th>level</th>\n",
              "      <th>nacimiento</th>\n",
              "    </tr>\n",
              "  </thead>\n",
              "  <tbody>\n",
              "    <tr>\n",
              "      <th>0</th>\n",
              "      <td>Jose Maria</td>\n",
              "      <td>Vallorani</td>\n",
              "      <td>JoseMa</td>\n",
              "      <td>20</td>\n",
              "      <td>Mucho</td>\n",
              "      <td>1900</td>\n",
              "    </tr>\n",
              "    <tr>\n",
              "      <th>1</th>\n",
              "      <td>Maria-Ines</td>\n",
              "      <td>Orellana</td>\n",
              "      <td>Maru</td>\n",
              "      <td>78</td>\n",
              "      <td>Algo</td>\n",
              "      <td>1942</td>\n",
              "    </tr>\n",
              "    <tr>\n",
              "      <th>2</th>\n",
              "      <td>Agustin</td>\n",
              "      <td>Bonilla</td>\n",
              "      <td>Tincho</td>\n",
              "      <td>31</td>\n",
              "      <td>Bastante</td>\n",
              "      <td>1989</td>\n",
              "    </tr>\n",
              "    <tr>\n",
              "      <th>3</th>\n",
              "      <td>Ioan</td>\n",
              "      <td>Cervera</td>\n",
              "      <td>Ioan</td>\n",
              "      <td>23</td>\n",
              "      <td>Mucho</td>\n",
              "      <td>1997</td>\n",
              "    </tr>\n",
              "    <tr>\n",
              "      <th>4</th>\n",
              "      <td>Avelina</td>\n",
              "      <td>Haro</td>\n",
              "      <td>AvelHa</td>\n",
              "      <td>34</td>\n",
              "      <td>Mucho</td>\n",
              "      <td>1986</td>\n",
              "    </tr>\n",
              "    <tr>\n",
              "      <th>5</th>\n",
              "      <td>Anastasia</td>\n",
              "      <td>Picazo</td>\n",
              "      <td>AnasPi</td>\n",
              "      <td>78</td>\n",
              "      <td>Nada</td>\n",
              "      <td>1942</td>\n",
              "    </tr>\n",
              "    <tr>\n",
              "      <th>6</th>\n",
              "      <td>Yaiza</td>\n",
              "      <td>Oliver</td>\n",
              "      <td>Yaiza</td>\n",
              "      <td>22</td>\n",
              "      <td>Algo</td>\n",
              "      <td>1995</td>\n",
              "    </tr>\n",
              "    <tr>\n",
              "      <th>7</th>\n",
              "      <td>Arturo</td>\n",
              "      <td>Sanchez</td>\n",
              "      <td>Rey</td>\n",
              "      <td>19</td>\n",
              "      <td>Bastante</td>\n",
              "      <td>2001</td>\n",
              "    </tr>\n",
              "    <tr>\n",
              "      <th>8</th>\n",
              "      <td>Jose</td>\n",
              "      <td>Casas</td>\n",
              "      <td>Pepe</td>\n",
              "      <td>22</td>\n",
              "      <td>Mucho</td>\n",
              "      <td>1998</td>\n",
              "    </tr>\n",
              "    <tr>\n",
              "      <th>9</th>\n",
              "      <td>Cristian</td>\n",
              "      <td>Verdugo</td>\n",
              "      <td>CrisVe</td>\n",
              "      <td>21</td>\n",
              "      <td>Mucho</td>\n",
              "      <td>1999</td>\n",
              "    </tr>\n",
              "  </tbody>\n",
              "</table>\n",
              "</div>"
            ],
            "text/plain": [
              "       nombre   apellido   apodo  edad     level  nacimiento\n",
              "0  Jose Maria  Vallorani  JoseMa    20     Mucho        1900\n",
              "1  Maria-Ines   Orellana    Maru    78      Algo        1942\n",
              "2     Agustin    Bonilla  Tincho    31  Bastante        1989\n",
              "3        Ioan    Cervera    Ioan    23     Mucho        1997\n",
              "4     Avelina       Haro  AvelHa    34     Mucho        1986\n",
              "5   Anastasia     Picazo  AnasPi    78      Nada        1942\n",
              "6       Yaiza     Oliver   Yaiza    22      Algo        1995\n",
              "7      Arturo    Sanchez     Rey    19  Bastante        2001\n",
              "8        Jose      Casas    Pepe    22     Mucho        1998\n",
              "9   Cristian     Verdugo  CrisVe    21     Mucho        1999"
            ]
          },
          "metadata": {
            "tags": []
          },
          "execution_count": 46
        }
      ]
    },
    {
      "cell_type": "markdown",
      "metadata": {
        "id": "IOww1aNiNKga"
      },
      "source": [
        "Las posiciones 5,6 y 9 fueron reemplazadas:\n",
        "\n",
        "\n",
        " ![texto alternativo](https://www.notion.so/image/https%3A%2F%2Fs3-us-west-2.amazonaws.com%2Fsecure.notion-static.com%2Fe7163ee5-fa62-4373-92b4-de50fc86727d%2FUntitled.png?table=block&id=b3f16134-74ae-4c77-9ab8-42fe107524a5&spaceId=62aa27de-48fd-4703-8a40-2de64b627b11&width=1200&userId=&cache=v2)"
      ]
    },
    {
      "cell_type": "markdown",
      "metadata": {
        "id": "iITao8PoNkME"
      },
      "source": [
        "### 05 Segundo desafío: ¿ el año de nacimiento se corresponde con la edad registrada? 👨‍🏫\n",
        "\n",
        "*   Para informarlo cree una nueva columna de nombre 'valido', que contenga TRUE en caso de ser afirmativo y FALSE en caso de negativo\n",
        " ![texto alternativo](https://www.notion.so/image/https%3A%2F%2Fs3-us-west-2.amazonaws.com%2Fsecure.notion-static.com%2F503bdd87-eafd-4e8d-982b-1e1a64aad5f4%2FUntitled.png?table=block&id=47060bb4-9e54-4557-abe3-aad5f77c0671&spaceId=62aa27de-48fd-4703-8a40-2de64b627b11&width=1250&userId=&cache=v2)\n"
      ]
    },
    {
      "cell_type": "code",
      "metadata": {
        "colab": {
          "base_uri": "https://localhost:8080/"
        },
        "id": "p5NOOKvgOMBD",
        "outputId": "3c0a8f2d-b524-4966-c9f3-f4c3d0a3d9f8"
      },
      "source": [
        "# restemos columnas\n",
        "2021-df['edad']-df['nacimiento']"
      ],
      "execution_count": null,
      "outputs": [
        {
          "output_type": "execute_result",
          "data": {
            "text/plain": [
              "0    101\n",
              "1      1\n",
              "2      1\n",
              "3      1\n",
              "4      1\n",
              "5      1\n",
              "6      4\n",
              "7      1\n",
              "8      1\n",
              "9      1\n",
              "dtype: int64"
            ]
          },
          "metadata": {
            "tags": []
          },
          "execution_count": 49
        }
      ]
    },
    {
      "cell_type": "code",
      "metadata": {
        "colab": {
          "base_uri": "https://localhost:8080/"
        },
        "id": "hIRy9VI1OwOV",
        "outputId": "3a60e6df-e86d-4df4-c959-100197c6e18f"
      },
      "source": [
        "# dado que pudo nacer en la primer mitad del año o en la segunda dejaremos <= 1\n",
        "2021-df['edad']-df['nacimiento'] <=1"
      ],
      "execution_count": null,
      "outputs": [
        {
          "output_type": "execute_result",
          "data": {
            "text/plain": [
              "0    False\n",
              "1     True\n",
              "2     True\n",
              "3     True\n",
              "4     True\n",
              "5     True\n",
              "6    False\n",
              "7     True\n",
              "8     True\n",
              "9     True\n",
              "dtype: bool"
            ]
          },
          "metadata": {
            "tags": []
          },
          "execution_count": 50
        }
      ]
    },
    {
      "cell_type": "code",
      "metadata": {
        "id": "M_JMvFRgO_DU"
      },
      "source": [
        "#### 05.01 Finalicemos el desafío, creando la nueva columna pedida con la información pedida\n",
        "df['valido'] = 2021-df['edad']-df['nacimiento'] <=1"
      ],
      "execution_count": null,
      "outputs": []
    },
    {
      "cell_type": "code",
      "metadata": {
        "colab": {
          "base_uri": "https://localhost:8080/",
          "height": 359
        },
        "id": "x-2ggN7dPOzO",
        "outputId": "dd75d081-86e4-4bef-f598-54e2149a034d"
      },
      "source": [
        "df"
      ],
      "execution_count": null,
      "outputs": [
        {
          "output_type": "execute_result",
          "data": {
            "text/html": [
              "<div>\n",
              "<style scoped>\n",
              "    .dataframe tbody tr th:only-of-type {\n",
              "        vertical-align: middle;\n",
              "    }\n",
              "\n",
              "    .dataframe tbody tr th {\n",
              "        vertical-align: top;\n",
              "    }\n",
              "\n",
              "    .dataframe thead th {\n",
              "        text-align: right;\n",
              "    }\n",
              "</style>\n",
              "<table border=\"1\" class=\"dataframe\">\n",
              "  <thead>\n",
              "    <tr style=\"text-align: right;\">\n",
              "      <th></th>\n",
              "      <th>nombre</th>\n",
              "      <th>apellido</th>\n",
              "      <th>apodo</th>\n",
              "      <th>edad</th>\n",
              "      <th>level</th>\n",
              "      <th>nacimiento</th>\n",
              "      <th>valido</th>\n",
              "    </tr>\n",
              "  </thead>\n",
              "  <tbody>\n",
              "    <tr>\n",
              "      <th>0</th>\n",
              "      <td>Jose Maria</td>\n",
              "      <td>Vallorani</td>\n",
              "      <td>JoseMa</td>\n",
              "      <td>20</td>\n",
              "      <td>Mucho</td>\n",
              "      <td>1900</td>\n",
              "      <td>False</td>\n",
              "    </tr>\n",
              "    <tr>\n",
              "      <th>1</th>\n",
              "      <td>Maria-Ines</td>\n",
              "      <td>Orellana</td>\n",
              "      <td>Maru</td>\n",
              "      <td>78</td>\n",
              "      <td>Algo</td>\n",
              "      <td>1942</td>\n",
              "      <td>True</td>\n",
              "    </tr>\n",
              "    <tr>\n",
              "      <th>2</th>\n",
              "      <td>Agustin</td>\n",
              "      <td>Bonilla</td>\n",
              "      <td>Tincho</td>\n",
              "      <td>31</td>\n",
              "      <td>Bastante</td>\n",
              "      <td>1989</td>\n",
              "      <td>True</td>\n",
              "    </tr>\n",
              "    <tr>\n",
              "      <th>3</th>\n",
              "      <td>Ioan</td>\n",
              "      <td>Cervera</td>\n",
              "      <td>Ioan</td>\n",
              "      <td>23</td>\n",
              "      <td>Mucho</td>\n",
              "      <td>1997</td>\n",
              "      <td>True</td>\n",
              "    </tr>\n",
              "    <tr>\n",
              "      <th>4</th>\n",
              "      <td>Avelina</td>\n",
              "      <td>Haro</td>\n",
              "      <td>AvelHa</td>\n",
              "      <td>34</td>\n",
              "      <td>Mucho</td>\n",
              "      <td>1986</td>\n",
              "      <td>True</td>\n",
              "    </tr>\n",
              "    <tr>\n",
              "      <th>5</th>\n",
              "      <td>Anastasia</td>\n",
              "      <td>Picazo</td>\n",
              "      <td>AnasPi</td>\n",
              "      <td>78</td>\n",
              "      <td>Nada</td>\n",
              "      <td>1942</td>\n",
              "      <td>True</td>\n",
              "    </tr>\n",
              "    <tr>\n",
              "      <th>6</th>\n",
              "      <td>Yaiza</td>\n",
              "      <td>Oliver</td>\n",
              "      <td>Yaiza</td>\n",
              "      <td>22</td>\n",
              "      <td>Algo</td>\n",
              "      <td>1995</td>\n",
              "      <td>False</td>\n",
              "    </tr>\n",
              "    <tr>\n",
              "      <th>7</th>\n",
              "      <td>Arturo</td>\n",
              "      <td>Sanchez</td>\n",
              "      <td>Rey</td>\n",
              "      <td>19</td>\n",
              "      <td>Bastante</td>\n",
              "      <td>2001</td>\n",
              "      <td>True</td>\n",
              "    </tr>\n",
              "    <tr>\n",
              "      <th>8</th>\n",
              "      <td>Jose</td>\n",
              "      <td>Casas</td>\n",
              "      <td>Pepe</td>\n",
              "      <td>22</td>\n",
              "      <td>Mucho</td>\n",
              "      <td>1998</td>\n",
              "      <td>True</td>\n",
              "    </tr>\n",
              "    <tr>\n",
              "      <th>9</th>\n",
              "      <td>Cristian</td>\n",
              "      <td>Verdugo</td>\n",
              "      <td>CrisVe</td>\n",
              "      <td>21</td>\n",
              "      <td>Mucho</td>\n",
              "      <td>1999</td>\n",
              "      <td>True</td>\n",
              "    </tr>\n",
              "  </tbody>\n",
              "</table>\n",
              "</div>"
            ],
            "text/plain": [
              "       nombre   apellido   apodo  edad     level  nacimiento  valido\n",
              "0  Jose Maria  Vallorani  JoseMa    20     Mucho        1900   False\n",
              "1  Maria-Ines   Orellana    Maru    78      Algo        1942    True\n",
              "2     Agustin    Bonilla  Tincho    31  Bastante        1989    True\n",
              "3        Ioan    Cervera    Ioan    23     Mucho        1997    True\n",
              "4     Avelina       Haro  AvelHa    34     Mucho        1986    True\n",
              "5   Anastasia     Picazo  AnasPi    78      Nada        1942    True\n",
              "6       Yaiza     Oliver   Yaiza    22      Algo        1995   False\n",
              "7      Arturo    Sanchez     Rey    19  Bastante        2001    True\n",
              "8        Jose      Casas    Pepe    22     Mucho        1998    True\n",
              "9   Cristian     Verdugo  CrisVe    21     Mucho        1999    True"
            ]
          },
          "metadata": {
            "tags": []
          },
          "execution_count": 54
        }
      ]
    },
    {
      "cell_type": "markdown",
      "metadata": {
        "id": "6-7UTw9bPwK9"
      },
      "source": [
        "### 06 Tercer desafío, conocer cantidades : ¿Cuántas personas saben Mucho's, Algo's, Bastante's, Nada's hay ?\n",
        "\n",
        " ![texto alternativo](https://www.notion.so/image/https%3A%2F%2Fs3-us-west-2.amazonaws.com%2Fsecure.notion-static.com%2F6908e014-1254-4f22-9d99-59a88e5e9e02%2FUntitled.png?table=block&id=ade73c5d-3480-4114-bc09-ae91be34806e&spaceId=62aa27de-48fd-4703-8a40-2de64b627b11&width=1110&userId=&cache=v2)"
      ]
    },
    {
      "cell_type": "code",
      "metadata": {
        "colab": {
          "base_uri": "https://localhost:8080/",
          "height": 164
        },
        "id": "1COrVEwtP-4N",
        "outputId": "be4335ab-b275-4ade-f891-fa6a4f369940"
      },
      "source": [
        "pd.value_counts(df['level'])"
      ],
      "execution_count": null,
      "outputs": [
        {
          "output_type": "error",
          "ename": "NameError",
          "evalue": "ignored",
          "traceback": [
            "\u001b[0;31m---------------------------------------------------------------------------\u001b[0m",
            "\u001b[0;31mNameError\u001b[0m                                 Traceback (most recent call last)",
            "\u001b[0;32m<ipython-input-1-7e485424a184>\u001b[0m in \u001b[0;36m<module>\u001b[0;34m()\u001b[0m\n\u001b[0;32m----> 1\u001b[0;31m \u001b[0mpd\u001b[0m\u001b[0;34m.\u001b[0m\u001b[0mvalue_counts\u001b[0m\u001b[0;34m(\u001b[0m\u001b[0mdf\u001b[0m\u001b[0;34m[\u001b[0m\u001b[0;34m'level'\u001b[0m\u001b[0;34m]\u001b[0m\u001b[0;34m)\u001b[0m\u001b[0;34m\u001b[0m\u001b[0;34m\u001b[0m\u001b[0m\n\u001b[0m",
            "\u001b[0;31mNameError\u001b[0m: name 'pd' is not defined"
          ]
        }
      ]
    },
    {
      "cell_type": "code",
      "metadata": {
        "id": "PBy9Hk9OQ_np"
      },
      "source": [],
      "execution_count": null,
      "outputs": []
    },
    {
      "cell_type": "markdown",
      "metadata": {
        "id": "1QJU5REWQ_4W"
      },
      "source": [
        "### 07 Cuarto desafío Contar vocales: 🥋\n",
        "\n",
        "1.   Crear una columna para cada vocal (a,e,i,o,u) y contar cuantas aparecen para cada nombre\n",
        "2.   Crear una columna 'suma vocales' donde sume todas las vocales para cada nombre\n",
        "\n",
        "Obviamente usaremos código que ya trabajamos en el taller anterior\n",
        "\n",
        "\n",
        " ![texto alternativo](https://www.notion.so/image/https%3A%2F%2Fs3-us-west-2.amazonaws.com%2Fsecure.notion-static.com%2F5baaf6c1-fda8-4e98-a9bd-81583c62e3ef%2FUntitled.png?table=block&id=896a35b9-731b-4686-850c-878ea002ad4d&spaceId=62aa27de-48fd-4703-8a40-2de64b627b11&width=1340&userId=&cache=v2)\n",
        "\n",
        "\n"
      ]
    },
    {
      "cell_type": "code",
      "metadata": {
        "id": "uZ-zVXmKTNv2"
      },
      "source": [
        "def buscarLetra(texto,letra_buscada):\n",
        "  '''ingresa un texto y me devuelve la cantidad de letras a'''\n",
        "  # 1 ) todo a minúsculas\n",
        "  texto = texto.lower()\n",
        "  # 2) contador que suma 1 cuando es igual a una A\n",
        "  contador = 0\n",
        "\n",
        "  for letra in texto:\n",
        "    if letra == letra_buscada:\n",
        "      contador = contador + 1\n",
        "  # retorno la letra buscada y su cantidad\n",
        "  return contador"
      ],
      "execution_count": null,
      "outputs": []
    },
    {
      "cell_type": "code",
      "metadata": {
        "colab": {
          "base_uri": "https://localhost:8080/"
        },
        "id": "57b39V-_0yK4",
        "outputId": "0213c7c1-381f-477f-9085-801146c59190"
      },
      "source": [
        "buscarLetra(\"nicolas\",\"o\")"
      ],
      "execution_count": null,
      "outputs": [
        {
          "output_type": "execute_result",
          "data": {
            "text/plain": [
              "1"
            ]
          },
          "metadata": {
            "tags": []
          },
          "execution_count": 69
        }
      ]
    },
    {
      "cell_type": "code",
      "metadata": {
        "id": "m7L9SViozFc9"
      },
      "source": [
        "## apply:\n",
        "## df['nombre'].apply(buscarLetra, letra_buscada='a')"
      ],
      "execution_count": null,
      "outputs": []
    },
    {
      "cell_type": "code",
      "metadata": {
        "id": "IxG1b-ogzbLz"
      },
      "source": [
        "df"
      ],
      "execution_count": null,
      "outputs": []
    },
    {
      "cell_type": "code",
      "metadata": {
        "id": "-TmUS3yXStaI"
      },
      "source": [
        "df['a'] = df['nombre'].apply(buscarLetra, letra_buscada = 'a')\n",
        "df['e'] = df['nombre'].apply(buscarLetra, letra_buscada = 'e')\n",
        "df['i'] = df['nombre'].apply(buscarLetra, letra_buscada = 'i')\n",
        "df['o'] = df['nombre'].apply(buscarLetra, letra_buscada = 'o')\n",
        "df['u'] = df['nombre'].apply(buscarLetra, letra_buscada = 'u')"
      ],
      "execution_count": null,
      "outputs": []
    },
    {
      "cell_type": "code",
      "metadata": {
        "id": "RHq4xeqSz3qv"
      },
      "source": [
        "df"
      ],
      "execution_count": null,
      "outputs": []
    },
    {
      "cell_type": "markdown",
      "metadata": {
        "id": "eMf-xMVER9LP"
      },
      "source": [
        "#### 07.01 Sumemos las vocales"
      ]
    },
    {
      "cell_type": "code",
      "metadata": {
        "id": "BSiSZP7kR6Xc"
      },
      "source": [
        "df['vocales'] = df[['a','e','i','o','u']].sum(axis=1)\n",
        "df"
      ],
      "execution_count": null,
      "outputs": []
    },
    {
      "cell_type": "markdown",
      "metadata": {
        "id": "4wcrLVBBUqHX"
      },
      "source": [
        "#### 07.02 ordenamos de menor a mayor seguún la cantidades de vocales"
      ]
    },
    {
      "cell_type": "code",
      "metadata": {
        "id": "sUkdIjp_UpRc"
      },
      "source": [
        "df.sort_values('vocales',ascending=False)"
      ],
      "execution_count": null,
      "outputs": []
    }
  ]
}
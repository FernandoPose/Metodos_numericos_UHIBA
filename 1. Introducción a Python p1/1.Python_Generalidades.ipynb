{
 "cells": [
  {
   "cell_type": "markdown",
   "metadata": {
    "id": "lST_7y5EH4Sw"
   },
   "source": [
    "# Python Generalidades\n",
    "\n"
   ]
  },
  {
   "cell_type": "markdown",
   "metadata": {
    "id": "Wdrum1nDHV8b"
   },
   "source": [
    "# Variables"
   ]
  },
  {
   "cell_type": "markdown",
   "metadata": {
    "id": "BHTFhX4QKrMq"
   },
   "source": [
    "Existen distintos tipos de variables:\n",
    "- int: entero\n",
    "- float: punto flotante\n",
    "- string: cadena de caracteres\n",
    "- bool: booleano, 0, 1, True o False\n",
    "- Entre otros...\n",
    "\n",
    "Y estructuras de datos, como:\n",
    "  - list: lista de elementos (de cualquier tipo, incluida otra lista)\n",
    "  - dict: \"diccionario\", conjunto de pares llave:valor\n",
    "\n",
    "  - Entre otras..."
   ]
  },
  {
   "cell_type": "code",
   "execution_count": null,
   "metadata": {
    "id": "4gf5FCXTHBCa"
   },
   "outputs": [],
   "source": [
    "variable = 'Hola mundo'\n",
    "print(variable) # Imprime la representación en string de la variable"
   ]
  },
  {
   "cell_type": "code",
   "execution_count": null,
   "metadata": {
    "colab": {
     "base_uri": "https://localhost:8080/"
    },
    "executionInfo": {
     "elapsed": 295,
     "status": "ok",
     "timestamp": 1723496775947,
     "user": {
      "displayName": "Fernando pose",
      "userId": "13762058433143988011"
     },
     "user_tz": 180
    },
    "id": "i2lksijpLAt4",
    "outputId": "cc8b711f-7d40-4117-d91f-04b4c82954ad"
   },
   "outputs": [],
   "source": [
    "variable = str(123)\n",
    "print(variable)"
   ]
  },
  {
   "cell_type": "code",
   "execution_count": null,
   "metadata": {
    "colab": {
     "base_uri": "https://localhost:8080/"
    },
    "executionInfo": {
     "elapsed": 282,
     "status": "ok",
     "timestamp": 1723496787683,
     "user": {
      "displayName": "Fernando pose",
      "userId": "13762058433143988011"
     },
     "user_tz": 180
    },
    "id": "-F5Z6YSpLDXq",
    "outputId": "39049ee3-56fd-49c2-e4be-143a9b04beac"
   },
   "outputs": [],
   "source": [
    "type(variable) # Este se usa en el TP"
   ]
  },
  {
   "cell_type": "markdown",
   "metadata": {
    "id": "0oXcCERaLNrl"
   },
   "source": [
    "## Numéricas"
   ]
  },
  {
   "cell_type": "markdown",
   "metadata": {
    "id": "1fFX12tsLPeY"
   },
   "source": [
    "Ejemplos de operaciones elementales"
   ]
  },
  {
   "cell_type": "code",
   "execution_count": null,
   "metadata": {
    "executionInfo": {
     "elapsed": 303,
     "status": "ok",
     "timestamp": 1723496805753,
     "user": {
      "displayName": "Fernando pose",
      "userId": "13762058433143988011"
     },
     "user_tz": 180
    },
    "id": "rwukpeqzMFiw"
   },
   "outputs": [],
   "source": [
    "a = 2\n",
    "b = 5"
   ]
  },
  {
   "cell_type": "code",
   "execution_count": null,
   "metadata": {
    "id": "cKlap6T4MOPG"
   },
   "outputs": [],
   "source": [
    "print(a + b) # suma\n",
    "print(a * 2) # multiplicación\n",
    "print(a ** (1/2)) # potencia/raiz"
   ]
  },
  {
   "cell_type": "code",
   "execution_count": null,
   "metadata": {
    "colab": {
     "base_uri": "https://localhost:8080/"
    },
    "executionInfo": {
     "elapsed": 270,
     "status": "ok",
     "timestamp": 1723496822865,
     "user": {
      "displayName": "Fernando pose",
      "userId": "13762058433143988011"
     },
     "user_tz": 180
    },
    "id": "2Vw9BtVdMYBl",
    "outputId": "73bdd907-1335-4147-8325-a6167130b47d"
   },
   "outputs": [],
   "source": [
    "print(b / a)  # división\n",
    "print(b // a) # división entera\n",
    "print(b % a)  # resto de la división entera"
   ]
  },
  {
   "cell_type": "markdown",
   "metadata": {
    "id": "DFJYpLSbNfjT"
   },
   "source": [
    "## Booleanas"
   ]
  },
  {
   "cell_type": "markdown",
   "metadata": {
    "id": "LLms16qcNkw_"
   },
   "source": [
    "Los operadores disponibles son:\n",
    "\n",
    "    Relacionales:\n",
    "    - >= , <=, <, > : Mayor o igual, menor o igual, mayor o menor\n",
    "    - != , == : Distinto, Igual\n",
    "    - in : Contenido por\n",
    "    Lógicos:\n",
    "    - not o ~ : Negación\n",
    "    - and o & : Ambas verdaderas\n",
    "    - or o | : Una u otra es verdadera\n",
    "    \n",
    "Como booleanos, se pueden utilizar tanto 0 y 1 como True y False."
   ]
  },
  {
   "cell_type": "code",
   "execution_count": null,
   "metadata": {
    "colab": {
     "base_uri": "https://localhost:8080/"
    },
    "executionInfo": {
     "elapsed": 280,
     "status": "ok",
     "timestamp": 1723496939900,
     "user": {
      "displayName": "Fernando pose",
      "userId": "13762058433143988011"
     },
     "user_tz": 180
    },
    "id": "l5Lnkt3kNngl",
    "outputId": "4d723ef3-b0ee-4ade-d034-a4603eaf4fb6"
   },
   "outputs": [],
   "source": [
    "print(a >= b) # 2 >= 5"
   ]
  },
  {
   "cell_type": "code",
   "execution_count": null,
   "metadata": {
    "colab": {
     "base_uri": "https://localhost:8080/"
    },
    "executionInfo": {
     "elapsed": 280,
     "status": "ok",
     "timestamp": 1723497002404,
     "user": {
      "displayName": "Fernando pose",
      "userId": "13762058433143988011"
     },
     "user_tz": 180
    },
    "id": "Kaz2uqyQN04I",
    "outputId": "ea9558e1-bc78-45a4-b89d-53d90951ba3d"
   },
   "outputs": [],
   "source": [
    "print(\"palabra\" == \"palabra\")\n",
    "print(\"otras palabras\" != \"otras palabras\")"
   ]
  },
  {
   "cell_type": "code",
   "execution_count": null,
   "metadata": {
    "colab": {
     "base_uri": "https://localhost:8080/"
    },
    "executionInfo": {
     "elapsed": 274,
     "status": "ok",
     "timestamp": 1723497038611,
     "user": {
      "displayName": "Fernando pose",
      "userId": "13762058433143988011"
     },
     "user_tz": 180
    },
    "id": "QyyykodqN4d0",
    "outputId": "be4ec3e3-c74f-4112-fb06-9861c60c7d9e"
   },
   "outputs": [],
   "source": [
    "print('test' in \"testing\")\n",
    "\n",
    "arreglo = 'cosas_estaacá_mascosas'\n",
    "\n",
    "print('esta' in arreglo)"
   ]
  },
  {
   "cell_type": "code",
   "execution_count": null,
   "metadata": {
    "colab": {
     "base_uri": "https://localhost:8080/"
    },
    "executionInfo": {
     "elapsed": 269,
     "status": "ok",
     "timestamp": 1723497049027,
     "user": {
      "displayName": "Fernando pose",
      "userId": "13762058433143988011"
     },
     "user_tz": 180
    },
    "id": "R-WGz3glOXhQ",
    "outputId": "2bf1c42b-83fa-408b-ec6c-2857d25b6022"
   },
   "outputs": [],
   "source": [
    "arreglo = 'cosas_no3staacá_mascosas'\n",
    "\n",
    "print('esta' in arreglo)"
   ]
  },
  {
   "cell_type": "markdown",
   "metadata": {
    "id": "FkTbMmCCVf6i"
   },
   "source": [
    "## Listas"
   ]
  },
  {
   "cell_type": "markdown",
   "metadata": {
    "id": "LCckC077WMl0"
   },
   "source": [
    "Las listas son un conjunto de elementos ordenados. Estos elementos pueden ser de cualquier tipo, incluyendo otras listas."
   ]
  },
  {
   "cell_type": "code",
   "execution_count": null,
   "metadata": {
    "executionInfo": {
     "elapsed": 293,
     "status": "ok",
     "timestamp": 1723497119816,
     "user": {
      "displayName": "Fernando pose",
      "userId": "13762058433143988011"
     },
     "user_tz": 180
    },
    "id": "yh0dZGbFVX_o"
   },
   "outputs": [],
   "source": [
    "amigos = ['Mateo', 'Matías', 'Sergio', 'Javier', 'Eduardo'] # amigos = [] # amigos = list()"
   ]
  },
  {
   "cell_type": "markdown",
   "metadata": {
    "id": "Ez-fhvIlWceI"
   },
   "source": [
    "**indexación** o acceso por índice a la acción de encontrar un valor según su posición en la lista."
   ]
  },
  {
   "cell_type": "code",
   "execution_count": null,
   "metadata": {
    "colab": {
     "base_uri": "https://localhost:8080/",
     "height": 35
    },
    "executionInfo": {
     "elapsed": 297,
     "status": "ok",
     "timestamp": 1723497121304,
     "user": {
      "displayName": "Fernando pose",
      "userId": "13762058433143988011"
     },
     "user_tz": 180
    },
    "id": "zhby_dVpWeDZ",
    "outputId": "43987090-6e2a-4a64-fa29-96f7d105b9d6"
   },
   "outputs": [],
   "source": [
    "amigos[0]"
   ]
  },
  {
   "cell_type": "code",
   "execution_count": null,
   "metadata": {
    "colab": {
     "base_uri": "https://localhost:8080/",
     "height": 35
    },
    "executionInfo": {
     "elapsed": 298,
     "status": "ok",
     "timestamp": 1723497156411,
     "user": {
      "displayName": "Fernando pose",
      "userId": "13762058433143988011"
     },
     "user_tz": 180
    },
    "id": "1y5EWygXWgdW",
    "outputId": "d0803f38-b8e7-4699-bedb-b67b56a6cef6"
   },
   "outputs": [],
   "source": [
    "amigos[-1]"
   ]
  },
  {
   "cell_type": "code",
   "execution_count": null,
   "metadata": {
    "colab": {
     "base_uri": "https://localhost:8080/"
    },
    "executionInfo": {
     "elapsed": 259,
     "status": "ok",
     "timestamp": 1723497166182,
     "user": {
      "displayName": "Fernando pose",
      "userId": "13762058433143988011"
     },
     "user_tz": 180
    },
    "id": "DSQe3jo1Wo4h",
    "outputId": "95d3f46f-efb5-4a9f-8279-751156228276"
   },
   "outputs": [],
   "source": [
    "amigos[::2]"
   ]
  },
  {
   "cell_type": "code",
   "execution_count": null,
   "metadata": {
    "colab": {
     "base_uri": "https://localhost:8080/"
    },
    "executionInfo": {
     "elapsed": 284,
     "status": "ok",
     "timestamp": 1723497182743,
     "user": {
      "displayName": "Fernando pose",
      "userId": "13762058433143988011"
     },
     "user_tz": 180
    },
    "id": "JDnQesXC4BxZ",
    "outputId": "e44670ee-8213-482f-e2b6-a5b082a967c8"
   },
   "outputs": [],
   "source": [
    "type(amigos)"
   ]
  },
  {
   "cell_type": "markdown",
   "metadata": {
    "id": "JveYLUFOWtbD"
   },
   "source": [
    "### Métodos específicos"
   ]
  },
  {
   "cell_type": "code",
   "execution_count": null,
   "metadata": {
    "colab": {
     "base_uri": "https://localhost:8080/"
    },
    "executionInfo": {
     "elapsed": 290,
     "status": "ok",
     "timestamp": 1723497366442,
     "user": {
      "displayName": "Fernando pose",
      "userId": "13762058433143988011"
     },
     "user_tz": 180
    },
    "id": "1wSikelaWwG3",
    "outputId": "59800168-e0b8-45b1-9691-e63d337f3bb4"
   },
   "outputs": [],
   "source": [
    "amigos.remove('Mateo')\n",
    "amigos"
   ]
  },
  {
   "cell_type": "code",
   "execution_count": null,
   "metadata": {
    "colab": {
     "base_uri": "https://localhost:8080/"
    },
    "executionInfo": {
     "elapsed": 280,
     "status": "ok",
     "timestamp": 1723497372323,
     "user": {
      "displayName": "Fernando pose",
      "userId": "13762058433143988011"
     },
     "user_tz": 180
    },
    "id": "EkrY5JPhW866",
    "outputId": "e6275a37-847f-409a-9733-250253c1a081"
   },
   "outputs": [],
   "source": [
    "amigos.append('Mateo')\n",
    "amigos"
   ]
  },
  {
   "cell_type": "code",
   "execution_count": null,
   "metadata": {
    "colab": {
     "base_uri": "https://localhost:8080/"
    },
    "executionInfo": {
     "elapsed": 283,
     "status": "ok",
     "timestamp": 1723497385040,
     "user": {
      "displayName": "Fernando pose",
      "userId": "13762058433143988011"
     },
     "user_tz": 180
    },
    "id": "0jXzRZ8XXK0n",
    "outputId": "9a8b8dc2-dc30-4759-e07f-35ab7b96e8de"
   },
   "outputs": [],
   "source": [
    "amigos.pop(3)\n",
    "amigos"
   ]
  },
  {
   "cell_type": "code",
   "execution_count": null,
   "metadata": {
    "colab": {
     "base_uri": "https://localhost:8080/"
    },
    "executionInfo": {
     "elapsed": 401,
     "status": "ok",
     "timestamp": 1723497390966,
     "user": {
      "displayName": "Fernando pose",
      "userId": "13762058433143988011"
     },
     "user_tz": 180
    },
    "id": "aQqQkyA5XSrc",
    "outputId": "56b0b151-928d-4725-d3af-8aa74112a271"
   },
   "outputs": [],
   "source": [
    "amigos.insert(3, \"Eduardo\")\n",
    "amigos"
   ]
  },
  {
   "cell_type": "code",
   "execution_count": null,
   "metadata": {
    "colab": {
     "base_uri": "https://localhost:8080/"
    },
    "executionInfo": {
     "elapsed": 291,
     "status": "ok",
     "timestamp": 1723497404655,
     "user": {
      "displayName": "Fernando pose",
      "userId": "13762058433143988011"
     },
     "user_tz": 180
    },
    "id": "WMcVl7otXwNI",
    "outputId": "909cc0e2-adb2-4b18-eea2-2467866f2f90"
   },
   "outputs": [],
   "source": [
    "amigos.sort()\n",
    "amigos"
   ]
  },
  {
   "cell_type": "code",
   "execution_count": null,
   "metadata": {
    "colab": {
     "base_uri": "https://localhost:8080/"
    },
    "executionInfo": {
     "elapsed": 274,
     "status": "ok",
     "timestamp": 1723497424182,
     "user": {
      "displayName": "Fernando pose",
      "userId": "13762058433143988011"
     },
     "user_tz": 180
    },
    "id": "kVzTu9LxYPLP",
    "outputId": "4d54f197-6df8-4b30-e374-6ffb92e7a68f"
   },
   "outputs": [],
   "source": [
    "amigos.sort(reverse=True)\n",
    "amigos"
   ]
  },
  {
   "cell_type": "code",
   "execution_count": null,
   "metadata": {
    "colab": {
     "base_uri": "https://localhost:8080/"
    },
    "executionInfo": {
     "elapsed": 278,
     "status": "ok",
     "timestamp": 1723497429415,
     "user": {
      "displayName": "Fernando pose",
      "userId": "13762058433143988011"
     },
     "user_tz": 180
    },
    "id": "LpNXPpAKYoD9",
    "outputId": "c8ecd44d-ae70-4565-b6cb-b6e4f3667134"
   },
   "outputs": [],
   "source": [
    "print(\"Actualmente tengo {} amigos.\".format(len(amigos)))"
   ]
  },
  {
   "cell_type": "markdown",
   "metadata": {
    "id": "22Qd_LjbY2M1"
   },
   "source": [
    "Para valores numéricos resultan interesantes otros métodos..."
   ]
  },
  {
   "cell_type": "code",
   "execution_count": null,
   "metadata": {
    "id": "RjxZcdlWY7_u"
   },
   "outputs": [],
   "source": [
    "numeros = [1 , -5.2, 66, -8.3 , 7, 1, 1]"
   ]
  },
  {
   "cell_type": "code",
   "execution_count": null,
   "metadata": {
    "colab": {
     "base_uri": "https://localhost:8080/"
    },
    "executionInfo": {
     "elapsed": 293,
     "status": "ok",
     "timestamp": 1723497456582,
     "user": {
      "displayName": "Fernando pose",
      "userId": "13762058433143988011"
     },
     "user_tz": 180
    },
    "id": "r5KRDfy3ZRzn",
    "outputId": "8c2ae67e-6b2a-41c1-ebc8-7908b70eca91"
   },
   "outputs": [],
   "source": [
    "print(min(numeros))\n",
    "print(max(numeros))"
   ]
  },
  {
   "cell_type": "code",
   "execution_count": null,
   "metadata": {
    "colab": {
     "base_uri": "https://localhost:8080/"
    },
    "executionInfo": {
     "elapsed": 290,
     "status": "ok",
     "timestamp": 1723497462172,
     "user": {
      "displayName": "Fernando pose",
      "userId": "13762058433143988011"
     },
     "user_tz": 180
    },
    "id": "591qYOvoZWfn",
    "outputId": "d3ea0ade-543c-4f3b-8128-2935f8aaa9bd"
   },
   "outputs": [],
   "source": [
    "print(sum(numeros))"
   ]
  },
  {
   "cell_type": "code",
   "execution_count": null,
   "metadata": {
    "colab": {
     "base_uri": "https://localhost:8080/"
    },
    "executionInfo": {
     "elapsed": 281,
     "status": "ok",
     "timestamp": 1723497476759,
     "user": {
      "displayName": "Fernando pose",
      "userId": "13762058433143988011"
     },
     "user_tz": 180
    },
    "id": "2wVP2-FoZZDg",
    "outputId": "4b17df2e-3e48-422f-ee98-a66e1bb1a674"
   },
   "outputs": [],
   "source": [
    "print(\"El promedio es: \", sum(numeros)/len(numeros))"
   ]
  },
  {
   "cell_type": "code",
   "execution_count": null,
   "metadata": {
    "colab": {
     "base_uri": "https://localhost:8080/"
    },
    "executionInfo": {
     "elapsed": 292,
     "status": "ok",
     "timestamp": 1723497524499,
     "user": {
      "displayName": "Fernando pose",
      "userId": "13762058433143988011"
     },
     "user_tz": 180
    },
    "id": "tASNxh83dPY0",
    "outputId": "0cc55555-b82e-455e-cb3e-d8b5f2c45211"
   },
   "outputs": [],
   "source": [
    "print(len(numeros))\n",
    "print(sum(numeros))"
   ]
  },
  {
   "cell_type": "code",
   "execution_count": null,
   "metadata": {
    "colab": {
     "base_uri": "https://localhost:8080/"
    },
    "executionInfo": {
     "elapsed": 300,
     "status": "ok",
     "timestamp": 1723497550844,
     "user": {
      "displayName": "Fernando pose",
      "userId": "13762058433143988011"
     },
     "user_tz": 180
    },
    "id": "QHmID4BeaJ5V",
    "outputId": "d8433e72-d800-4e48-b642-98b004969c15"
   },
   "outputs": [],
   "source": [
    "numeros.count(1)"
   ]
  },
  {
   "cell_type": "markdown",
   "metadata": {
    "id": "dkR19jC1acWp"
   },
   "source": [
    "## Diccionarios"
   ]
  },
  {
   "cell_type": "markdown",
   "metadata": {
    "id": "R1JoUGvcaiw8"
   },
   "source": [
    "Los diccionarios consisten en estructuras que contienen pares de una **llave** y un **valor**. Los elementos NO están ordenados, con lo cual no se puede acceder por posición ni slicing."
   ]
  },
  {
   "cell_type": "code",
   "execution_count": null,
   "metadata": {
    "id": "ariPiHMoahdm"
   },
   "outputs": [],
   "source": [
    "datos = {\n",
    "        \"llave\" : \"valor\",\n",
    "         1 : 2,\n",
    "         \"dni\" : 123456789,\n",
    "         \"lista\" : [1,2,3],\n",
    "         False : \"valor de False\"\n",
    "        }"
   ]
  },
  {
   "cell_type": "markdown",
   "metadata": {
    "id": "1hTkUnnle4b-"
   },
   "source": [
    "Sin embargo, sí podemos acceder a un elemento por su llave."
   ]
  },
  {
   "cell_type": "code",
   "execution_count": null,
   "metadata": {
    "colab": {
     "base_uri": "https://localhost:8080/",
     "height": 35
    },
    "executionInfo": {
     "elapsed": 305,
     "status": "ok",
     "timestamp": 1723497837142,
     "user": {
      "displayName": "Fernando pose",
      "userId": "13762058433143988011"
     },
     "user_tz": 180
    },
    "id": "uwHU7WXXe6-l",
    "outputId": "363f8865-1c8d-4838-90c3-25932025ec65"
   },
   "outputs": [],
   "source": [
    "datos[\"llave\"]"
   ]
  },
  {
   "cell_type": "code",
   "execution_count": null,
   "metadata": {
    "colab": {
     "base_uri": "https://localhost:8080/",
     "height": 35
    },
    "executionInfo": {
     "elapsed": 283,
     "status": "ok",
     "timestamp": 1723497845643,
     "user": {
      "displayName": "Fernando pose",
      "userId": "13762058433143988011"
     },
     "user_tz": 180
    },
    "id": "67BnqZnDe_Qt",
    "outputId": "54015706-776b-409b-f48a-c370bede3dc9"
   },
   "outputs": [],
   "source": [
    "datos[False]"
   ]
  },
  {
   "cell_type": "code",
   "execution_count": null,
   "metadata": {
    "colab": {
     "base_uri": "https://localhost:8080/",
     "height": 144
    },
    "executionInfo": {
     "elapsed": 287,
     "status": "error",
     "timestamp": 1723497854239,
     "user": {
      "displayName": "Fernando pose",
      "userId": "13762058433143988011"
     },
     "user_tz": 180
    },
    "id": "jguLD0tqh3fR",
    "outputId": "be29da85-3e4a-483f-a12c-09c6633c1648"
   },
   "outputs": [],
   "source": [
    "datos[\"cualquier llave\"]"
   ]
  },
  {
   "cell_type": "code",
   "execution_count": null,
   "metadata": {
    "colab": {
     "base_uri": "https://localhost:8080/"
    },
    "executionInfo": {
     "elapsed": 414,
     "status": "ok",
     "timestamp": 1723497858888,
     "user": {
      "displayName": "Fernando pose",
      "userId": "13762058433143988011"
     },
     "user_tz": 180
    },
    "id": "bgi9EBEX7I1r",
    "outputId": "9bad47db-c348-48c0-f15d-c0f3463a5eb1"
   },
   "outputs": [],
   "source": [
    "datos"
   ]
  },
  {
   "cell_type": "code",
   "execution_count": null,
   "metadata": {
    "colab": {
     "base_uri": "https://localhost:8080/"
    },
    "executionInfo": {
     "elapsed": 288,
     "status": "ok",
     "timestamp": 1723497951927,
     "user": {
      "displayName": "Fernando pose",
      "userId": "13762058433143988011"
     },
     "user_tz": 180
    },
    "id": "SGA2Kn-qL1QE",
    "outputId": "e5bc2cbe-49a3-4ca6-b336-9a1fa8075366"
   },
   "outputs": [],
   "source": [
    "datos.keys()"
   ]
  },
  {
   "cell_type": "code",
   "execution_count": null,
   "metadata": {
    "colab": {
     "base_uri": "https://localhost:8080/"
    },
    "executionInfo": {
     "elapsed": 390,
     "status": "ok",
     "timestamp": 1723497954918,
     "user": {
      "displayName": "Fernando pose",
      "userId": "13762058433143988011"
     },
     "user_tz": 180
    },
    "id": "iuNHr1JEL9vN",
    "outputId": "3760bd0d-9a9b-42be-b4c8-05e524c78aea"
   },
   "outputs": [],
   "source": [
    "datos.values()"
   ]
  },
  {
   "cell_type": "markdown",
   "metadata": {
    "id": "S6Dw9OgCMXkM"
   },
   "source": [
    "# Condicionales"
   ]
  },
  {
   "cell_type": "markdown",
   "metadata": {
    "id": "FNqDxWXZMb6F"
   },
   "source": [
    "El condicional tiene la siguiente sintáxis:\n",
    "\n",
    "    if CONDICIÓN:\n",
    "        código1\n",
    "    elif CONDICIÓN2:\n",
    "        código2\n",
    "    else:\n",
    "        código3\n",
    "        \n",
    "Donde la condición es un operador que devuelve un objeto de tipo booleano. La **indentación** del código define qué parte se incluye como condicional.\n",
    "\n",
    "El término \"elif\" viene de \"else if\". La condición sólo se evaluará si la condición del \"if\" no se cumple."
   ]
  },
  {
   "cell_type": "code",
   "execution_count": null,
   "metadata": {
    "colab": {
     "base_uri": "https://localhost:8080/"
    },
    "executionInfo": {
     "elapsed": 270,
     "status": "ok",
     "timestamp": 1723498002059,
     "user": {
      "displayName": "Fernando pose",
      "userId": "13762058433143988011"
     },
     "user_tz": 180
    },
    "id": "W6B8tqUdMfNN",
    "outputId": "fa792a9a-93b3-4a21-a483-f1dbce4d8fc0"
   },
   "outputs": [],
   "source": [
    "valor = 300\n",
    "\n",
    "if valor > 500:\n",
    "    print(\"El valor es superior a 500.\")\n",
    "elif 200 < valor < 500: #(valor < 200) and (valor < 500)\n",
    "    print(\"El valor se encuentra entre 200 y 500.\")\n",
    "else:\n",
    "    print(\"El valor es menor a 200.\")"
   ]
  },
  {
   "cell_type": "markdown",
   "metadata": {
    "id": "nYYl-8VmPUQF"
   },
   "source": [
    "# Bucles"
   ]
  },
  {
   "cell_type": "markdown",
   "metadata": {
    "id": "cUXHYhlEPfU2"
   },
   "source": [
    "## For"
   ]
  },
  {
   "cell_type": "code",
   "execution_count": null,
   "metadata": {
    "colab": {
     "base_uri": "https://localhost:8080/"
    },
    "executionInfo": {
     "elapsed": 294,
     "status": "ok",
     "timestamp": 1723498197142,
     "user": {
      "displayName": "Fernando pose",
      "userId": "13762058433143988011"
     },
     "user_tz": 180
    },
    "id": "8Vcm1s6NO-Dw",
    "outputId": "269ce220-5e2f-4cfd-d061-15002d19b14c"
   },
   "outputs": [],
   "source": [
    "lista = [1, 3, \"hola\", False, 3.2]\n",
    "\n",
    "for i in lista:\n",
    "    print(i)"
   ]
  },
  {
   "cell_type": "code",
   "execution_count": null,
   "metadata": {
    "colab": {
     "base_uri": "https://localhost:8080/"
    },
    "executionInfo": {
     "elapsed": 294,
     "status": "ok",
     "timestamp": 1723498217831,
     "user": {
      "displayName": "Fernando pose",
      "userId": "13762058433143988011"
     },
     "user_tz": 180
    },
    "id": "yDtwDi05P7Qo",
    "outputId": "a3100d0f-d9ce-4cb9-8280-039568e1efec"
   },
   "outputs": [],
   "source": [
    "for i in range(0,5,2):\n",
    "    print(i)"
   ]
  },
  {
   "cell_type": "markdown",
   "metadata": {
    "id": "CPa0CwKeP_SQ"
   },
   "source": [
    "La función *range* consta de tres parámetros importante: *start*, *stop*, *step*. Si pasamos un sólo parámetro, estamos pasando el \"stop\" y tomamos 0 como valor default de \"start\". Del mismo modo que cuando vimos listas, el stop no está incluído y el step por default es 1. El tercer parámetro es el \"step\", por defecto se encuentra en 1."
   ]
  },
  {
   "cell_type": "code",
   "execution_count": null,
   "metadata": {
    "colab": {
     "base_uri": "https://localhost:8080/"
    },
    "executionInfo": {
     "elapsed": 301,
     "status": "ok",
     "timestamp": 1723498224413,
     "user": {
      "displayName": "Fernando pose",
      "userId": "13762058433143988011"
     },
     "user_tz": 180
    },
    "id": "h_D_HsGHQB4m",
    "outputId": "cd445306-54ae-4061-e17b-a9b01a931663"
   },
   "outputs": [],
   "source": [
    "for i in range(1, 10, 2):\n",
    "    print(i)"
   ]
  },
  {
   "cell_type": "code",
   "execution_count": null,
   "metadata": {
    "colab": {
     "base_uri": "https://localhost:8080/"
    },
    "executionInfo": {
     "elapsed": 274,
     "status": "ok",
     "timestamp": 1723498232136,
     "user": {
      "displayName": "Fernando pose",
      "userId": "13762058433143988011"
     },
     "user_tz": 180
    },
    "id": "Febks4k3f_JV",
    "outputId": "0afa3122-5b00-4173-9ea2-4b6eff7f324b"
   },
   "outputs": [],
   "source": [
    "datos.keys()"
   ]
  },
  {
   "cell_type": "code",
   "execution_count": null,
   "metadata": {
    "colab": {
     "base_uri": "https://localhost:8080/"
    },
    "executionInfo": {
     "elapsed": 277,
     "status": "ok",
     "timestamp": 1723498255017,
     "user": {
      "displayName": "Fernando pose",
      "userId": "13762058433143988011"
     },
     "user_tz": 180
    },
    "id": "solf2dNoSa1D",
    "outputId": "d32380bd-5fc5-4b00-86f2-ab7058ede45f"
   },
   "outputs": [],
   "source": [
    "for b in datos.keys(): # Casi seguro lo van a necesitar.\n",
    "    print(b)"
   ]
  },
  {
   "cell_type": "markdown",
   "metadata": {
    "id": "xgapyDLnTxZn"
   },
   "source": [
    "## While"
   ]
  },
  {
   "cell_type": "code",
   "execution_count": null,
   "metadata": {
    "colab": {
     "base_uri": "https://localhost:8080/"
    },
    "executionInfo": {
     "elapsed": 279,
     "status": "ok",
     "timestamp": 1723498295373,
     "user": {
      "displayName": "Fernando pose",
      "userId": "13762058433143988011"
     },
     "user_tz": 180
    },
    "id": "5_Q30CqGTy9k",
    "outputId": "073aabc6-b141-45e1-d5a5-93f238954356"
   },
   "outputs": [],
   "source": [
    "mostrar = 5\n",
    "palabra = \"introducción\"\n",
    "\n",
    "i = 0\n",
    "while i < mostrar:\n",
    "    print(palabra[i])\n",
    "    i += 1"
   ]
  },
  {
   "cell_type": "code",
   "execution_count": null,
   "metadata": {
    "colab": {
     "base_uri": "https://localhost:8080/"
    },
    "executionInfo": {
     "elapsed": 261,
     "status": "ok",
     "timestamp": 1723498366538,
     "user": {
      "displayName": "Fernando pose",
      "userId": "13762058433143988011"
     },
     "user_tz": 180
    },
    "id": "ivLTK8IYUZXG",
    "outputId": "99a1a21a-db16-4d25-89a6-437e0fb923fa"
   },
   "outputs": [],
   "source": [
    "i = 0\n",
    "while True:\n",
    "    if palabra[i] != \"c\":\n",
    "        print(palabra[i])\n",
    "    else:\n",
    "        print(\"Finalizando el bucle...\")\n",
    "        break\n",
    "\n",
    "    i += 1"
   ]
  },
  {
   "cell_type": "markdown",
   "metadata": {
    "id": "plV6UNkWgGkK"
   },
   "source": [
    "# Funciones"
   ]
  },
  {
   "cell_type": "markdown",
   "metadata": {
    "id": "14URbP9egs-5"
   },
   "source": [
    "Las funciones se definen de la siguiente manera:\n",
    "\n",
    "    def nombre_de_funcion(argumentos):\n",
    "        \"\"\"docstring opcional\"\"\"\n",
    "        resultado = procedimiento(argumentos)\n",
    "        return resultado\n",
    "        \n",
    "Las variables definidias en el contexto de una función son locales, es decir, sólo viven dentro de esa función. Por otra parte, si desde una función se llama a una variable que no está definida en la función tratará de buscarla afuera. En general, es buena práctica usar sólo variables definidas dentro de la función o argumentos.\n",
    "\n",
    "Los argumentos son variables que le pasamos a la función para que *haga algo*.\n",
    "\n",
    "Las funciones emplean dos términos reservados:\n",
    "\n",
    "- def: que indica el comienzo de la definición de la función\n",
    "\n",
    "- return: establece la variable o variables que devuelve la función\n",
    "\n",
    "En este punto vale la pena mencionar que en Python los nombres (de variables, funciones, etc.) se almacenan y ordenan en NameSpaces. En este punto, la información definida dentro de la función no es compartida con el exterior de la función (salvo algunas excepciones que no vienen al caso), por lo tanto, para compartirla, la función debe enviar desde el NameSpace local (el de la función) al NameSpace global (donde está el resto del programa). Para ello, el término return indica qué se devolverá al ambiente global. Para que efectivamente esa/s variable/s que la función devuelve se guarden una variable en el ambiente global debemos asignar el resultado a una variable. Esto va a quedar más claro con el código.\n",
    "\n",
    "Por último, vale la pena mencionar que *print* sólo nos muestra el contenido de una variable pero no envía la información desde la función hacia afuera."
   ]
  },
  {
   "cell_type": "code",
   "execution_count": null,
   "metadata": {
    "executionInfo": {
     "elapsed": 270,
     "status": "ok",
     "timestamp": 1723498429863,
     "user": {
      "displayName": "Fernando pose",
      "userId": "13762058433143988011"
     },
     "user_tz": 180
    },
    "id": "l36xDn8zgIGG"
   },
   "outputs": [],
   "source": [
    "def suma(a,b):\n",
    "    \"\"\"Esta función recibe dos numeros y devuelve la suma\n",
    "       Parámetro a: primero número\n",
    "       Parámetro b: segundo número\"\"\"\n",
    "    return a + b"
   ]
  },
  {
   "cell_type": "code",
   "execution_count": null,
   "metadata": {
    "colab": {
     "base_uri": "https://localhost:8080/"
    },
    "executionInfo": {
     "elapsed": 300,
     "status": "ok",
     "timestamp": 1723498492780,
     "user": {
      "displayName": "Fernando pose",
      "userId": "13762058433143988011"
     },
     "user_tz": 180
    },
    "id": "9f6B6aFtg9Qr",
    "outputId": "6e936c99-e035-4d87-a872-fcd6444d7e59"
   },
   "outputs": [],
   "source": [
    "# prueba de la función suma\n",
    "num1 = 15\n",
    "num2 = 5\n",
    "resultado = suma(num1, num2)\n",
    "\n",
    "print(resultado)\n",
    "\n",
    "print(suma(num1, num2))"
   ]
  },
  {
   "cell_type": "code",
   "execution_count": null,
   "metadata": {
    "executionInfo": {
     "elapsed": 276,
     "status": "ok",
     "timestamp": 1723498504543,
     "user": {
      "displayName": "Fernando pose",
      "userId": "13762058433143988011"
     },
     "user_tz": 180
    },
    "id": "aGQUKwVQhi1I"
   },
   "outputs": [],
   "source": [
    "def rango(lista):\n",
    "    \"\"\"Esta función recibe una lista y devuelve su rango\"\"\"\n",
    "    return max(lista) - min(lista)"
   ]
  },
  {
   "cell_type": "code",
   "execution_count": null,
   "metadata": {
    "colab": {
     "base_uri": "https://localhost:8080/"
    },
    "executionInfo": {
     "elapsed": 267,
     "status": "ok",
     "timestamp": 1723498507966,
     "user": {
      "displayName": "Fernando pose",
      "userId": "13762058433143988011"
     },
     "user_tz": 180
    },
    "id": "DdxPk-aqhwOV",
    "outputId": "8c1bdf69-312e-4256-e0d5-37979310d032"
   },
   "outputs": [],
   "source": [
    "# prueba de la función rango\n",
    "lista = [3, 8, -3, 45, 8, 66]\n",
    "\n",
    "print(rango(lista))"
   ]
  },
  {
   "cell_type": "markdown",
   "metadata": {
    "id": "1tU12On95okm"
   },
   "source": [
    "## Argumentos por defecto"
   ]
  },
  {
   "cell_type": "code",
   "execution_count": null,
   "metadata": {
    "executionInfo": {
     "elapsed": 286,
     "status": "ok",
     "timestamp": 1723498559768,
     "user": {
      "displayName": "Fernando pose",
      "userId": "13762058433143988011"
     },
     "user_tz": 180
    },
    "id": "SFFtCmvh5qYa"
   },
   "outputs": [],
   "source": [
    "def mi_funcion_test(a, debug=False):\n",
    "    \"\"\"Esta función recibe un numeros y lo opera.\n",
    "    debug: permite activar mensajes para el proceso de desarrollo.\n",
    "    \"\"\"\n",
    "    if debug:\n",
    "        print(\"Este mensaje se muestra solamente cuando el usuario lo indica explícitamente...\")\n",
    "\n",
    "    return a*2"
   ]
  },
  {
   "cell_type": "code",
   "execution_count": null,
   "metadata": {
    "colab": {
     "base_uri": "https://localhost:8080/"
    },
    "executionInfo": {
     "elapsed": 3,
     "status": "ok",
     "timestamp": 1723498560785,
     "user": {
      "displayName": "Fernando pose",
      "userId": "13762058433143988011"
     },
     "user_tz": 180
    },
    "id": "m10x2-bF6OGM",
    "outputId": "1be9db85-0983-4f58-8a03-bf6f6688980c"
   },
   "outputs": [],
   "source": [
    "print(mi_funcion_test(2))"
   ]
  },
  {
   "cell_type": "code",
   "execution_count": null,
   "metadata": {
    "colab": {
     "base_uri": "https://localhost:8080/"
    },
    "executionInfo": {
     "elapsed": 301,
     "status": "ok",
     "timestamp": 1723498583324,
     "user": {
      "displayName": "Fernando pose",
      "userId": "13762058433143988011"
     },
     "user_tz": 180
    },
    "id": "5jypNhYi6So0",
    "outputId": "4abe2455-33f5-4efa-8c24-bf30c45ad09a"
   },
   "outputs": [],
   "source": [
    "print(mi_funcion_test(2, True))"
   ]
  },
  {
   "cell_type": "code",
   "execution_count": null,
   "metadata": {
    "colab": {
     "base_uri": "https://localhost:8080/"
    },
    "executionInfo": {
     "elapsed": 270,
     "status": "ok",
     "timestamp": 1723498624122,
     "user": {
      "displayName": "Fernando pose",
      "userId": "13762058433143988011"
     },
     "user_tz": 180
    },
    "id": "RhpbfO8n6Yhe",
    "outputId": "1e77f6e4-2081-423d-d950-9972da09648b"
   },
   "outputs": [],
   "source": [
    "print(mi_funcion_test(debug=True, a=2))"
   ]
  },
  {
   "cell_type": "markdown",
   "metadata": {
    "id": "t8lgREILkyGS"
   },
   "source": [
    "# Manejo de errores"
   ]
  },
  {
   "cell_type": "markdown",
   "metadata": {
    "id": "t32rC0p_k2-N"
   },
   "source": [
    "Para anticipar y manejar los errores, podemos usar la clausula **try** y **except**."
   ]
  },
  {
   "cell_type": "code",
   "execution_count": null,
   "metadata": {
    "colab": {
     "base_uri": "https://localhost:8080/",
     "height": 180
    },
    "executionInfo": {
     "elapsed": 287,
     "status": "error",
     "timestamp": 1723498659492,
     "user": {
      "displayName": "Fernando pose",
      "userId": "13762058433143988011"
     },
     "user_tz": 180
    },
    "id": "urEd44QnDpPu",
    "outputId": "0d6fb65e-61c9-4fcb-ea20-880d0f023d84"
   },
   "outputs": [],
   "source": [
    "a = \"25\"\n",
    "b = 5\n",
    "\n",
    "a+b"
   ]
  },
  {
   "cell_type": "code",
   "execution_count": null,
   "metadata": {
    "colab": {
     "base_uri": "https://localhost:8080/",
     "height": 376
    },
    "executionInfo": {
     "elapsed": 298,
     "status": "error",
     "timestamp": 1723498719250,
     "user": {
      "displayName": "Fernando pose",
      "userId": "13762058433143988011"
     },
     "user_tz": 180
    },
    "id": "c9pCy2q1k5_x",
    "outputId": "481d66d8-fbf7-46d5-8b64-00160b1ebbfe"
   },
   "outputs": [],
   "source": [
    "a = \"25\"\n",
    "b = 5\n",
    "\n",
    "try:\n",
    "    print(a+b)\n",
    "    print(\"Se interpreta esta linea.\")\n",
    "except:\n",
    "    print(int(a)+int(b)) # convierto a int ambas variables\n",
    "    print(\"Arriba pasó algo, se interpretó esta linea.\")"
   ]
  },
  {
   "cell_type": "code",
   "execution_count": null,
   "metadata": {
    "colab": {
     "base_uri": "https://localhost:8080/"
    },
    "executionInfo": {
     "elapsed": 279,
     "status": "ok",
     "timestamp": 1723498769121,
     "user": {
      "displayName": "Fernando pose",
      "userId": "13762058433143988011"
     },
     "user_tz": 180
    },
    "id": "lTKLgIQxlEP_",
    "outputId": "c32293e8-6a06-4550-b1bd-9f134ee934d0"
   },
   "outputs": [],
   "source": [
    "try:\n",
    "    print(a+b)\n",
    "except Exception as e:\n",
    "    print(\"El error fue {}\".format(e))"
   ]
  }
 ],
 "metadata": {
  "colab": {
   "collapsed_sections": [
    "Wdrum1nDHV8b",
    "0oXcCERaLNrl",
    "DFJYpLSbNfjT",
    "FkTbMmCCVf6i",
    "JveYLUFOWtbD",
    "dkR19jC1acWp",
    "S6Dw9OgCMXkM",
    "cUXHYhlEPfU2",
    "xgapyDLnTxZn",
    "plV6UNkWgGkK",
    "t8lgREILkyGS"
   ],
   "provenance": []
  },
  "kernelspec": {
   "display_name": "Python 3",
   "name": "python3"
  },
  "language_info": {
   "name": "python"
  }
 },
 "nbformat": 4,
 "nbformat_minor": 0
}

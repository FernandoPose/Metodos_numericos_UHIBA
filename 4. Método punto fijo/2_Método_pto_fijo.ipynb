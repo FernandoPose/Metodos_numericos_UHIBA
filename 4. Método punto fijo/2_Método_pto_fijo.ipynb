{
  "nbformat": 4,
  "nbformat_minor": 0,
  "metadata": {
    "colab": {
      "provenance": []
    },
    "kernelspec": {
      "name": "python3",
      "display_name": "Python 3"
    },
    "language_info": {
      "name": "python"
    }
  },
  "cells": [
    {
      "cell_type": "code",
      "source": [
        "import numpy as np\n",
        "import matplotlib.pyplot as plt\n",
        "import pandas as pd"
      ],
      "metadata": {
        "id": "VJ1553tE4moq"
      },
      "execution_count": 9,
      "outputs": []
    },
    {
      "cell_type": "code",
      "source": [
        "# Función para el método del punto fijo\n",
        "def punto_fijo(g, x0, tolerancia=1e-3, max_iter=10):\n",
        "    # Almacenar los valores de las iteraciones\n",
        "    valores_x = [x0]\n",
        "    valores_gx = []\n",
        "    errores = []\n",
        "\n",
        "    # Método del punto fijo\n",
        "    for i in range(max_iter):\n",
        "        x1 = g(x0)\n",
        "        valores_x.append(x1)\n",
        "        valores_gx.append(g(x0))\n",
        "        error = abs(x1 - x0)\n",
        "        errores.append(error)\n",
        "        if error < tolerancia:\n",
        "            break\n",
        "        x0 = x1\n",
        "\n",
        "    return valores_x, valores_gx, errores\n",
        "\n",
        "# Función para graficar el resultado\n",
        "def graficar_punto_fijo(valores_x, valores_gx, errores, g):\n",
        "    # Preparar datos para la gráfica\n",
        "    x_vals = np.linspace(min(valores_x) - 0.1, max(valores_x) + 0.1, 400)\n",
        "    y_vals_g = g(x_vals)\n",
        "\n",
        "    # Crear la figura con subplots: uno para la gráfica y otro para la tabla\n",
        "    fig, (ax1, ax2) = plt.subplots(1, 2, figsize=(12, 6))\n",
        "\n",
        "    # --- Primer gráfico (iteraciones del punto fijo) ---\n",
        "    # Graficar g(x) y y = x\n",
        "    ax1.plot(x_vals, y_vals_g, label=r'$y = g(x)$', color='green', lw=1.5)\n",
        "    ax1.plot(x_vals, x_vals, label=r'$y = x$', color='blue', lw=1.5)\n",
        "\n",
        "    # Dibujar las flechas de las iteraciones\n",
        "    for i in range(len(valores_x) - 1):\n",
        "        ax1.annotate('', xy=(valores_x[i], g(valores_x[i])), xytext=(valores_x[i], valores_x[i]),\n",
        "                     arrowprops=dict(facecolor='black', edgecolor='black', arrowstyle='->'))\n",
        "        ax1.annotate('', xy=(g(valores_x[i]), g(valores_x[i])), xytext=(valores_x[i], g(valores_x[i])),\n",
        "                     arrowprops=dict(facecolor='black', edgecolor='black', arrowstyle='->'))\n",
        "\n",
        "    # Configuraciones adicionales para la gráfica\n",
        "    ax1.set_xlabel('x')\n",
        "    ax1.set_ylabel('y')\n",
        "    ax1.set_title('Iteraciones del Método del Punto Fijo')\n",
        "    ax1.legend(loc='lower right')\n",
        "    ax1.grid(True)\n",
        "    x_min = min(valores_x) - 0.01\n",
        "    x_max = max(valores_x) + 0.01\n",
        "    ax1.set_xlim(x_min, x_max)\n",
        "    ax1.set_ylim(x_min, x_max)\n",
        "\n",
        "    # --- Segundo subplot (tabla de valores) ---\n",
        "    # Crear los datos para la tabla\n",
        "    col_labels = ['Iteración', '$x_n$', '$g(x_n)$', '$|x_n - x_{n+1}|$']\n",
        "    table_data = []\n",
        "    for i in range(len(valores_gx)):\n",
        "        table_data.append([i+1, f'{valores_x[i]:.4f}', f'{valores_gx[i]:.4f}', f'{errores[i]:.4f}'])\n",
        "\n",
        "    # Añadir la tabla\n",
        "    ax2.axis('tight')\n",
        "    ax2.axis('off')\n",
        "    table = ax2.table(cellText=table_data, colLabels=col_labels, loc='center', cellLoc='center', colColours=['#f2f2f2']*4)\n",
        "\n",
        "    # Ajustar la disposición\n",
        "    plt.tight_layout()\n",
        "\n",
        "    # Mostrar la gráfica y la tabla\n",
        "    plt.show()"
      ],
      "metadata": {
        "id": "khUF6pHooc99"
      },
      "execution_count": 10,
      "outputs": []
    },
    {
      "cell_type": "markdown",
      "source": [
        "# Anteriormente"
      ],
      "metadata": {
        "id": "pvOtZFfyRi5h"
      }
    },
    {
      "cell_type": "markdown",
      "source": [
        "# Ejemplo\n",
        "$f(x) = e^{x}+x-4 $  \n",
        "raíz entre [1,2]"
      ],
      "metadata": {
        "id": "Y_ntlv4Y9i47"
      }
    },
    {
      "cell_type": "markdown",
      "source": [
        "### Solución 1\n",
        "$g_{1}(x) =4-e^{x}$  \n",
        "\n",
        "### Solución 2\n",
        "$g_{2}(x)=log(4−x)$ (usando el logaritmo natural)\n",
        "\n",
        "### Solución 3\n",
        "$g_{3}(x) = e^{x}-4 + 2x $\n"
      ],
      "metadata": {
        "id": "fWenNXj-tWDE"
      }
    },
    {
      "cell_type": "code",
      "source": [
        "# Definimos las funciones g y sus derivadas\n",
        "g1 = lambda x: 4 - np.exp(x)\n",
        "#g1_derivada = lambda x: np.abs(-np.exp(x))\n",
        "\n",
        "g2 = lambda x: np.log(4 - x)\n",
        "#g2_derivada = lambda x: np.abs(-1 / (4 - x))\n",
        "\n",
        "g3 = lambda x: np.exp(x) - 4 + 2*x\n",
        "#g3_derivada = lambda x: np.abs(np.exp(x) + 2)\n"
      ],
      "metadata": {
        "id": "gsFTbhdIos38"
      },
      "execution_count": 11,
      "outputs": []
    },
    {
      "cell_type": "code",
      "source": [
        "x0 = 0.5  # Valor inicial\n",
        "tolerancia = 1e-3\n",
        "max_iter = 10\n",
        "\n",
        "# Llamar a la función punto_fijo para obtener los valores\n",
        "valores_x, valores_gx, errores = punto_fijo(g3, x0, tolerancia, max_iter)\n",
        "\n",
        "# Graficar el resultado\n",
        "graficar_punto_fijo(valores_x, valores_gx, errores, g1)"
      ],
      "metadata": {
        "id": "VZdrxk5LoWG8"
      },
      "execution_count": null,
      "outputs": []
    },
    {
      "cell_type": "markdown",
      "source": [
        "# La convergencia del método de punto fijo está determinada por varios factores:\n",
        "\n",
        "1. Elección de $g(x)$: No todas las reescrituras de\n",
        "$f(x)=0$ en la forma $x=g(x)$ son adecuadas para el método de punto fijo. Algunas funciones $g(x)$ pueden no tener puntos fijos o pueden alejarse del punto fijo con cada iteración\n",
        "\n",
        "2. Derivada de $g(x)$: Si existe un punto fijo $p$ tal que\n",
        "$g(p)=p$ y si ∣$g′(p)$∣<1, entonces el método de punto fijo converge linealmente para valores iniciales $p_{0}$ suficientemente cercanos a $p$. Si ∣$g′(p)$∣>1, el método puede no converger.\n",
        "\n",
        "3. Valor inicial $p_{0}$ : Incluso con una buena elección de $g(x)$, si el valor inicial  $p_{0}$ está demasiado alejado del punto fijo real, el método puede no converger o puede converger muy lentamente.\n",
        "\n",
        "4. Iteraciones oscilatorias: En algunos casos, el método de punto fijo puede oscilar entre dos o más valores sin converger a un punto fijo.\n",
        "\n",
        "5. Iteraciones divergentes: El método puede alejarse del punto fijo real con cada iteración en lugar de acercarse a él.\n"
      ],
      "metadata": {
        "id": "mZAyqtISQRUK"
      }
    },
    {
      "cell_type": "markdown",
      "source": [
        "**Resumiendo...**\n",
        "\n",
        "\n",
        "\n",
        "> Para evaluar la convergencia de un método iterativo basado en una función $g$, uno de los criterios más comunes es el Criterio de Convergencia de punto fijo. Según este criterio, si\n",
        "$∣g'(x)∣<1$ en un intervalo que contiene a la raíz, entonces el método iterativo $x_{n+1}=g(x_{n})$ es convergente en ese intervalo.\n",
        "\n"
      ],
      "metadata": {
        "id": "yYd2Wal2-M9g"
      }
    },
    {
      "cell_type": "markdown",
      "source": [
        "**Dicho de manera fácil, si la derivada de $g$ en magnitud es menor que 1 cerca de la raíz, entonces la función $g$ es convergente.**"
      ],
      "metadata": {
        "id": "FSr-pJbK_x3u"
      }
    },
    {
      "cell_type": "markdown",
      "source": [
        "### Derivemos Y Para evaluar la convergencia, necesitamos verificar si\n",
        "$∣g_{1,2,3}'(x)∣<1$ cerca de la raíz. Por ejemplo [-2,2]\n",
        "\n",
        "#### Solución 1\n",
        "$g_{1}(x) =4-e^{x}$  \n",
        "\n",
        "$g_{1}'(x) =-e^{x}$  \n",
        "\n",
        "#### Solución 2\n",
        "$g_{2}(x)=log(4−x)$\n",
        "\n",
        "\n",
        "$g_{2}'(x)$ = $\\frac{-1}{\\text{4-$x$}} $\n",
        "\n",
        "\n",
        "\n",
        "#### Solución 3\n",
        "$g_{3}(x) = e^{x}-4 + 2x $\n",
        "\n",
        "$g_{3}'(x) = e^{x}+ 2 $\n"
      ],
      "metadata": {
        "id": "_GaYjjYKAIjc"
      }
    },
    {
      "cell_type": "code",
      "source": [
        "# Evaluamos las derivadas en un intervalo razonable para las funciones\n",
        "# Definimos las funciones g y sus derivadas\n",
        "#g1 = lambda x: 4 - np.exp(x)\n",
        "g1_derivada = lambda x: np.abs(-np.exp(x))\n",
        "\n",
        "#g2 = lambda x: np.log(4 - x)\n",
        "g2_derivada = lambda x: np.abs(-1 / (4 - x))\n",
        "\n",
        "#g3 = lambda x: np.exp(x) - 4 + 2*x\n",
        "g3_derivada = lambda x: np.abs(np.exp(x) + 2)\n",
        "\n",
        "INTERVALO_INICIAL = -2\n",
        "INTERVALO_FINAL = 2\n",
        "x_values_g1 = np.linspace(INTERVALO_INICIAL, INTERVALO_FINAL, 400)\n",
        "x_values_g2 = np.linspace(INTERVALO_INICIAL, INTERVALO_FINAL, 400)  # Evitamos valores donde log(4 - x) no está definida\n",
        "x_values_g3 = np.linspace(INTERVALO_INICIAL, INTERVALO_FINAL, 400)\n"
      ],
      "metadata": {
        "id": "YOnuuyDfn8Po"
      },
      "execution_count": 19,
      "outputs": []
    },
    {
      "cell_type": "code",
      "source": [
        "# Crear la figura con subplots ajustados\n",
        "plt.figure(figsize=(10, 12))\n",
        "\n",
        "# Subplot para g1\n",
        "plt.subplot(3, 1, 1)\n",
        "plt.plot(x_values_g1, g1_derivada(x_values_g1), label=\"|g1'(x)|\", color='blue')\n",
        "plt.axhline(1, color='red', linestyle='--', linewidth=0.5, label='|g\\'(x)| = 1')\n",
        "plt.title(r\"|g1'(x)|=|$-e^{x}$|\", fontsize=14)\n",
        "plt.xlabel('x')\n",
        "plt.ylabel('|g1\\'(x)|')\n",
        "plt.grid(True)\n",
        "plt.legend()\n",
        "\n",
        "# Subplot para g2\n",
        "plt.subplot(3, 1, 2)\n",
        "plt.plot(x_values_g2, g2_derivada(x_values_g2), label=\"|g2'(x)|\", color='green')\n",
        "plt.axhline(1, color='red', linestyle='--', linewidth=0.5, label='|g\\'(x)| = 1')\n",
        "plt.title(r\"|g2'(x)|=|-1/(4-x)$|\", fontsize=14)\n",
        "plt.xlabel('x')\n",
        "plt.ylabel('|g2\\'(x)|')\n",
        "plt.grid(True)\n",
        "plt.legend()\n",
        "\n",
        "# Subplot para g3\n",
        "plt.subplot(3, 1, 3)\n",
        "plt.plot(x_values_g3, g3_derivada(x_values_g3), label=\"|g3'(x)|\", color='purple')\n",
        "plt.axhline(1, color='red', linestyle='--', linewidth=0.5, label='|g\\'(x)| = 1')\n",
        "plt.title(r\"|g3'(x)|=|$e^{x}+2$|\", fontsize=14)\n",
        "plt.xlabel('x')\n",
        "plt.ylabel('|g3\\'(x)|')\n",
        "plt.grid(True)\n",
        "plt.legend()\n",
        "\n",
        "# Ajustar la disposición para evitar superposiciones\n",
        "plt.tight_layout()\n",
        "\n",
        "# Mostrar la gráfica\n",
        "plt.show()\n"
      ],
      "metadata": {
        "id": "1od-zt0onkQr"
      },
      "execution_count": null,
      "outputs": []
    },
    {
      "cell_type": "markdown",
      "source": [
        "## Conclusión\n",
        "\n",
        "Para $g_{1}$\n",
        "\n",
        "\n",
        "* Dado que g1'(x)=$-e^{x}$\n",
        "  y su magnitud es siempre mayor que 1, no esperamos que el método de punto fijo converja para esta función. Si intentas correr el método, es probable que no encuentres una raíz o que alcances el número máximo de iteraciones sin obtener una solución que cumpla con la tolerancia deseada.\n",
        "\n",
        "Para $g_{2}$\n",
        "\n",
        "* La derivada es $g2'(x)=-1/(4-x)$. Esta función tiene una discontinuidad en x=4. Dependiendo del valor inicial\n",
        "$p0$ y del intervalo en el que estés trabajando, el método podría converger a una solución o no. Si $p0$ está cerca de 4, es probable que el método no converja. Sin embargo, si eliges un $p0$ adecuado y alejado de 4, podrías encontrar una raíz.\n",
        "\n",
        "Para $g_{3}$\n",
        "\n",
        "\n",
        "* Dado que g3'(x)= $e^{x}+ 2$ y su magnitud es siempre mayor que 1, no esperamos que el método de punto fijo converja para esta función. Al igual que con $g_{1}$, al correr el método, no encuentramos una raíz y alcanzamos el número máximo de iteraciones sin obtener una solución que cumpla con la tolerancia deseada.\n"
      ],
      "metadata": {
        "id": "HATcLmaBixHu"
      }
    },
    {
      "cell_type": "markdown",
      "source": [
        "# Cerramos con Sympy y  presentación Newton\n",
        "\n",
        "$f(x) = x-e^{-x}$\n",
        "\n",
        "$g(x)=e^{-x}$ 🧙\n",
        "\n",
        "$g'(x)=-e^{-x}$ 🏂\n"
      ],
      "metadata": {
        "id": "ceZX_HGmhzlY"
      }
    },
    {
      "cell_type": "markdown",
      "source": [
        "# SymPy\n",
        "\n",
        "![imagen.png](data:image/png;base64,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)\n",
        "\n",
        "https://www.sympy.org/es/"
      ],
      "metadata": {
        "id": "eVHtezxdlEpt"
      }
    },
    {
      "cell_type": "markdown",
      "source": [
        "### ¿Qué es SymPy?\n",
        "\n",
        "SymPy es una biblioteca de Python para matemática simbólica. A diferencia de la matemática numérica, donde se realizan cálculos con números específicos, la matemática simbólica trabaja con expresiones matemáticas en forma simbólica. Por ejemplo, en lugar de obtener un valor decimal para una derivada, SymPy puede proporcionar una fórmula exacta.\n",
        "\n",
        "#### ¿Qué se puede hacer con SymPy?\n",
        "\n",
        "Con SymPy, podes realizar una  variedad de operaciones, ejemplo:\n",
        "\n",
        "1. Álgebra: Simplificación, expansión, sustitución, solución de ecuaciones, etc.\n",
        "2. Cálculo: Derivación, integración, límites, series de Taylor, etc.\n",
        "3. Ecuaciones Diferenciales: Resolver ecuaciones diferenciales ordinarias y parciales.\n",
        "4. Geometría: Definir y manipular objetos geométricos como puntos, líneas, círculos, etc.\n",
        "5. Matrices: Operaciones con matrices, determinantes, autovalores, autovectores, etc.\n",
        "6. Gráficas: Visualizar funciones, regiones, y otros objetos matemáticos.\n",
        "7. Teoría de Números: Funciones primas, teoría de divisibilidad, etc.\n",
        "8. Física: Módulos específicos para mecánica clásica, óptica, cuántica, entre otros.\n",
        "9. Y mucho más: Lógica, polinomios, combinatoria, etc."
      ],
      "metadata": {
        "id": "W_gMugU3lUKO"
      }
    },
    {
      "cell_type": "markdown",
      "source": [
        "### SymPy vs NumPy\n",
        "\n",
        "**SymPy:**\n",
        "\n",
        "Enfoque: Matemática simbólica.\n",
        "\n",
        "Propósito: Manipulación algebraica, simplificación, derivación, integración, solución de ecuaciones y muchas otras operaciones en forma simbólica.\n",
        "\n",
        "Resultado: Proporciona respuestas exactas en forma de expresiones matemáticas.\n",
        "\n",
        "Uso: Ideal para matemáticas teóricas, derivación de fórmulas y cuando se necesita precisión exacta.\n",
        "\n",
        "**NumPy:**\n",
        "\n",
        "Enfoque: Computación numérica.\n",
        "\n",
        "Propósito: Proporciona operaciones matriciales, funciones matemáticas, herramientas para trabajar con arrays multidimensionales y mucho más.\n",
        "\n",
        "Resultado: Proporciona respuestas aproximadas en forma numérica.\n",
        "\n",
        "Uso: Ideal para cálculos científicos, ingeniería, análisis de datos y cuando se necesita rendimiento y cálculos con datos reales.\n",
        "\n",
        "**Similitudes**:\n",
        "\n",
        "Ambas son bibliotecas de Python diseñadas para cálculos matemáticos.\n",
        "Ambas tienen una amplia documentación y una comunidad activa.\n",
        "Proporcionan funciones y herramientas para una variedad de operaciones matemáticas.\n",
        "\n",
        "**Combinando SymPy y NumPy:**\n",
        "\n",
        "Aunque SymPy y NumPy tienen enfoques diferentes, a menudo es útil combinarlas, especialmente cuando se necesita derivar una fórmula simbólicamente y luego evaluarla numéricamente para diferentes conjuntos de datos.\n",
        "\n",
        "1. Derivar una fórmula con SymPy: Puedes usar SymPy para derivar una fórmula o expresión matemática.\n",
        "\n",
        "2. Convertir la fórmula a una función NumPy: Una vez que tienes una fórmula simbólica, puedes convertirla en una función NumPy usando lambdify de SymPy. Esto te permite evaluar la fórmula para arrays de datos.\n",
        "\n",
        "``` python\n",
        "from sympy import symbols, lambdify, sin\n",
        "import numpy as np\n",
        "\n",
        "x_ = symbols('x_')\n",
        "expr = sin(x_)\n",
        "f_ = lambdify(x_, expr, \"numpy\")\n",
        "\n",
        "\n",
        "y_values = f_(np.linspace(0, np.pi, 100))\n",
        "\n",
        "\n",
        "```\n",
        "3. Evaluación numérica: Una vez que tienes la función NumPy, puedes usarla para realizar cálculos numéricos rápidos, análisis de datos, graficación y más.\n"
      ],
      "metadata": {
        "id": "xtVh7poulz4M"
      }
    },
    {
      "cell_type": "code",
      "source": [
        "import sympy as sp\n",
        "\n",
        "# Definir la variable simbólica x\n",
        "x_ = sp.symbols('x_')\n",
        "\n",
        "# Definir la función f(x)\n",
        "f_ = x_ - sp.exp(-x_)\n",
        "\n",
        "# Calcular la derivada de f con respecto a x\n",
        "f__derivada = sp.diff(f_, x_)\n",
        "\n",
        "# Mostrar la función y su derivada\n",
        "print(\"f(x) =\", f_)\n",
        "print(\"f'(x) =\", f__derivada)\n",
        "\n",
        "# Si deseas evaluar la derivada en un punto específico, por ejemplo x=1:\n",
        "f__derivada.subs(x_, 1)\n",
        "\n"
      ],
      "metadata": {
        "id": "Y9K2ZDPClTcG"
      },
      "execution_count": null,
      "outputs": []
    },
    {
      "cell_type": "code",
      "source": [
        "valor_numerico = f__derivada.subs(x_, 1).evalf()\n",
        "print(\"f'(1) =\", valor_numerico)"
      ],
      "metadata": {
        "colab": {
          "base_uri": "https://localhost:8080/"
        },
        "id": "cIkyunWYnZ9c",
        "outputId": "42d32921-bd71-4145-ebba-08375378d057"
      },
      "execution_count": 22,
      "outputs": [
        {
          "output_type": "stream",
          "name": "stdout",
          "text": [
            "f'(1) = 1.36787944117144\n"
          ]
        }
      ]
    },
    {
      "cell_type": "code",
      "source": [
        "#graficar\n",
        "sp.plot(f_, (x_, -2, 2),\n",
        "        title=\"Gráfica de f(x) = x - e^{-x}\",\n",
        "        xlabel=\"x\", ylabel=\"f(x)\")\n"
      ],
      "metadata": {
        "id": "BuXrvcrAoJ2-"
      },
      "execution_count": null,
      "outputs": []
    },
    {
      "cell_type": "code",
      "source": [
        "# Encontrar las raíces de f_\n",
        "raices = sp.solve(f_, x_)\n",
        "\n",
        "print(\"Raíces de f(x) =\", raices)"
      ],
      "metadata": {
        "id": "8_Udg-atoLIv",
        "colab": {
          "base_uri": "https://localhost:8080/"
        },
        "outputId": "c3cc821f-126b-41b6-e7b2-21619cb62aca"
      },
      "execution_count": 24,
      "outputs": [
        {
          "output_type": "stream",
          "name": "stdout",
          "text": [
            "Raíces de f(x) = [LambertW(1)]\n"
          ]
        }
      ]
    },
    {
      "cell_type": "code",
      "source": [
        "# \"Vamos a tomar como raíz 'verdadera'\"\n",
        "raices_numericas = [raiz.evalf() for raiz in raices]\n",
        "print(\"Raíces numéricas de f(x) =\", raices_numericas)"
      ],
      "metadata": {
        "colab": {
          "base_uri": "https://localhost:8080/"
        },
        "id": "OGQew96_oW8Z",
        "outputId": "d881b78c-9100-4f2f-a664-4377a73706ca"
      },
      "execution_count": 25,
      "outputs": [
        {
          "output_type": "stream",
          "name": "stdout",
          "text": [
            "Raíces numéricas de f(x) = [0.567143290409784]\n"
          ]
        }
      ]
    },
    {
      "cell_type": "markdown",
      "source": [
        "# Método de Newton (o Método de Newton-Raphson) 🍎🌲\n",
        "\n",
        "\n",
        "\n",
        "El método de Newton es un algoritmo iterativo utilizado para encontrar aproximaciones de las raíces (o ceros) de una función real. Es uno de los métodos numéricos más conocidos y eficientes para encontrar raíces de funciones no lineales.\n",
        "\n",
        "**Fundamento:**\n",
        "El método se basa en la idea de linealizar la función en un punto y usar la recta tangente para encontrar una mejor aproximación de la raíz. La fórmula iterativa es:\n",
        "\n",
        "$x_{n+1} = x_n - \\frac{f(x_n)}{f'(x_n)}$\n",
        "\n",
        "Donde:\n",
        "- $x_{n}$ es la aproximación actual de la raíz.\n",
        "- $f(x_{n})$ es el valor de la función en $x_{n}$.\n",
        "- $f'(x_{n})$ es el valor de la derivada de la función en $x_{n}$.\n",
        "- $x_{n+1}$ es la próxima aproximación de la raíz.\n",
        "\n",
        "**Pasos básicos del método:**\n",
        "1. Escoge un valor inicial $x_{0}$ (a menudo basado en una suposición o gráficamente).\n",
        "2. Calcula $x_{1}$ usando la fórmula iterativa.\n",
        "3. Repite el proceso usando $x_{1}$ para encontrar $x_{2}$, y así sucesivamente, hasta que la diferencia entre dos aproximaciones consecutivas sea menor que un valor de tolerancia preestablecido o hasta que se alcance un número máximo de iteraciones.\n",
        "\n",
        "**Ventajas:**\n",
        "- Convergencia rápida: Bajo ciertas condiciones, el método de Newton tiene una convergencia cuadrática, lo que significa que puede duplicar el número de dígitos correctos en cada paso.\n",
        "- Es ampliamente utilizado debido a su eficiencia.\n",
        "\n",
        "**Desventajas:**\n",
        "- No garantiza la convergencia para cualquier valor inicial $x_{0}$.\n",
        "- Si $f'(x_{n})$ es muy pequeño o cero, el método puede no converger.\n",
        "- Puede converger a raíces diferentes dependiendo del valor inicial.\n",
        "\n",
        "**Requisitos para la convergencia:**\n",
        "- La función $f(x)$ debe ser continua y diferenciable en el intervalo de interés.\n",
        "- Se necesita una buena suposición inicial $x_{0}$cercana a la raíz real.\n",
        "- $f'(x)$ no debe ser cero cerca de la raíz.\n",
        "\n",
        "**Aplicaciones:**\n",
        "El método de Newton se utiliza en una amplia variedad de aplicaciones científicas y de ingeniería para resolver ecuaciones no lineales. También se ha extendido para resolver sistemas de ecuaciones no lineales y para optimización, encontrando máximos y mínimos de funciones.\n",
        "\n",
        "En resumen, el método de Newton es una herramienta poderosa y eficiente para encontrar raíces de funciones, pero es esencial entender sus limitaciones y asegurarse de que se cumplan las condiciones para su convergencia.\n",
        "\n"
      ],
      "metadata": {
        "id": "523I1kWK57jk"
      }
    },
    {
      "cell_type": "markdown",
      "source": [
        "![](https://grape-chartreuse-c77.notion.site/image/https%3A%2F%2Fs3-us-west-2.amazonaws.com%2Fsecure.notion-static.com%2Fb6d150f4-bb95-49b5-8aab-5be154e0a64f%2Fnewtonpng.png?table=block&id=0080859e-a80c-4e8b-a31f-2ab359f43d98&spaceId=4b5dbb55-8c34-40fb-9b23-8496ac94faae&width=2000&userId=&cache=v2)"
      ],
      "metadata": {
        "id": "X7Ni7rjI5_jQ"
      }
    },
    {
      "cell_type": "markdown",
      "source": [
        "![imagen.png](data:image/png;base64,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)"
      ],
      "metadata": {
        "id": "3OB5pWiv9FK4"
      }
    },
    {
      "cell_type": "code",
      "source": [
        "# librerías\n",
        "import matplotlib.pyplot as plt\n",
        "import numpy as np\n",
        "import pandas as pd"
      ],
      "metadata": {
        "id": "ChGQ11Sxoytc"
      },
      "execution_count": 26,
      "outputs": []
    },
    {
      "cell_type": "markdown",
      "source": [
        "## 01 Utilicemos numpy **x**"
      ],
      "metadata": {
        "id": "uqAl36jVSub6"
      }
    },
    {
      "cell_type": "code",
      "source": [
        "def f(x): return ( x**3-2*x-5)\n",
        "x = np.linspace(0,8,70)"
      ],
      "metadata": {
        "id": "en3znDKq6FFX"
      },
      "execution_count": 27,
      "outputs": []
    },
    {
      "cell_type": "code",
      "source": [
        "fig, ax = plt.subplots(nrows=1, ncols=1,figsize=(10,6))\n",
        "ax.plot(x,f(x),color='#4b0082', linewidth=3, label ='f(x)')\n",
        "ax.axhline(y=0, color='k', linestyle='-')\n",
        "ax.grid(True)\n",
        "ax.legend()\n",
        "plt.show()"
      ],
      "metadata": {
        "id": "vio_8ZtF9S-s"
      },
      "execution_count": null,
      "outputs": []
    },
    {
      "cell_type": "markdown",
      "source": [
        "## 02 Utilicemos sympy recordando que x seguido de guión bajo **x_**"
      ],
      "metadata": {
        "id": "zm9r5Zk39ZEW"
      }
    },
    {
      "cell_type": "code",
      "source": [
        "import sympy as sp\n",
        "from sympy.plotting import plot\n",
        "from sympy.solvers import solve\n",
        "x_ = sp.Symbol('x_')\n",
        "x_"
      ],
      "metadata": {
        "id": "1fOKjwEs9c_I",
        "colab": {
          "base_uri": "https://localhost:8080/",
          "height": 58
        },
        "outputId": "dad9f92f-e4e5-4ff1-d822-a91823040348"
      },
      "execution_count": 29,
      "outputs": [
        {
          "output_type": "execute_result",
          "data": {
            "text/plain": [
              "x_"
            ],
            "text/latex": "$\\displaystyle x_{}$"
          },
          "metadata": {},
          "execution_count": 29
        }
      ]
    },
    {
      "cell_type": "code",
      "source": [
        "f_ = x_**3-2*x_-5\n",
        "print(sp.roots(f_))\n",
        "plot(f_);"
      ],
      "metadata": {
        "id": "r7zXUUmF9e4V"
      },
      "execution_count": null,
      "outputs": []
    },
    {
      "cell_type": "code",
      "source": [
        "sp.diff(f_)"
      ],
      "metadata": {
        "id": "pkJ0Bbyf9iHw",
        "colab": {
          "base_uri": "https://localhost:8080/",
          "height": 58
        },
        "outputId": "0552a187-b5b3-43f9-f970-3e21243ae24a"
      },
      "execution_count": 31,
      "outputs": [
        {
          "output_type": "execute_result",
          "data": {
            "text/plain": [
              "3*x_**2 - 2"
            ],
            "text/latex": "$\\displaystyle 3 x_{}^{2} - 2$"
          },
          "metadata": {},
          "execution_count": 31
        }
      ]
    },
    {
      "cell_type": "markdown",
      "source": [
        "## ejemplo para esta clase $f(x)=x^3-2x-5$ solo para grafico 📈📉"
      ],
      "metadata": {
        "id": "pwGiKc9z9suh"
      }
    },
    {
      "cell_type": "code",
      "source": [
        "import numpy as np\n",
        "import matplotlib.pyplot as plt\n",
        "from matplotlib.animation import FuncAnimation\n",
        "from IPython.display import HTML\n",
        "import sympy as sp\n",
        "import pandas as pd\n",
        "\n",
        "# Definimos la función y sus derivadas utilizando SymPy\n",
        "x_ = sp.Symbol('x_')\n",
        "\n",
        "# Ejemplo de función\n",
        "f = x_**3 - 2*x_**2 - 5\n",
        "\n",
        "# Función para calcular la raíz mediante Newton-Raphson\n",
        "def metodo_newton(f, p0, tol=1e-4, max_iter=100):\n",
        "    derivada = sp.diff(f, x_)\n",
        "    i = 1\n",
        "    tabla = []\n",
        "    condicion = True\n",
        "    tabla.append([i, p0, f.subs(x_, p0).evalf(), abs(f.subs(x_, p0).evalf())])\n",
        "\n",
        "    while condicion:\n",
        "        p = p0 - f.subs(x_, p0).evalf() / derivada.subs(x_, p0).evalf()\n",
        "        error_abs = abs(p - p0)\n",
        "        tabla.append([i+1, p, f.subs(x_, p).evalf(), error_abs])\n",
        "\n",
        "        if error_abs < tol:\n",
        "            condicion = False\n",
        "            break\n",
        "        elif i >= max_iter:\n",
        "            condicion = False\n",
        "\n",
        "        p0 = p\n",
        "        i += 1\n",
        "\n",
        "    columnas = [\"Iteración\", \"p_n\", \"f(p_n)\", \"error_abs\"]\n",
        "    df_newton = pd.DataFrame(tabla, columns=columnas)\n",
        "    return df_newton\n",
        "\n",
        "# Generamos la tabla de valores para Newton-Raphson\n",
        "df_newton = metodo_newton(f, p0=6, tol=1e-4, max_iter=10)\n",
        "\n",
        "# Convertir la función simbólica f(x) a una función lambda de numpy para graficar\n",
        "f_np = sp.lambdify(x_, f, 'numpy')\n",
        "\n",
        "# Graficar la función f(x)\n",
        "x_vals = np.linspace(-4, 8, 400)  # Rango de x\n",
        "y_vals = f_np(x_vals)\n",
        "\n",
        "# Crear la figura con subplots para la gráfica y la tabla\n",
        "fig, (ax1, ax2) = plt.subplots(1, 2, figsize=(14, 6))\n",
        "\n",
        "# Graficar f(x)\n",
        "ax1.plot(x_vals, y_vals, label='f(x)', color='purple', lw=2)\n",
        "ax1.axhline(0, color='black', lw=1)  # Eje x\n",
        "\n",
        "# Para animar: puntos de Newton, las tangentes y la línea vertical punteada\n",
        "puntos, = ax1.plot([], [], 'bo', label=\"Puntos Newton\")  # Puntos donde caen las iteraciones\n",
        "linea_tangente, = ax1.plot([], [], 'r-', lw=2, label=\"Tangente\")  # Líneas tangentes\n",
        "linea_vertical, = ax1.plot([], [], 'r--', lw=1, label=\"Línea Vertical\")  # Línea punteada\n",
        "iter_text = ax1.text(0.05, 0.9, '', transform=ax1.transAxes, fontsize=12)  # Texto para la iteración\n",
        "\n",
        "# Configurar límites\n",
        "ax1.set_xlim(-4, 8)\n",
        "ax1.set_ylim(-100, 500)\n",
        "ax1.legend()\n",
        "ax1.set_title('Método de Newton-Raphson')\n",
        "\n",
        "# Función de inicialización para la animación\n",
        "def init():\n",
        "    puntos.set_data([], [])\n",
        "    linea_tangente.set_data([], [])\n",
        "    linea_vertical.set_data([], [])\n",
        "    iter_text.set_text('')\n",
        "    return puntos, linea_tangente, linea_vertical, iter_text\n",
        "\n",
        "# Función de actualización de la animación\n",
        "def update(frame):\n",
        "    # Tomar el valor actual de la iteración\n",
        "    p_n = df_newton.iloc[frame][\"p_n\"]\n",
        "\n",
        "    # Dibujar el punto\n",
        "    puntos.set_data(df_newton[\"p_n\"][:frame+1], df_newton[\"f(p_n)\"][:frame+1])\n",
        "\n",
        "    # Dibujar la tangente en p_n\n",
        "    derivada_np = sp.lambdify(x_, sp.diff(f, x_), 'numpy')\n",
        "    slope = derivada_np(p_n)\n",
        "    y_tangent = slope * (x_vals - p_n) + f_np(p_n)\n",
        "    linea_tangente.set_data(x_vals, y_tangent)\n",
        "\n",
        "    # Dibujar la línea vertical punteada en p_n\n",
        "    x_vert = [p_n, p_n]\n",
        "    y_vert = [0, f_np(p_n)]\n",
        "    linea_vertical.set_data(x_vert, y_vert)\n",
        "\n",
        "    # Actualizar el texto de la iteración\n",
        "    iter_text.set_text(f'Iteración: {frame+1}')\n",
        "\n",
        "    return puntos, linea_tangente, linea_vertical, iter_text\n",
        "\n",
        "# Añadir la tabla de resultados en el segundo subplot (ax2)\n",
        "# Crear los datos para la tabla\n",
        "col_labels = [\"Iteración\", \"$p_n$\", \"$f(p_n)$\", \"error\"]\n",
        "table_data = []\n",
        "for i in range(len(df_newton)):\n",
        "    table_data.append([\n",
        "        f'{df_newton[\"Iteración\"][i]}',\n",
        "        f'{df_newton[\"p_n\"][i]:.4f}',\n",
        "        f'{df_newton[\"f(p_n)\"][i]:.4f}',\n",
        "        f'{df_newton[\"error_abs\"][i]:.4f}'\n",
        "    ])\n",
        "\n",
        "# Configurar el subplot de la tabla\n",
        "ax2.axis('tight')\n",
        "ax2.axis('off')\n",
        "table = ax2.table(cellText=table_data, colLabels=col_labels, loc='center', cellLoc='center', colColours=['#f2f2f2']*4)\n",
        "\n",
        "# Crear la animación\n",
        "ani = FuncAnimation(fig, update, frames=len(df_newton), init_func=init, blit=True, interval=1000)\n",
        "\n",
        "# Ajustar la disposición de los subplots\n",
        "plt.tight_layout()\n",
        "\n",
        "# Mostrar la animación en HTML\n",
        "HTML(ani.to_html5_video())\n"
      ],
      "metadata": {
        "id": "zmF-mrCNukxb"
      },
      "execution_count": null,
      "outputs": []
    },
    {
      "cell_type": "code",
      "source": [
        "f_"
      ],
      "metadata": {
        "id": "_-D5vo9u_0e_",
        "colab": {
          "base_uri": "https://localhost:8080/",
          "height": 58
        },
        "outputId": "4bced638-fe13-46d8-a7ce-6627f6ce08ab"
      },
      "execution_count": 49,
      "outputs": [
        {
          "output_type": "execute_result",
          "data": {
            "text/plain": [
              "x_**3 - 2*x_ - 5"
            ],
            "text/latex": "$\\displaystyle x_{}^{3} - 2 x_{} - 5$"
          },
          "metadata": {},
          "execution_count": 49
        }
      ]
    },
    {
      "cell_type": "code",
      "source": [
        "metodo_newton(f_,p0=6,max_iter=10)"
      ],
      "metadata": {
        "id": "G1Bu_Ny_AEDa",
        "colab": {
          "base_uri": "https://localhost:8080/",
          "height": 321
        },
        "outputId": "4d24cd81-16f4-476b-b4ac-0bcba3712e47"
      },
      "execution_count": 50,
      "outputs": [
        {
          "output_type": "execute_result",
          "data": {
            "text/plain": [
              "   Iteración               p_n                f(p_n)             error_abs\n",
              "0          1                 6      199.000000000000      199.000000000000\n",
              "1          2  4.12264150943396      56.8238453555620      1.87735849056604\n",
              "2          3  2.96269941560800      15.0799554950076      1.15994209382596\n",
              "3          4  2.34296070379546      3.17567904315333     0.619738711812534\n",
              "4          5  2.12346993542419     0.328050581516394     0.219490768371275\n",
              "5          6  2.09501153804285   0.00513622202657693    0.0284583973813377\n",
              "6          7  2.09455160065368   1.32945402508966e-6  0.000459937389173160\n",
              "7          8  2.09455148154233  8.79296635503124e-14   1.19111343899192e-7"
            ],
            "text/html": [
              "\n",
              "  <div id=\"df-2349c958-4367-426f-acad-ccbfb37ed580\" class=\"colab-df-container\">\n",
              "    <div>\n",
              "<style scoped>\n",
              "    .dataframe tbody tr th:only-of-type {\n",
              "        vertical-align: middle;\n",
              "    }\n",
              "\n",
              "    .dataframe tbody tr th {\n",
              "        vertical-align: top;\n",
              "    }\n",
              "\n",
              "    .dataframe thead th {\n",
              "        text-align: right;\n",
              "    }\n",
              "</style>\n",
              "<table border=\"1\" class=\"dataframe\">\n",
              "  <thead>\n",
              "    <tr style=\"text-align: right;\">\n",
              "      <th></th>\n",
              "      <th>Iteración</th>\n",
              "      <th>p_n</th>\n",
              "      <th>f(p_n)</th>\n",
              "      <th>error_abs</th>\n",
              "    </tr>\n",
              "  </thead>\n",
              "  <tbody>\n",
              "    <tr>\n",
              "      <th>0</th>\n",
              "      <td>1</td>\n",
              "      <td>6</td>\n",
              "      <td>199.000000000000</td>\n",
              "      <td>199.000000000000</td>\n",
              "    </tr>\n",
              "    <tr>\n",
              "      <th>1</th>\n",
              "      <td>2</td>\n",
              "      <td>4.12264150943396</td>\n",
              "      <td>56.8238453555620</td>\n",
              "      <td>1.87735849056604</td>\n",
              "    </tr>\n",
              "    <tr>\n",
              "      <th>2</th>\n",
              "      <td>3</td>\n",
              "      <td>2.96269941560800</td>\n",
              "      <td>15.0799554950076</td>\n",
              "      <td>1.15994209382596</td>\n",
              "    </tr>\n",
              "    <tr>\n",
              "      <th>3</th>\n",
              "      <td>4</td>\n",
              "      <td>2.34296070379546</td>\n",
              "      <td>3.17567904315333</td>\n",
              "      <td>0.619738711812534</td>\n",
              "    </tr>\n",
              "    <tr>\n",
              "      <th>4</th>\n",
              "      <td>5</td>\n",
              "      <td>2.12346993542419</td>\n",
              "      <td>0.328050581516394</td>\n",
              "      <td>0.219490768371275</td>\n",
              "    </tr>\n",
              "    <tr>\n",
              "      <th>5</th>\n",
              "      <td>6</td>\n",
              "      <td>2.09501153804285</td>\n",
              "      <td>0.00513622202657693</td>\n",
              "      <td>0.0284583973813377</td>\n",
              "    </tr>\n",
              "    <tr>\n",
              "      <th>6</th>\n",
              "      <td>7</td>\n",
              "      <td>2.09455160065368</td>\n",
              "      <td>1.32945402508966e-6</td>\n",
              "      <td>0.000459937389173160</td>\n",
              "    </tr>\n",
              "    <tr>\n",
              "      <th>7</th>\n",
              "      <td>8</td>\n",
              "      <td>2.09455148154233</td>\n",
              "      <td>8.79296635503124e-14</td>\n",
              "      <td>1.19111343899192e-7</td>\n",
              "    </tr>\n",
              "  </tbody>\n",
              "</table>\n",
              "</div>\n",
              "    <div class=\"colab-df-buttons\">\n",
              "\n",
              "  <div class=\"colab-df-container\">\n",
              "    <button class=\"colab-df-convert\" onclick=\"convertToInteractive('df-2349c958-4367-426f-acad-ccbfb37ed580')\"\n",
              "            title=\"Convert this dataframe to an interactive table.\"\n",
              "            style=\"display:none;\">\n",
              "\n",
              "  <svg xmlns=\"http://www.w3.org/2000/svg\" height=\"24px\" viewBox=\"0 -960 960 960\">\n",
              "    <path d=\"M120-120v-720h720v720H120Zm60-500h600v-160H180v160Zm220 220h160v-160H400v160Zm0 220h160v-160H400v160ZM180-400h160v-160H180v160Zm440 0h160v-160H620v160ZM180-180h160v-160H180v160Zm440 0h160v-160H620v160Z\"/>\n",
              "  </svg>\n",
              "    </button>\n",
              "\n",
              "  <style>\n",
              "    .colab-df-container {\n",
              "      display:flex;\n",
              "      gap: 12px;\n",
              "    }\n",
              "\n",
              "    .colab-df-convert {\n",
              "      background-color: #E8F0FE;\n",
              "      border: none;\n",
              "      border-radius: 50%;\n",
              "      cursor: pointer;\n",
              "      display: none;\n",
              "      fill: #1967D2;\n",
              "      height: 32px;\n",
              "      padding: 0 0 0 0;\n",
              "      width: 32px;\n",
              "    }\n",
              "\n",
              "    .colab-df-convert:hover {\n",
              "      background-color: #E2EBFA;\n",
              "      box-shadow: 0px 1px 2px rgba(60, 64, 67, 0.3), 0px 1px 3px 1px rgba(60, 64, 67, 0.15);\n",
              "      fill: #174EA6;\n",
              "    }\n",
              "\n",
              "    .colab-df-buttons div {\n",
              "      margin-bottom: 4px;\n",
              "    }\n",
              "\n",
              "    [theme=dark] .colab-df-convert {\n",
              "      background-color: #3B4455;\n",
              "      fill: #D2E3FC;\n",
              "    }\n",
              "\n",
              "    [theme=dark] .colab-df-convert:hover {\n",
              "      background-color: #434B5C;\n",
              "      box-shadow: 0px 1px 3px 1px rgba(0, 0, 0, 0.15);\n",
              "      filter: drop-shadow(0px 1px 2px rgba(0, 0, 0, 0.3));\n",
              "      fill: #FFFFFF;\n",
              "    }\n",
              "  </style>\n",
              "\n",
              "    <script>\n",
              "      const buttonEl =\n",
              "        document.querySelector('#df-2349c958-4367-426f-acad-ccbfb37ed580 button.colab-df-convert');\n",
              "      buttonEl.style.display =\n",
              "        google.colab.kernel.accessAllowed ? 'block' : 'none';\n",
              "\n",
              "      async function convertToInteractive(key) {\n",
              "        const element = document.querySelector('#df-2349c958-4367-426f-acad-ccbfb37ed580');\n",
              "        const dataTable =\n",
              "          await google.colab.kernel.invokeFunction('convertToInteractive',\n",
              "                                                    [key], {});\n",
              "        if (!dataTable) return;\n",
              "\n",
              "        const docLinkHtml = 'Like what you see? Visit the ' +\n",
              "          '<a target=\"_blank\" href=https://colab.research.google.com/notebooks/data_table.ipynb>data table notebook</a>'\n",
              "          + ' to learn more about interactive tables.';\n",
              "        element.innerHTML = '';\n",
              "        dataTable['output_type'] = 'display_data';\n",
              "        await google.colab.output.renderOutput(dataTable, element);\n",
              "        const docLink = document.createElement('div');\n",
              "        docLink.innerHTML = docLinkHtml;\n",
              "        element.appendChild(docLink);\n",
              "      }\n",
              "    </script>\n",
              "  </div>\n",
              "\n",
              "\n",
              "<div id=\"df-8362bc8f-e08d-4ce9-bb08-60f1c7016a7e\">\n",
              "  <button class=\"colab-df-quickchart\" onclick=\"quickchart('df-8362bc8f-e08d-4ce9-bb08-60f1c7016a7e')\"\n",
              "            title=\"Suggest charts\"\n",
              "            style=\"display:none;\">\n",
              "\n",
              "<svg xmlns=\"http://www.w3.org/2000/svg\" height=\"24px\"viewBox=\"0 0 24 24\"\n",
              "     width=\"24px\">\n",
              "    <g>\n",
              "        <path d=\"M19 3H5c-1.1 0-2 .9-2 2v14c0 1.1.9 2 2 2h14c1.1 0 2-.9 2-2V5c0-1.1-.9-2-2-2zM9 17H7v-7h2v7zm4 0h-2V7h2v10zm4 0h-2v-4h2v4z\"/>\n",
              "    </g>\n",
              "</svg>\n",
              "  </button>\n",
              "\n",
              "<style>\n",
              "  .colab-df-quickchart {\n",
              "      --bg-color: #E8F0FE;\n",
              "      --fill-color: #1967D2;\n",
              "      --hover-bg-color: #E2EBFA;\n",
              "      --hover-fill-color: #174EA6;\n",
              "      --disabled-fill-color: #AAA;\n",
              "      --disabled-bg-color: #DDD;\n",
              "  }\n",
              "\n",
              "  [theme=dark] .colab-df-quickchart {\n",
              "      --bg-color: #3B4455;\n",
              "      --fill-color: #D2E3FC;\n",
              "      --hover-bg-color: #434B5C;\n",
              "      --hover-fill-color: #FFFFFF;\n",
              "      --disabled-bg-color: #3B4455;\n",
              "      --disabled-fill-color: #666;\n",
              "  }\n",
              "\n",
              "  .colab-df-quickchart {\n",
              "    background-color: var(--bg-color);\n",
              "    border: none;\n",
              "    border-radius: 50%;\n",
              "    cursor: pointer;\n",
              "    display: none;\n",
              "    fill: var(--fill-color);\n",
              "    height: 32px;\n",
              "    padding: 0;\n",
              "    width: 32px;\n",
              "  }\n",
              "\n",
              "  .colab-df-quickchart:hover {\n",
              "    background-color: var(--hover-bg-color);\n",
              "    box-shadow: 0 1px 2px rgba(60, 64, 67, 0.3), 0 1px 3px 1px rgba(60, 64, 67, 0.15);\n",
              "    fill: var(--button-hover-fill-color);\n",
              "  }\n",
              "\n",
              "  .colab-df-quickchart-complete:disabled,\n",
              "  .colab-df-quickchart-complete:disabled:hover {\n",
              "    background-color: var(--disabled-bg-color);\n",
              "    fill: var(--disabled-fill-color);\n",
              "    box-shadow: none;\n",
              "  }\n",
              "\n",
              "  .colab-df-spinner {\n",
              "    border: 2px solid var(--fill-color);\n",
              "    border-color: transparent;\n",
              "    border-bottom-color: var(--fill-color);\n",
              "    animation:\n",
              "      spin 1s steps(1) infinite;\n",
              "  }\n",
              "\n",
              "  @keyframes spin {\n",
              "    0% {\n",
              "      border-color: transparent;\n",
              "      border-bottom-color: var(--fill-color);\n",
              "      border-left-color: var(--fill-color);\n",
              "    }\n",
              "    20% {\n",
              "      border-color: transparent;\n",
              "      border-left-color: var(--fill-color);\n",
              "      border-top-color: var(--fill-color);\n",
              "    }\n",
              "    30% {\n",
              "      border-color: transparent;\n",
              "      border-left-color: var(--fill-color);\n",
              "      border-top-color: var(--fill-color);\n",
              "      border-right-color: var(--fill-color);\n",
              "    }\n",
              "    40% {\n",
              "      border-color: transparent;\n",
              "      border-right-color: var(--fill-color);\n",
              "      border-top-color: var(--fill-color);\n",
              "    }\n",
              "    60% {\n",
              "      border-color: transparent;\n",
              "      border-right-color: var(--fill-color);\n",
              "    }\n",
              "    80% {\n",
              "      border-color: transparent;\n",
              "      border-right-color: var(--fill-color);\n",
              "      border-bottom-color: var(--fill-color);\n",
              "    }\n",
              "    90% {\n",
              "      border-color: transparent;\n",
              "      border-bottom-color: var(--fill-color);\n",
              "    }\n",
              "  }\n",
              "</style>\n",
              "\n",
              "  <script>\n",
              "    async function quickchart(key) {\n",
              "      const quickchartButtonEl =\n",
              "        document.querySelector('#' + key + ' button');\n",
              "      quickchartButtonEl.disabled = true;  // To prevent multiple clicks.\n",
              "      quickchartButtonEl.classList.add('colab-df-spinner');\n",
              "      try {\n",
              "        const charts = await google.colab.kernel.invokeFunction(\n",
              "            'suggestCharts', [key], {});\n",
              "      } catch (error) {\n",
              "        console.error('Error during call to suggestCharts:', error);\n",
              "      }\n",
              "      quickchartButtonEl.classList.remove('colab-df-spinner');\n",
              "      quickchartButtonEl.classList.add('colab-df-quickchart-complete');\n",
              "    }\n",
              "    (() => {\n",
              "      let quickchartButtonEl =\n",
              "        document.querySelector('#df-8362bc8f-e08d-4ce9-bb08-60f1c7016a7e button');\n",
              "      quickchartButtonEl.style.display =\n",
              "        google.colab.kernel.accessAllowed ? 'block' : 'none';\n",
              "    })();\n",
              "  </script>\n",
              "</div>\n",
              "\n",
              "    </div>\n",
              "  </div>\n"
            ],
            "application/vnd.google.colaboratory.intrinsic+json": {
              "type": "dataframe",
              "summary": "{\n  \"name\": \"metodo_newton(f_,p0=6,max_iter=10)\",\n  \"rows\": 8,\n  \"fields\": [\n    {\n      \"column\": \"Iteraci\\u00f3n\",\n      \"properties\": {\n        \"dtype\": \"number\",\n        \"std\": 2,\n        \"min\": 1,\n        \"max\": 8,\n        \"num_unique_values\": 8,\n        \"samples\": [\n          2,\n          6,\n          1\n        ],\n        \"semantic_type\": \"\",\n        \"description\": \"\"\n      }\n    },\n    {\n      \"column\": \"p_n\",\n      \"properties\": {\n        \"dtype\": \"string\",\n        \"num_unique_values\": 8,\n        \"samples\": [\n          \"4.12264150943396\",\n          \"2.09501153804285\",\n          6\n        ],\n        \"semantic_type\": \"\",\n        \"description\": \"\"\n      }\n    },\n    {\n      \"column\": \"f(p_n)\",\n      \"properties\": {\n        \"dtype\": \"string\",\n        \"num_unique_values\": 8,\n        \"samples\": [\n          \"56.8238453555620\",\n          \"0.00513622202657693\",\n          \"199.000000000000\"\n        ],\n        \"semantic_type\": \"\",\n        \"description\": \"\"\n      }\n    },\n    {\n      \"column\": \"error_abs\",\n      \"properties\": {\n        \"dtype\": \"string\",\n        \"num_unique_values\": 8,\n        \"samples\": [\n          \"1.87735849056604\",\n          \"0.0284583973813377\",\n          \"199.000000000000\"\n        ],\n        \"semantic_type\": \"\",\n        \"description\": \"\"\n      }\n    }\n  ]\n}"
            }
          },
          "metadata": {},
          "execution_count": 50
        }
      ]
    },
    {
      "cell_type": "code",
      "source": [
        "solve(f_, x_)[2].evalf()"
      ],
      "metadata": {
        "id": "bJKyUGACAg8d",
        "colab": {
          "base_uri": "https://localhost:8080/",
          "height": 57
        },
        "outputId": "3fe36d3f-36d8-4503-f07e-3e80c1b5bef6"
      },
      "execution_count": 36,
      "outputs": [
        {
          "output_type": "execute_result",
          "data": {
            "text/plain": [
              "2.09455148154233"
            ],
            "text/latex": "$\\displaystyle 2.09455148154233$"
          },
          "metadata": {},
          "execution_count": 36
        }
      ]
    },
    {
      "cell_type": "markdown",
      "source": [
        "### Tarea !\n",
        " $f(x)=x^3-2x-5$"
      ],
      "metadata": {
        "id": "N5P1gt0j6Fu7"
      }
    },
    {
      "cell_type": "code",
      "source": [
        "f1_ = x_**2-x_-6\n",
        "sp.roots(f1_)\n",
        "solve(f1_, x_)"
      ],
      "metadata": {
        "id": "BC5LlaorPtzW",
        "colab": {
          "base_uri": "https://localhost:8080/"
        },
        "outputId": "a6ab656c-c159-42bc-f458-406eaa4644cf"
      },
      "execution_count": 37,
      "outputs": [
        {
          "output_type": "execute_result",
          "data": {
            "text/plain": [
              "[-2, 3]"
            ]
          },
          "metadata": {},
          "execution_count": 37
        }
      ]
    },
    {
      "cell_type": "code",
      "source": [
        "sp.diff(f1_, x_)"
      ],
      "metadata": {
        "id": "k1x74LqtPwgw",
        "colab": {
          "base_uri": "https://localhost:8080/",
          "height": 58
        },
        "outputId": "6f872dad-8725-4cdd-886d-af13eae8e0bd"
      },
      "execution_count": 38,
      "outputs": [
        {
          "output_type": "execute_result",
          "data": {
            "text/plain": [
              "2*x_ - 1"
            ],
            "text/latex": "$\\displaystyle 2 x_{} - 1$"
          },
          "metadata": {},
          "execution_count": 38
        }
      ]
    },
    {
      "cell_type": "code",
      "source": [
        "f1_.subs(x_,5).evalf()"
      ],
      "metadata": {
        "id": "86EfmWG_QT9O",
        "colab": {
          "base_uri": "https://localhost:8080/",
          "height": 57
        },
        "outputId": "d52daf75-72d6-4b08-cf3c-7ebc616feab8"
      },
      "execution_count": 40,
      "outputs": [
        {
          "output_type": "execute_result",
          "data": {
            "text/plain": [
              "14.0000000000000"
            ],
            "text/latex": "$\\displaystyle 14.0$"
          },
          "metadata": {},
          "execution_count": 40
        }
      ]
    }
  ]
}
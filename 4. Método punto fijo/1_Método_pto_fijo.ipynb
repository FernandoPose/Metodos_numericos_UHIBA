{
  "nbformat": 4,
  "nbformat_minor": 0,
  "metadata": {
    "colab": {
      "provenance": [],
      "toc_visible": true
    },
    "kernelspec": {
      "name": "python3",
      "display_name": "Python 3"
    },
    "language_info": {
      "name": "python"
    }
  },
  "cells": [
    {
      "cell_type": "markdown",
      "source": [
        "# Método del Punto Fijo $𝑥=𝑔(𝑥)$"
      ],
      "metadata": {
        "id": "hIHDh7VQa-S-"
      }
    },
    {
      "cell_type": "markdown",
      "source": [
        "El método del punto fijo es un método iterativo utilizado para encontrar soluciones a ecuaciones de la forma $𝑥=𝑔(𝑥)$, donde estamos interesados en encontrar un valor de $𝑥$ que, al aplicarle una función $ 𝑔(𝑥)$ , nos devuelva el mismo valor\n",
        "$𝑥$. Este valor es lo que llamamos el punto fijo de la función.\n",
        "\n",
        "\n",
        "\n",
        "> La explicación lo haremos en base a $f(x) = x-e^{-x}$\n",
        "\n",
        "\n",
        "\n"
      ],
      "metadata": {
        "id": "PQOLdecRJDht"
      }
    },
    {
      "cell_type": "markdown",
      "source": [
        "## 1. Transformación a la función $g(x)$\n",
        "Para utilizar el método de punto fijo, necesitamos expresar la ecuación\n",
        "$f(x)=0$ en la forma $x=g(x)$\n",
        "\n",
        "\n",
        "\n",
        "1.   $f(x)=0$ representa la búsqueda de las raíces o ceros de una función\n",
        "\n",
        "      $f(x) = x-e^{-x} = 0$\n",
        "\n",
        "2.    transformamos la ecuación $f(x)=0$ a una forma $x=g(x)$ con el propósito de encontrar soluciones iterativamente. En lugar de buscar directamente las raíces de $f(x)$, buscamos los puntos fijos de $g(x)$, que corresponden a las mismas raíces.\n",
        "\n",
        "\n",
        "\n",
        "> El término \"punto fijo\" se refiere a un punto en el cual una función no cambia su valor. Formalmente, un número $p$ es un punto fijo de una función $g(x)$ si y solo si $g(p)=p$. Esto significa que al aplicar la función\n",
        "$g$ al punto $p$, obtenemos el mismo punto $p$ como resultado."
      ],
      "metadata": {
        "id": "c59M6qs9JZ70"
      }
    },
    {
      "cell_type": "markdown",
      "source": [
        "En nuestro caso:\n",
        "\n",
        "$f(x)=x-e^{-x} = 0$\n",
        "\n",
        "$x = e^{-x}$\n",
        "\n",
        "$x = g(x)$\n",
        "\n",
        "$g(x)=e^{-x}$ 🧙\n"
      ],
      "metadata": {
        "id": "8tYAcs7CM80V"
      }
    },
    {
      "cell_type": "markdown",
      "source": [
        "## En paralelo vemos las raíces"
      ],
      "metadata": {
        "id": "fL1O5-_TMusm"
      }
    },
    {
      "cell_type": "code",
      "source": [
        "import sympy as sp\n",
        "import matplotlib.pyplot as plt\n",
        "\n",
        "# Definir la variable simbólica\n",
        "x_ = sp.symbols('x_')\n",
        "\n",
        "# Definir la función simbólica f(x) = x - exp(-x)\n",
        "f_ = x_ - sp.exp(-x_)\n",
        "\n",
        "# Graficar la función usando sympy.plot\n",
        "sp.plot(f_, (x_, -2, 2), title='Gráfico de f(x) = x - e^(-x)', ylabel='f(x)', xlabel='x', show=True);\n"
      ],
      "metadata": {
        "id": "05zwtGa8LW-B"
      },
      "execution_count": null,
      "outputs": []
    },
    {
      "cell_type": "code",
      "source": [
        "import sympy as sp\n",
        "\n",
        "# Definir la variable simbólica\n",
        "x_ = sp.symbols('x_')\n",
        "\n",
        "# Definir la función simbólica f(x) = x - exp(-x)\n",
        "f_ = x_ - sp.exp(-x_)\n",
        "\n",
        "# Resolver la ecuación f(x) = 0\n",
        "raices_ = sp.solve(f_, x_)\n",
        "\n",
        "# Obtener el valor numérico de la raíz\n",
        "raiz_aproximada = raices_[0].evalf()\n",
        "\n",
        "# Mostrar la raíz simbólica y su valor numérico\n",
        "#print(f\"Raíz simbólica: {raices_}\")\n",
        "print(f\"Raíz aproximada: {raiz_aproximada}\")\n"
      ],
      "metadata": {
        "colab": {
          "base_uri": "https://localhost:8080/"
        },
        "id": "xNruvF40LrGn",
        "outputId": "842a944b-aca3-469e-99d4-78a5ad625a1f"
      },
      "execution_count": 15,
      "outputs": [
        {
          "output_type": "stream",
          "name": "stdout",
          "text": [
            "Raíz aproximada: 0.567143290409784\n"
          ]
        }
      ]
    },
    {
      "cell_type": "code",
      "source": [
        "import numpy as np\n",
        "import matplotlib.pyplot as plt\n",
        "\n",
        "# Definir las funciones\n",
        "def g_x(x):\n",
        "    return np.exp(-x)\n",
        "\n",
        "# Definir el rango de valores para x\n",
        "x_vals = np.linspace(-2, 2, 400)\n",
        "\n",
        "# Calcular los valores de las funciones\n",
        "y_vals_g = g_x(x_vals)  # g(x) = e^(-x)\n",
        "y_vals_identidad = x_vals  # y = x\n",
        "\n",
        "# Crear los subplots: 1 fila, 2 columnas\n",
        "fig, (ax1, ax2) = plt.subplots(1, 2, figsize=(14, 6))\n",
        "\n",
        "# --- Primer gráfico: g(x) y y = x en el rango completo ---\n",
        "ax1.plot(x_vals, y_vals_g, label=r'$g(x) = e^{-x}$', color='blue')\n",
        "ax1.plot(x_vals, y_vals_identidad, label=r'$y = x$', color='orange')\n",
        "ax1.axhline(0, color='black',linewidth=1)\n",
        "ax1.axvline(0, color='black',linewidth=1)\n",
        "ax1.set_title('Gráfico de $g(x) = e^{-x}$ y $y = x$')\n",
        "ax1.set_xlabel('x')\n",
        "ax1.set_ylabel('y')\n",
        "ax1.grid(True)\n",
        "ax1.legend()\n",
        "\n",
        "# --- Segundo gráfico: Gráfico con zoom ---\n",
        "ax2.plot(x_vals, y_vals_g, label=r'$g(x) = e^{-x}$', color='blue')\n",
        "ax2.plot(x_vals, y_vals_identidad, label=r'$y = x$', color='orange')\n",
        "ax2.axhline(0, color='black',linewidth=1)\n",
        "ax2.axvline(0, color='black',linewidth=1)\n",
        "\n",
        "# Hacer zoom en el área de interés\n",
        "ax2.set_xlim(0.4, 0.7)\n",
        "ax2.set_ylim(0.4, 0.7)\n",
        "\n",
        "# Añadir el recuadro para la región de zoom en el gráfico completo\n",
        "ax1.add_patch(plt.Rectangle((0.4, 0.4), 0.3, 0.3, fill=False, edgecolor='gray', linestyle='--'))\n",
        "\n",
        "ax2.set_title('Zoom en el área donde $g(x) = e^{-x}$ y $y = x$ se cruzan')\n",
        "ax2.set_xlabel('x')\n",
        "ax2.set_ylabel('y')\n",
        "ax2.grid(True)\n",
        "ax2.legend()\n",
        "\n",
        "# Ajustar espacio entre los gráficos\n",
        "plt.tight_layout()\n",
        "\n",
        "# Mostrar los gráficos\n",
        "plt.show()\n"
      ],
      "metadata": {
        "id": "GgL1zWf5Mp_9"
      },
      "execution_count": null,
      "outputs": []
    },
    {
      "cell_type": "code",
      "source": [
        "import numpy as np\n",
        "import matplotlib.pyplot as plt\n",
        "\n",
        "# Definir la función g(x)\n",
        "def g_x(x_vals):\n",
        "    return np.exp(-x_vals)\n",
        "\n",
        "# Definir el rango de valores para x\n",
        "x_vals = np.linspace(-2, 2, 400)\n",
        "\n",
        "# Calcular los valores de las funciones\n",
        "y_vals_g = g_x(x_vals)  # g(x) = e^(-x)\n",
        "y_vals_identidad = x_vals  # y = x\n",
        "\n",
        "# Crear la figura y el subplot principal\n",
        "fig, ax = plt.subplots(nrows=1, ncols=1, figsize=(8,6))\n",
        "\n",
        "# Gráfica principal\n",
        "ax.plot(x_vals, y_vals_g, label=r'$g(x) = e^{-x}$', color='blue')\n",
        "ax.plot(x_vals, y_vals_identidad, label=r'$y = x$', linestyle='-', color='orange')\n",
        "\n",
        "# Ejes y líneas guía\n",
        "ax.axhline(0, color='black',linewidth=0.5)\n",
        "ax.axvline(0, color='black',linewidth=0.5)\n",
        "\n",
        "# Etiquetas y leyenda\n",
        "ax.set_xlabel('x')\n",
        "ax.set_ylabel('y')\n",
        "ax.grid(True, linestyle='--', linewidth=0.5)\n",
        "ax.legend()\n",
        "\n",
        "# Inset (zoom en la intersección)\n",
        "axins = ax.inset_axes([0.5, 0.5, 0.45, 0.45])  # Definir la ubicación y tamaño del inset (zoom)\n",
        "axins.plot(x_vals, y_vals_g, label=r'$g(x) = e^{-x}$', color='blue')\n",
        "axins.plot(x_vals, y_vals_identidad, label=r'$y = x$', color='orange')\n",
        "\n",
        "# Definir los límites del zoom\n",
        "x1, x2 = 0.4, 0.7\n",
        "y1, y2 = 0.4, 0.7\n",
        "axins.set_xlim(x1, x2)\n",
        "axins.set_ylim(y1, y2)\n",
        "\n",
        "# Añadir líneas de cuadrícula en el zoom\n",
        "axins.grid(True, linestyle='--', linewidth=0.5)\n",
        "\n",
        "# Indicar la región del zoom en la gráfica principal\n",
        "ax.indicate_inset_zoom(axins, edgecolor=\"black\")\n",
        "\n",
        "# Mostrar la gráfica\n",
        "plt.show()\n"
      ],
      "metadata": {
        "id": "XOk5nDVAPOnU"
      },
      "execution_count": null,
      "outputs": []
    },
    {
      "cell_type": "markdown",
      "source": [
        "# otra forma de verlo\n",
        "Gráficas de\n",
        "$𝑓(𝑥)$ y $𝑔(𝑥)$: Método del Punto Fijo"
      ],
      "metadata": {
        "id": "SjlwqLAfRYdb"
      }
    },
    {
      "cell_type": "code",
      "source": [
        "import numpy as np\n",
        "import matplotlib.pyplot as plt\n",
        "import matplotlib.patches as patches\n",
        "\n",
        "# Definir las funciones\n",
        "def f(x):\n",
        "    return x - np.exp(-x)\n",
        "\n",
        "def g(x):\n",
        "    return np.exp(-x)\n",
        "\n",
        "# Definir el rango de valores para x\n",
        "x_vals = np.linspace(0, 1, 400)\n",
        "\n",
        "# Calcular los valores de las funciones\n",
        "y_f = f(x_vals)\n",
        "y_g = g(x_vals)\n",
        "y_x = x_vals  # Representación de y = x\n",
        "\n",
        "# Crear la figura y los subplots\n",
        "fig, (ax1, ax2) = plt.subplots(nrows=2, ncols=1, figsize=(10,8), sharex=True)\n",
        "\n",
        "# --- Gráfica superior: f(x) ---\n",
        "ax1.plot(x_vals, y_f, color='indigo', linewidth=1.5, label=r\"$f(x)= x - e^{-x}$\")\n",
        "ax1.axhline(0, color='black', linewidth=0.85)\n",
        "\n",
        "# Etiquetas y leyenda\n",
        "ax1.set_ylabel('y')\n",
        "ax1.legend(loc='lower left')\n",
        "ax1.set_title(\"Gráfico de $f(x) = x - e^{-x}$\")\n",
        "ax1.grid(True, linestyle='--', linewidth=0.5)\n",
        "\n",
        "# --- Gráfica inferior: g(x) y y(x) ---\n",
        "ax2.plot(x_vals, y_g, color='blue', linewidth=1.5, label=r\"$g(x) = e^{-x}$\")\n",
        "ax2.plot(x_vals, y_x, color='orange', linewidth=1.5, label=r\"$y(x) = x$\")\n",
        "ax2.axhline(0, color='black', linewidth=0.85)\n",
        "\n",
        "# Etiquetas, leyenda y cuadrícula\n",
        "ax2.set_xlabel('x')\n",
        "ax2.set_ylabel('y')\n",
        "ax2.legend(loc='upper right')\n",
        "ax2.set_title(\"Gráficas de $g(x) = e^{-x}$ y $y(x) = x$\")\n",
        "ax2.grid(True, linestyle='--', linewidth=0.5)\n",
        "\n",
        "# --- Añadir los rectángulos para resaltar la región ---\n",
        "rect_color = '#fb30f1'\n",
        "ax2.add_patch(patches.Rectangle((0.55, -0.5), 0.05, 2, edgecolor='black', facecolor=rect_color, alpha=0.2))\n",
        "ax1.add_patch(patches.Rectangle((0.55, -0.5), 0.05, 1, edgecolor='black', facecolor=rect_color, alpha=0.2))\n",
        "\n",
        "# Ajustar el espaciado entre las gráficas\n",
        "plt.tight_layout()\n",
        "\n",
        "# Mostrar la gráfica\n",
        "plt.show()\n"
      ],
      "metadata": {
        "id": "8pB-4KrzRa2m"
      },
      "execution_count": null,
      "outputs": []
    },
    {
      "cell_type": "markdown",
      "source": [
        "## Concepto del Método del Punto Fijo\n",
        "\n",
        "El método del punto fijo es un método iterativo utilizado para encontrar soluciones a ecuaciones de la forma $𝑥=𝑔(𝑥)$, donde estamos interesados en encontrar un valor de $𝑥$ que, al aplicarle una función $𝑔(𝑥)$ , nos devuelva el mismo valor\n",
        "$𝑥$. **Este valor es lo que llamamos el punto fijo de la función**.\n",
        "\n",
        "\n",
        "## ¿Cómo funciona el método?\n",
        "La idea es tomar una suposición inicial\n",
        "$𝑥_0$ y aplicarle la función $𝑔(𝑥)$. Luego, el valor resultante $𝑥_1$ se convierte en la siguiente entrada, y así sucesivamente:\n",
        "\n",
        "$𝑥_1$=$g(𝑥_0)$,    $𝑥_2$=$g(𝑥_1)$,    $𝑥_3$=$g(𝑥_2)$ , ....\n",
        "\n",
        "Este proceso se repite hasta que la diferencia entre $𝑥_n$ y $𝑥_{n+1}$ sea suficientemente pequeña, lo que significa que hemos encontrado un punto fijo con la precisión deseada."
      ],
      "metadata": {
        "id": "dRZ71U46S64x"
      }
    },
    {
      "cell_type": "markdown",
      "source": [
        "### pero antes..."
      ],
      "metadata": {
        "id": "prRpJjlVXjME"
      }
    },
    {
      "cell_type": "markdown",
      "source": [
        "mini ejemplo: Imaginemos que tenemos la función\n",
        "\n",
        "$g(x)=e^{-x}$ , y estamos buscando un valor  x  tal que  $x=e^{-x}$  :\n",
        "\n",
        "x=0.5\n",
        "\n",
        "$g(0.5)=e^{-0.5}≈0.6065 $\n",
        "\n",
        "x=0.567\n",
        "\n",
        "$g(0.567)=e^{-0.567}≈0.567 $"
      ],
      "metadata": {
        "id": "_8XGbEQTXtAr"
      }
    },
    {
      "cell_type": "code",
      "source": [
        "import numpy as np\n",
        "x_1 = 0.5\n",
        "resultado = np.exp(-x_1)\n",
        "print(\"resultado: \",resultado)\n",
        "if resultado == x_1:\n",
        "  print(\"Es un punto fijo para la función 𝑔(𝑥)\")\n",
        "else:\n",
        "  print(\"NO es un punto fijo para la función 𝑔(𝑥)\")\n"
      ],
      "metadata": {
        "id": "gWZNqscVXuGt"
      },
      "execution_count": null,
      "outputs": []
    },
    {
      "cell_type": "code",
      "source": [
        "import numpy as np\n",
        "x_1 = 0.567\n",
        "resultado = np.exp(-x_1)\n",
        "print(\"resultado: \",resultado)\n",
        "# Definir una tolerancia\n",
        "tolerancia = 1e-3\n",
        "\n",
        "\n",
        "resultado = np.exp(-x_1)\n",
        "# Comparación con tolerancia\n",
        "if abs(resultado - x_1) < tolerancia:\n",
        "    print(\"Es un punto fijo para la función 𝑔(𝑥) dentro de la tolerancia\")\n",
        "else:\n",
        "    print(\"NO es un punto fijo para la función 𝑔(𝑥) dentro de la tolerancia\")"
      ],
      "metadata": {
        "colab": {
          "base_uri": "https://localhost:8080/"
        },
        "id": "JsNiKWL7X0wg",
        "outputId": "423980e5-74cf-43ab-b625-3eaa3e69ad13"
      },
      "execution_count": 41,
      "outputs": [
        {
          "output_type": "stream",
          "name": "stdout",
          "text": [
            "resultado:  0.5672245624268841\n",
            "Es un punto fijo para la función 𝑔(𝑥) dentro de la tolerancia\n"
          ]
        }
      ]
    },
    {
      "cell_type": "markdown",
      "source": [
        "### Ahora sí, el pseudocódigo"
      ],
      "metadata": {
        "id": "sbiWQ0i8YK_8"
      }
    },
    {
      "cell_type": "markdown",
      "source": [
        "![](https://grape-chartreuse-c77.notion.site/image/https%3A%2F%2Fs3-us-west-2.amazonaws.com%2Fsecure.notion-static.com%2F1b4e5759-24f8-4517-ab23-b7771c2ddda0%2FUntitled.png?table=block&id=859dbb02-4a36-46de-b515-660ebb9942fa&spaceId=4b5dbb55-8c34-40fb-9b23-8496ac94faae&width=1040&userId=&cache=v2)"
      ],
      "metadata": {
        "id": "VGyQ3tSzYgc8"
      }
    },
    {
      "cell_type": "markdown",
      "source": [
        "![](https://grape-chartreuse-c77.notion.site/image/https%3A%2F%2Fs3-us-west-2.amazonaws.com%2Fsecure.notion-static.com%2F267d4a3b-630c-4e18-9a50-c24bcf54acf7%2FUntitled.png?table=block&id=977136c3-e715-4d99-82ce-f2d8c30e7220&spaceId=4b5dbb55-8c34-40fb-9b23-8496ac94faae&width=1560&userId=&cache=v2)"
      ],
      "metadata": {
        "id": "ELFtwZ8kYjy1"
      }
    },
    {
      "cell_type": "markdown",
      "source": [
        "Podemos probar con un valor cercano a $p_0=\n",
        "0.5$ (tmb $x_0$) . Vamos a ver si podemos alcanzar el punto fijo en alrededor de 4 iteraciones.\n",
        "\n",
        "\n",
        "Iteración 1: $p_0 = 0.5$\n",
        "\n",
        "Iteración 2: $p_1=e^{(-0.5)}≈0.606531$\n",
        "\n",
        "Iteración 3: $p_2=e^{(0.606531)}≈0.545239$\n",
        "\n",
        "Iteración 4: $p_3=e^{(0.545239)}≈0.579704$\n"
      ],
      "metadata": {
        "id": "HtTURd_GYz09"
      }
    },
    {
      "cell_type": "code",
      "source": [
        "import numpy as np\n",
        "p0= 0.5\n",
        "tolerancia= 1e-3\n",
        "for i in range(1,100):\n",
        "  p = np.exp(-p0)\n",
        "  print(\"p:\", p)\n",
        "  #actualizar p0=p\n",
        "\n",
        "  if abs(p - p0) < tolerancia:\n",
        "    print(\"Es un punto fijo para la función 𝑔(𝑥) dentro de la tolerancia\")\n",
        "    print(\"p: \",p, \" con iteraciones: \",i,\" con tol de: \",tolerancia)\n",
        "    break\n",
        "  else:\n",
        "    p0=p\n",
        "    print(\"NO es un punto fijo para la función 𝑔(𝑥) dentro de la tolerancia\")\n"
      ],
      "metadata": {
        "id": "NgkTJ-ytYfx7"
      },
      "execution_count": null,
      "outputs": []
    },
    {
      "cell_type": "code",
      "source": [
        "condicion = True\n",
        "Nmax = 55\n",
        "\n",
        "i = 1\n",
        "p0= 0.5\n",
        "tolerancia= 1e-3\n",
        "\n",
        "while condicion:\n",
        "  p = np.exp(-p0)\n",
        "  error_abs = abs(p-p0)\n",
        "  if error_abs < tolerancia:\n",
        "    condicion = False\n",
        "    print(\"Encontraste la raíz\", p, \" con iteraciones: \",i)\n",
        "  elif  i>=Nmax:\n",
        "    print(\"Encontraste la raíz\", p, \" con Max iteraciones: \",i)\n",
        "    condicion = False\n",
        "  p0 = p\n",
        "  i = i + 1\n",
        ""
      ],
      "metadata": {
        "id": "VJSrxGDtbs4A"
      },
      "execution_count": null,
      "outputs": []
    },
    {
      "cell_type": "markdown",
      "source": [
        "# Evolución del Error entre Iteraciones"
      ],
      "metadata": {
        "id": "zfIr5os8cpDl"
      }
    },
    {
      "cell_type": "code",
      "source": [
        "import math\n",
        "import matplotlib.pyplot as plt\n",
        "\n",
        "# Función g(x) = e^(-x)\n",
        "def g(x):\n",
        "    return math.exp(-x)\n",
        "\n",
        "# Valor inicial\n",
        "x0 = 0.5\n",
        "\n",
        "# Tolerancia y máximo de iteraciones\n",
        "tolerancia = 1e-3\n",
        "max_iter = 100\n",
        "\n",
        "# Almacenar los valores de las iteraciones\n",
        "valores_x = [x0]\n",
        "errores = []  # Para almacenar las diferencias entre x_n y x_{n+1}\n",
        "\n",
        "print(f\"Iteración {0}: x = {x0}\")\n",
        "# Método del punto fijo con ciclo for\n",
        "for i in range(max_iter):\n",
        "    x1 = g(x0)\n",
        "    print(f\"Iteración {i+1}: x = {x1}\")\n",
        "    valores_x.append(x1)\n",
        "\n",
        "    # Guardamos el error (diferencia entre x_n y x_{n+1})\n",
        "    error = abs(x1 - x0)\n",
        "    errores.append(error)\n",
        "\n",
        "    # Condición de parada: si la diferencia es menor que la tolerancia\n",
        "    if error < tolerancia:\n",
        "        print(f\"El punto fijo se alcanzó en la iteración {i+1}\")\n",
        "        break\n",
        "\n",
        "    # Actualizamos x0 para la próxima iteración\n",
        "    x0 = x1\n",
        "else:\n",
        "    print(\"El método no convergió dentro del número máximo de iteraciones\")\n",
        "\n",
        "# Crear dos subplots\n",
        "fig, (ax1, ax2) = plt.subplots(2, 1, figsize=(8, 8))\n",
        "\n",
        "# Gráfico de la evolución del valor de x\n",
        "ax1.plot(valores_x, marker='o')\n",
        "ax1.set_title('Evolución del Punto Fijo con g(x) = e^{-x}')\n",
        "ax1.set_xlabel('Iteración')\n",
        "ax1.set_ylabel('Valor de x')\n",
        "ax1.grid(True)\n",
        "\n",
        "# Gráfico de la evolución de la diferencia (error)\n",
        "ax2.plot(errores, marker='x', color='r', label='Error |x_n - x_{n+1}|')\n",
        "ax2.axhline(y=tolerancia, color='g', linestyle='--', label='Tolerancia')\n",
        "ax2.set_title('Evolución del Error entre Iteraciones')\n",
        "ax2.set_xlabel('Iteración')\n",
        "ax2.set_ylabel('Error')\n",
        "ax2.grid(True)\n",
        "ax2.legend()\n",
        "\n",
        "# Mostrar los gráficos\n",
        "plt.tight_layout()\n",
        "plt.show()\n"
      ],
      "metadata": {
        "id": "Ty0bq-Jrc_0p"
      },
      "execution_count": null,
      "outputs": []
    },
    {
      "cell_type": "markdown",
      "source": [
        "# otra forma de verlo"
      ],
      "metadata": {
        "id": "Kp-HsbrgiSTN"
      }
    },
    {
      "cell_type": "code",
      "source": [
        "import numpy as np\n",
        "import matplotlib.pyplot as plt\n",
        "from matplotlib.animation import FuncAnimation\n",
        "from IPython.display import HTML\n",
        "\n",
        "\n",
        "\n",
        "# Función g(x) = e^(-x)\n",
        "def g(x):\n",
        "    return np.exp(-x)\n",
        "\n",
        "# Valor inicial\n",
        "x0 = 2  # Cambia este valor según tus necesidades\n",
        "\n",
        "# Tolerancia y máximo de iteraciones\n",
        "tolerancia = 1e-3\n",
        "max_iter = 100\n",
        "\n",
        "# Almacenar los valores de las iteraciones\n",
        "valores_x = [x0]\n",
        "\n",
        "# Método del punto fijo con ciclo for\n",
        "for i in range(max_iter):\n",
        "    x1 = g(x0)\n",
        "    valores_x.append(x1)\n",
        "    if abs(x1 - x0) < tolerancia:\n",
        "        break\n",
        "    x0 = x1\n",
        "\n",
        "# Preparar datos para la gráfica\n",
        "x_vals = np.linspace(0, 2, 400)  # Rango para la gráfica de e^(-x)\n",
        "exp_vals = np.exp(-x_vals)\n",
        "\n",
        "# Determinar límites dinámicos en función de los valores calculados\n",
        "x_min = min(valores_x) - 0.1  # Pequeño margen\n",
        "x_max = max(valores_x) + 0.1\n",
        "y_min = min(g(x) for x in valores_x) - 0.1\n",
        "y_max = max(g(x) for x in valores_x) + 0.1\n",
        "\n",
        "\n",
        "\n",
        "\n",
        "# Configurar la figura y los ejes\n",
        "fig, ax = plt.subplots(figsize=(10, 6))\n",
        "xdata, ydata = [], []\n",
        "ln, = plt.plot([], [], 'ro--')\n",
        "\n",
        "# Graficar la función e^(-x)\n",
        "ax.plot(x_vals, exp_vals, label=r'$y = e^{-x}$', color='blue')\n",
        "ax.plot(x_vals, x_vals, label=r'$y = e^{-x}$', color='orange')\n",
        "# Configurar límites dinámicos según el valor de x0\n",
        "ax.set_xlim(x_min, x_max)\n",
        "ax.set_ylim(y_min, y_max)\n",
        "ax.set_xlabel('x')\n",
        "ax.set_ylabel(r'$e^{-x}$')\n",
        "ax.set_title(f'Animación del Método del Punto Fijo para $g(x) = e^{{-x}}$ con $x_0 = {valores_x[0]}$')\n",
        "ax.grid(True)\n",
        "\n",
        "# Función de inicialización para limpiar el gráfico\n",
        "def init():\n",
        "    ln.set_data([], [])\n",
        "    return ln,\n",
        "\n",
        "# Función de actualización para la animación\n",
        "def update(frame):\n",
        "    x = valores_x[frame]\n",
        "    y = g(x)\n",
        "    xdata.append(x)\n",
        "    ydata.append(y)\n",
        "    ln.set_data(xdata, ydata)\n",
        "    return ln,\n",
        "\n",
        "# Crear la animación\n",
        "ani = FuncAnimation(fig, update, frames=len(valores_x), init_func=init, interval=2000, blit=True)\n",
        "\n",
        "# Mostrar solo la animación como video HTML y cerrar la figura\n",
        "plt.close(fig)  # Cerrar la figura para evitar que el gráfico se muestre\n",
        "HTML(ani.to_html5_video())\n",
        "\n",
        "\n",
        "\n"
      ],
      "metadata": {
        "id": "MubCH2FpiVgE"
      },
      "execution_count": null,
      "outputs": []
    },
    {
      "cell_type": "code",
      "source": [
        "import numpy as np\n",
        "import matplotlib.pyplot as plt\n",
        "from matplotlib.animation import FuncAnimation\n",
        "from IPython.display import HTML\n",
        "\n",
        "# Función g(x) = e^(-x)\n",
        "def g(x):\n",
        "    return np.exp(-x)\n",
        "\n",
        "# Valor inicial\n",
        "x0 = 0.5  # Cambia este valor según tus necesidades\n",
        "\n",
        "# Tolerancia y máximo de iteraciones\n",
        "tolerancia = 1e-3\n",
        "max_iter = 100\n",
        "\n",
        "# Almacenar los valores de las iteraciones\n",
        "valores_x = [x0]\n",
        "\n",
        "# Método del punto fijo con ciclo for\n",
        "for i in range(max_iter):\n",
        "    x1 = g(x0)\n",
        "    valores_x.append(x1)\n",
        "    if abs(x1 - x0) < tolerancia:\n",
        "        break\n",
        "    x0 = x1\n",
        "\n",
        "# Preparar datos para la gráfica\n",
        "x_vals = np.linspace(0, 2, 400)  # Rango para la gráfica de e^(-x)\n",
        "exp_vals = np.exp(-x_vals)\n",
        "\n",
        "# Determinar límites dinámicos en función de los valores calculados\n",
        "x_min = min(valores_x) - 0.1  # Pequeño margen\n",
        "x_max = max(valores_x) + 0.1\n",
        "y_min = min(g(x) for x in valores_x) - 0.1\n",
        "y_max = max(g(x) for x in valores_x) + 0.1\n",
        "\n",
        "# Crear los subplots: 1 fila, 2 columnas\n",
        "fig, (ax1, ax2) = plt.subplots(2, 1, figsize=(8, 10))\n",
        "\n",
        "# --- Primer gráfico (zoom sincronizado) ---\n",
        "# Graficar g(x) y y = x\n",
        "ax1.plot(x_vals, exp_vals, label=r'$g(x) = e^{-x}$', color='blue')\n",
        "ax1.plot(x_vals, x_vals, label=r'$y = x$', color='orange')\n",
        "\n",
        "# Añadir el recuadro de zoom\n",
        "rect = ax1.add_patch(plt.Rectangle((0.4, 0.4), 0.3, 0.3, fill=False, edgecolor='gray', linestyle='--'))\n",
        "\n",
        "# Añadir líneas de cuadrícula y ejes\n",
        "ax1.axhline(0, color='black', linewidth=0.5)\n",
        "ax1.axvline(0, color='black', linewidth=0.5)\n",
        "ax1.set_xlabel('x')\n",
        "ax1.set_ylabel('y')\n",
        "ax1.grid(True)\n",
        "ax1.legend()\n",
        "\n",
        "# --- Segundo gráfico (animación) ---\n",
        "ax2.plot(x_vals, exp_vals, label=r'$y = e^{-x}$', color='blue')\n",
        "ax2.plot(x_vals, x_vals, label=r'$y = x$', color='orange')\n",
        "ax2.set_xlim(x_min, x_max)\n",
        "ax2.set_ylim(y_min, y_max)\n",
        "ax2.set_xlabel('x')\n",
        "ax2.set_ylabel(r'$e^{-x}$')\n",
        "ax2.set_title(f'Animación del Método del Punto Fijo para $g(x) = e^{{-x}}$ con $x_0 = {valores_x[0]}$')\n",
        "ax2.grid(True)\n",
        "\n",
        "# Inicializar la línea de la animación y el texto de la iteración\n",
        "xdata, ydata = [], []\n",
        "ln, = ax2.plot([], [], 'ro--')\n",
        "text_iter = ax2.text(0.7, 0.8, '', transform=ax2.transAxes, fontsize=12, color='red')\n",
        "\n",
        "# Función de inicialización para limpiar los gráficos\n",
        "def init():\n",
        "    ln.set_data([], [])\n",
        "    text_iter.set_text('')\n",
        "    return ln, text_iter\n",
        "\n",
        "# Función de actualización para la animación\n",
        "def update(frame):\n",
        "    x = valores_x[frame]\n",
        "    y = g(x)\n",
        "\n",
        "    # Actualizar los datos del gráfico de la animación\n",
        "    xdata.append(x)\n",
        "    ydata.append(y)\n",
        "    ln.set_data(xdata, ydata)\n",
        "\n",
        "    # Actualizar los límites del recuadro de zoom\n",
        "    rect.set_xy((min(xdata) - 0.05, min(ydata) - 0.05))\n",
        "    rect.set_width(max(xdata) - min(xdata) + 0.1)\n",
        "    rect.set_height(max(ydata) - min(ydata) + 0.1)\n",
        "\n",
        "    # Actualizar el texto dinámico con la iteración\n",
        "    text_iter.set_text(f'Iteración: {frame}')\n",
        "\n",
        "    return ln, rect, text_iter\n",
        "\n",
        "# Crear la animación\n",
        "ani = FuncAnimation(fig, update, frames=len(valores_x), init_func=init, interval=2000, blit=True)\n",
        "\n",
        "# Mostrar solo la animación como video HTML y cerrar la figura\n",
        "plt.close(fig)\n",
        "HTML(ani.to_html5_video())\n"
      ],
      "metadata": {
        "id": "0O7hbazUyeeb"
      },
      "execution_count": null,
      "outputs": []
    },
    {
      "cell_type": "code",
      "source": [
        "#más formas\n",
        "import numpy as np\n",
        "import matplotlib.pyplot as plt\n",
        "\n",
        "# Función g(x) = e^(-x)\n",
        "def g(x):\n",
        "    return np.exp(-x)\n",
        "\n",
        "# Valor inicial\n",
        "x0 = 0.5  # Cambia este valor según tus necesidades\n",
        "\n",
        "# Tolerancia y máximo de iteraciones\n",
        "tolerancia = 1e-3\n",
        "max_iter = 10\n",
        "\n",
        "# Almacenar los valores de las iteraciones\n",
        "valores_x = [x0]\n",
        "\n",
        "# Método del punto fijo con ciclo for\n",
        "for i in range(max_iter):\n",
        "    x1 = g(x0)\n",
        "    valores_x.append(x1)\n",
        "    if abs(x1 - x0) < tolerancia:\n",
        "        break\n",
        "    x0 = x1\n",
        "\n",
        "# Preparar datos para la gráfica\n",
        "x_vals = np.linspace(min(valores_x) - 0.1, max(valores_x) + 0.1, 400)\n",
        "y_vals_g = g(x_vals)\n",
        "\n",
        "# Crear la figura y los ejes\n",
        "fig, ax = plt.subplots(figsize=(8, 6))\n",
        "\n",
        "# Graficar g(x) y y = x\n",
        "ax.plot(x_vals, y_vals_g, label=r'$y = g(x)$', color='green', lw=1.5)\n",
        "ax.plot(x_vals, x_vals, label=r'$y = x$', color='blue', lw=1.5)\n",
        "\n",
        "# Dibujar las flechas de las iteraciones\n",
        "for i in range(len(valores_x) - 1):\n",
        "    # Flecha vertical: de (x_n, 0) a (x_n, g(x_n))\n",
        "    ax.annotate('', xy=(valores_x[i], g(valores_x[i])), xytext=(valores_x[i], valores_x[i]),\n",
        "                arrowprops=dict(facecolor='black', edgecolor='black', arrowstyle='->'))\n",
        "\n",
        "    # Flecha horizontal: de (x_n, g(x_n)) a (g(x_n), g(x_n))\n",
        "    ax.annotate('', xy=(g(valores_x[i]), g(valores_x[i])), xytext=(valores_x[i], g(valores_x[i])),\n",
        "                arrowprops=dict(facecolor='black', edgecolor='black', arrowstyle='->'))\n",
        "\n",
        "# Etiquetas y configuraciones adicionales\n",
        "ax.set_xlabel('x')\n",
        "ax.set_ylabel('y')\n",
        "ax.set_title('Iteraciones del Método del Punto Fijo')\n",
        "ax.legend(loc='lower right')\n",
        "ax.grid(True)\n",
        "\n",
        "# Ajustar los límites en función de x0 y las iteraciones\n",
        "x_min = min(valores_x) - 0.01\n",
        "x_max = max(valores_x) + 0.01\n",
        "ax.set_xlim(x_min, x_max)\n",
        "ax.set_ylim(x_min, x_max)  # Limites simétricos para que se vea bien la relación y=x\n",
        "\n",
        "# Mostrar la gráfica\n",
        "plt.show()\n"
      ],
      "metadata": {
        "colab": {
          "base_uri": "https://localhost:8080/",
          "height": 565
        },
        "collapsed": true,
        "id": "WzxZjFvyvllo",
        "outputId": "f5b675f0-edbd-44d7-ebab-7c901c3e95fc"
      },
      "execution_count": 103,
      "outputs": [
        {
          "output_type": "display_data",
          "data": {
            "text/plain": [
              "<Figure size 800x600 with 1 Axes>"
            ],
            "image/png": "[encoded data removed]"
          },
          "metadata": {}
        }
      ]
    },
    {
      "cell_type": "code",
      "source": [
        "import numpy as np\n",
        "import matplotlib.pyplot as plt\n",
        "\n",
        "# Función g(x) = e^(-x)\n",
        "def g(x):\n",
        "    return np.exp(-x)\n",
        "\n",
        "# Valor inicial\n",
        "x0 = 0.5  # Cambia este valor según tus necesidades\n",
        "\n",
        "# Tolerancia y máximo de iteraciones\n",
        "tolerancia = 1e-3\n",
        "max_iter = 10\n",
        "\n",
        "# Almacenar los valores de las iteraciones\n",
        "valores_x = [x0]\n",
        "valores_gx = []\n",
        "errores = []\n",
        "\n",
        "# Método del punto fijo con ciclo for\n",
        "for i in range(max_iter):\n",
        "    x1 = g(x0)\n",
        "    valores_x.append(x1)\n",
        "    valores_gx.append(g(x0))\n",
        "    error = abs(x1 - x0)\n",
        "    errores.append(error)\n",
        "    if error < tolerancia:\n",
        "        break\n",
        "    x0 = x1\n",
        "\n",
        "# Preparar datos para la gráfica\n",
        "x_vals = np.linspace(min(valores_x) - 0.1, max(valores_x) + 0.1, 400)\n",
        "y_vals_g = g(x_vals)\n",
        "\n",
        "# Crear la figura con subplots: uno para la gráfica y otro para la tabla\n",
        "fig, (ax1, ax2) = plt.subplots(1, 2, figsize=(12, 6))\n",
        "\n",
        "# --- Primer gráfico (iteraciones del punto fijo) ---\n",
        "# Graficar g(x) y y = x\n",
        "ax1.plot(x_vals, y_vals_g, label=r'$y = g(x)$', color='green', lw=1.5)\n",
        "ax1.plot(x_vals, x_vals, label=r'$y = x$', color='blue', lw=1.5)\n",
        "\n",
        "# Dibujar las flechas de las iteraciones\n",
        "for i in range(len(valores_x) - 1):\n",
        "    ax1.annotate('', xy=(valores_x[i], g(valores_x[i])), xytext=(valores_x[i], valores_x[i]),\n",
        "                 arrowprops=dict(facecolor='black', edgecolor='black', arrowstyle='->'))\n",
        "    ax1.annotate('', xy=(g(valores_x[i]), g(valores_x[i])), xytext=(valores_x[i], g(valores_x[i])),\n",
        "                 arrowprops=dict(facecolor='black', edgecolor='black', arrowstyle='->'))\n",
        "\n",
        "# Configuraciones adicionales para la gráfica\n",
        "ax1.set_xlabel('x')\n",
        "ax1.set_ylabel('y')\n",
        "ax1.set_title('Iteraciones del Método del Punto Fijo')\n",
        "ax1.legend(loc='lower right')\n",
        "ax1.grid(True)\n",
        "x_min = min(valores_x) - 0.01\n",
        "x_max = max(valores_x) + 0.01\n",
        "ax1.set_xlim(x_min, x_max)\n",
        "ax1.set_ylim(x_min, x_max)\n",
        "\n",
        "# --- Segundo subplot (tabla de valores) ---\n",
        "# Crear los datos para la tabla\n",
        "col_labels = ['Iteración', '$x_n$', '$g(x_n)$', '$|x_n - x_{n+1}|$']\n",
        "table_data = []\n",
        "for i in range(len(valores_gx)):\n",
        "    table_data.append([i+1, f'{valores_x[i]:.4f}', f'{valores_gx[i]:.4f}', f'{errores[i]:.4f}'])\n",
        "\n",
        "# Añadir la tabla\n",
        "ax2.axis('tight')\n",
        "ax2.axis('off')\n",
        "table = ax2.table(cellText=table_data, colLabels=col_labels, loc='center', cellLoc='center', colColours=['#f2f2f2']*4)\n",
        "\n",
        "# Ajustar la disposición\n",
        "plt.tight_layout()\n",
        "\n",
        "# Mostrar la gráfica y la tabla\n",
        "plt.show()\n"
      ],
      "metadata": {
        "id": "HedzR1Dp1yR6"
      },
      "execution_count": null,
      "outputs": []
    },
    {
      "cell_type": "markdown",
      "source": [
        "# Resumen\n",
        "\n",
        "Pasos para el Método del Punto Fijo:\n",
        "\n",
        "Plantear el problema como $𝑥=𝑔(𝑥)$:\n",
        "\n",
        "\n",
        "* El primer paso es transformar la ecuación\n",
        "$𝑓(𝑥)=0$ a la forma $𝑥=𝑔(𝑥)$\n",
        "\n",
        "  Por ejemplo, para nuestra ecuación\n",
        "  $f(x) = x-e^{-x}$,  despejamos\n",
        "  𝑥\n",
        "  de manera que\n",
        "  $𝑥=𝑔(𝑥)=e^{-x}$\n",
        "\n",
        "  **Nota super importante**: El éxito del método puede depender de cómo transformas\n",
        "  $𝑓(𝑥)=0$ en una forma equivalente $x=g(x)$. Diferentes formas de\n",
        "  $g(x)$ pueden afectar la convergencia.\n",
        "\n",
        "* Verificar la continuidad y convergencia de $g(x)$:\n",
        "\n",
        "  Asegúrate de que la función $g(x)$ sea continua en el intervalo donde buscas la solución.\n",
        "  Además, para que el método del punto fijo sea convergente, es necesario que la derivada de $g(x)$ en el punto fijo sea menor que 1 en valor absoluto, es decir:\n",
        "  $∣𝑔′(𝑥)∣<1$ en el intervalo donde estés buscando la solución. Si $∣𝑔′(𝑥)∣≥1$ , el método podría no converger o hacerlo muy lentamente.\n",
        "\n",
        "* Seleccionar un valor inicial $x_0$ ó $p_0$\n",
        "  Elige un valor $x_0$ cercano al punto fijo que crees que existe. Si el valor inicial está muy lejos del punto fijo, el método podría no converger, o lo haría de manera más lenta.\n",
        "\n",
        "  El valor inicial $x_0$ debe estar en el intervalo donde esperas que el punto fijo se encuentre y donde $g(x)$ sea continua y convergente.\n",
        "\n",
        "* Seleccionar una tolerancia `tol`:\n",
        "\n",
        "  La tolerancia determina cuán cerca del punto fijo quieres estar antes de detener las iteraciones. Normalmente, se elige una tolerancia pequeña, como `tol` = $1×10{-3}$ o $1×10{-6}$, dependiendo de la precisión requerida.\n",
        "\n",
        "  La idea es que cuando la diferencia $∣x_{n+1}-x_n∣$ sea menor que\n",
        "  `tol`, consideramos que hemos encontrado una aproximación suficientemente buena del punto fijo.\n"
      ],
      "metadata": {
        "id": "2jRWzy9818d-"
      }
    },
    {
      "cell_type": "markdown",
      "source": [
        "# ejemplo:\n",
        "$f(x) = e^{x}+x-4 $  \n",
        "\n",
        "raíz entre [1,2]"
      ],
      "metadata": {
        "id": "AYz25EWu6Lk0"
      }
    },
    {
      "cell_type": "code",
      "source": [],
      "metadata": {
        "id": "lCOR4teI27CT"
      },
      "execution_count": null,
      "outputs": []
    }
  ]
}
{
  "nbformat": 4,
  "nbformat_minor": 0,
  "metadata": {
    "colab": {
      "provenance": []
    },
    "kernelspec": {
      "name": "python3",
      "display_name": "Python 3"
    },
    "language_info": {
      "name": "python"
    }
  },
  "cells": [
    {
      "cell_type": "code",
      "metadata": {
        "id": "DpNyueMrsxfT"
      },
      "source": [
        "import numpy as np\n",
        "import matplotlib.pyplot as plt\n",
        "\n",
        "from sklearn.linear_model import LinearRegression\n",
        "regresion_lineal = LinearRegression() # Esto lo vimos la clase anterior"
      ],
      "execution_count": 1,
      "outputs": []
    },
    {
      "cell_type": "code",
      "source": [
        "def plot_derivada_numerica(func, x1, x2, deltax_min=5, deltax_max=5):\n",
        "    # Calcular los límites del rango x_range basados en los puntos de referencia y los parámetros delta x\n",
        "    x_min = x1 - deltax_min\n",
        "    x_max = x2 + deltax_max\n",
        "\n",
        "    # Generar el rango np.arange basado en los límites calculados\n",
        "    x_range = np.arange(x_min, x_max, 0.5)\n",
        "\n",
        "    # Evaluar la función en el rango generado\n",
        "    y_range = func(x_range)\n",
        "\n",
        "    # Crear la figura y los ejes\n",
        "    fig, ax = plt.subplots(figsize=(8, 4))\n",
        "\n",
        "    # Configurar límites de ejes para estar siempre en el sector positivo\n",
        "    ax.set_xlim(0, max(x_max, max(x_range)))\n",
        "    ax.set_ylim(0, max(y_range))\n",
        "\n",
        "    # Graficar la función\n",
        "    ax.plot(x_range, y_range, label='f(x)')\n",
        "\n",
        "    # Puntos de referencia\n",
        "    reference_x = np.array([x1, x2])\n",
        "    reference_y = func(reference_x)\n",
        "\n",
        "    # Graficar los puntos de referencia\n",
        "    ax.scatter(reference_x, reference_y, s=60, marker='o', c='k')\n",
        "\n",
        "    # Ajustar la regresión lineal entre los puntos de referencia\n",
        "    puntos_seleccionados_x = reference_x.reshape(-1, 1)\n",
        "    puntos_seleccionados_y = reference_y\n",
        "    regresion_lineal = LinearRegression()\n",
        "    regresion_lineal.fit(puntos_seleccionados_x, puntos_seleccionados_y)\n",
        "\n",
        "    # Graficar la recta de regresión lineal\n",
        "    ax.plot(x_range, regresion_lineal.coef_ * x_range + regresion_lineal.intercept_, label=\"Recta de Regresión Lineal\")\n",
        "\n",
        "    # Configuración de ejes\n",
        "    ax.set_xlabel('x')\n",
        "    ax.set_ylabel('y')\n",
        "    ax.legend()\n",
        "\n",
        "    # Extender las líneas punteadas hasta el borde o marco de la imagen\n",
        "    ax.vlines(x=reference_x, ymin=0, ymax=reference_y, linestyle='--')\n",
        "    ax.hlines(y=reference_y, xmin=0, xmax=reference_x, linestyle='--')\n",
        "\n",
        "    plt.grid(True)\n",
        "    plt.show()\n",
        "# def funcion_ejemplo(x):\n",
        "#   return 2 * x**2 + 3 * x - 5\n",
        "\n",
        "# x1 = 2\n",
        "# x2 = 5\n",
        "# deltax_min = 3\n",
        "# deltax_max = 4\n",
        "# plot_derivada_numerica(funcion_ejemplo, x1, x2, deltax_min, deltax_max)"
      ],
      "metadata": {
        "id": "n7au3m2UJJKo"
      },
      "execution_count": 22,
      "outputs": []
    },
    {
      "cell_type": "markdown",
      "source": [
        "# Derivación numérica\n",
        "\n",
        "\n",
        "La importancia de las derivadas numéricas radica en su capacidad para estimar la tasa de cambio instantánea de una función en puntos específicos, incluso cuando no tenemos una expresión analítica exacta para esa función. Se Aplican en:\n",
        "\n",
        "1. **Métodos Numéricos y Simulaciones:** Las derivadas numéricas son fundamentales en el campo de los métodos numéricos, que se utilizan para resolver ecuaciones diferenciales, optimización y simulaciones numéricas. Estos métodos son esenciales en la ingeniería, la física, la biología y muchas otras disciplinas científicas y técnicas.\n",
        "\n",
        "2. **Modelado de Fenómenos:** En muchas situaciones del mundo real, no podemos obtener una expresión matemática exacta para describir un fenómeno. Las derivadas numéricas nos permiten modelar y comprender estos fenómenos al aproximar la velocidad de cambio en puntos específicos de una función.\n",
        "\n",
        "3. **Optimización:** En problemas de optimización, como la minimización o maximización de una función, las derivadas numéricas se utilizan para encontrar puntos críticos donde la función alcanza sus valores máximos o mínimos. Esto es crucial en áreas como la ingeniería de sistemas, la economía y la programación matemática.\n",
        "\n",
        "4. **Análisis de Datos Experimentales:** Cuando se trabaja con datos experimentales o mediciones, es común que los datos sean ruidosos o incompletos. Las derivadas numéricas pueden utilizarse para suavizar los datos y calcular tasas de cambio en puntos específicos.\n",
        "\n",
        "5. **Dinámica de Sistemas:** En ciencias como la física y la ingeniería, las derivadas numéricas son esenciales para modelar la dinámica de sistemas complejos, como el movimiento de partículas, la propagación de ondas y la respuesta de sistemas eléctricos y mecánicos.\n",
        "\n",
        "6. **Problemas de Ingeniería:** En ingeniería, las derivadas numéricas son utilizadas para resolver problemas prácticos, como el diseño de circuitos eléctricos, la optimización de estructuras o la simulación de fluidos en ingeniería mecánica.\n",
        "\n",
        "7. **Aplicaciones Financieras:** En el campo financiero, las derivadas numéricas son utilizadas para calcular la volatilidad de los activos financieros y derivados, lo que es esencial para la gestión de riesgos y la toma de decisiones en inversiones.\n",
        "\n",
        "\n",
        "\n",
        "> En resumen, las derivadas numéricas son herramientas poderosas y versátiles que tienen un impacto significativo en una amplia gama de disciplinas. Su capacidad para aproximar la tasa de cambio en puntos específicos de una función es fundamental para resolver problemas complejos en la ciencia, la ingeniería, la economía y muchas otras áreas.\n",
        "\n"
      ],
      "metadata": {
        "id": "Xl9HqFOmE3bh"
      }
    },
    {
      "cell_type": "code",
      "metadata": {
        "id": "1IDAHGEUu2d5"
      },
      "source": [
        "def funcion_ejemplo(x):\n",
        "  return (x**2)"
      ],
      "execution_count": 23,
      "outputs": []
    },
    {
      "cell_type": "code",
      "source": [
        "x1 = 2\n",
        "x2 = 8\n",
        "plot_derivada_numerica(funcion_ejemplo, x1, x2)"
      ],
      "metadata": {
        "id": "M0bJ1IhBLEPE"
      },
      "execution_count": null,
      "outputs": []
    },
    {
      "cell_type": "code",
      "source": [
        "x1 = 2\n",
        "x2 = 5\n",
        "plot_derivada_numerica(funcion_ejemplo, x1, x2)"
      ],
      "metadata": {
        "id": "43ltelvGLa0f"
      },
      "execution_count": null,
      "outputs": []
    },
    {
      "cell_type": "code",
      "source": [
        "x1 = 2\n",
        "x2 = 3\n",
        "plot_derivada_numerica(funcion_ejemplo, x1, x2)"
      ],
      "metadata": {
        "id": "yQ_oI15TLdSd"
      },
      "execution_count": null,
      "outputs": []
    },
    {
      "cell_type": "code",
      "source": [
        "x1 = 2\n",
        "x2 = 2.5\n",
        "plot_derivada_numerica(funcion_ejemplo, x1, x2)"
      ],
      "metadata": {
        "id": "YNPXIP_0Lhgh"
      },
      "execution_count": null,
      "outputs": []
    },
    {
      "cell_type": "markdown",
      "metadata": {
        "id": "cEE3qx6hMZDp"
      },
      "source": [
        "\n",
        "\n",
        "\n",
        "![](https://tricolor-scilla-68c.notion.site/image/https%3A%2F%2Fs3-us-west-2.amazonaws.com%2Fsecure.notion-static.com%2F0fd61c50-ccb2-4625-98f2-2e4ce18e562a%2FUntitled.png?table=block&id=b9d4167d-9aea-49f5-82d6-822994f73341&spaceId=62aa27de-48fd-4703-8a40-2de64b627b11&width=2000&userId=&cache=v2)"
      ]
    },
    {
      "cell_type": "markdown",
      "source": [
        "Para las siguentes 3 funciones evaluar la derivada\n",
        "\n",
        "xi= 2, xi = 5, xi = 200,\n",
        "h = 1 y h= 0.1\n",
        "\n",
        "$f1 = 4x^2+3$\n",
        "\n",
        "$f2 = 5x^3+3x$\n",
        "\n",
        "$f3 = x^4-2*x^2+x+1$"
      ],
      "metadata": {
        "id": "Kidl8qAGYtRg"
      }
    },
    {
      "cell_type": "code",
      "metadata": {
        "id": "umCnGV3wUqrx"
      },
      "source": [
        "def adelante(f,xi,h=1):\n",
        "  '''derivación numérica hacia adelante,\n",
        "  f: es la función utilizando sympy,\n",
        "  xi: el punto donde evaluar y\n",
        "  h: es la distancia entre xi+1 - xi'''\n"
      ],
      "execution_count": null,
      "outputs": []
    },
    {
      "cell_type": "code",
      "metadata": {
        "id": "0xrdGL__VbpG"
      },
      "source": [
        "def atras(f,xi,h=1):\n",
        "  '''derivación numérica hacia adelante,\n",
        "  f: es la función utilizando sympy,\n",
        "  xi: el punto donde evaluar y\n",
        "  h: es la distancia entre xi - xi-1'''\n"
      ],
      "execution_count": null,
      "outputs": []
    },
    {
      "cell_type": "code",
      "metadata": {
        "id": "yZgfV86HVqmX"
      },
      "source": [
        "def centrado(f,xi,h=1):\n",
        "  '''derivación numérica hacia adelante,\n",
        "  f: es la función utilizando sympy,\n",
        "  xi: el punto donde evaluar y\n",
        "  h: es la distancia entre xi - xi-1 o xi+h-xi'''\n"
      ],
      "execution_count": null,
      "outputs": []
    },
    {
      "cell_type": "code",
      "source": [],
      "metadata": {
        "id": "7zIueWuNjAqL"
      },
      "execution_count": null,
      "outputs": []
    }
  ]
}
{
  "nbformat": 4,
  "nbformat_minor": 0,
  "metadata": {
    "colab": {
      "provenance": []
    },
    "kernelspec": {
      "name": "python3",
      "display_name": "Python 3"
    },
    "language_info": {
      "name": "python"
    }
  },
  "cells": [
    {
      "cell_type": "markdown",
      "source": [
        "# Ejemplos paso a paso 🏇"
      ],
      "metadata": {
        "id": "Txq95Ok_8n5D"
      }
    },
    {
      "cell_type": "markdown",
      "source": [
        "## Ejemplo 1"
      ],
      "metadata": {
        "id": "qBxWi5GS81A7"
      }
    },
    {
      "cell_type": "markdown",
      "source": [
        "Empecemos por hallar las raíces de **$f(x) = x^2 - 16 = 0 $**\n",
        "\n",
        "* graficamos\n",
        "* vemos el intervalo aproximado"
      ],
      "metadata": {
        "id": "wpF9V1jJ8zIm"
      }
    },
    {
      "cell_type": "code",
      "source": [
        "import sympy as sp\n",
        "\n",
        "# Definir la variable simbólica y la función\n",
        "x_ = sp.symbols('x_')\n",
        "f1_ = x_**2 - 16\n",
        "import sympy as sp\n",
        "\n",
        "# Encontrar las raíces de la función\n",
        "raices_f1 = sp.solve(f1_, x_)\n",
        "print(\"Raíces de f1(x) =\", raices_f1)\n",
        "\n",
        "# Graficar la función usando SymPy\n",
        "plot_ = sp.plot(f1_, (x_, -5, 5), show=False, title='Gráfico de f(x) = x^2 - 16', xlabel='x', ylabel='f(x)')\n",
        "\n",
        "plot_.show()"
      ],
      "metadata": {
        "id": "7lAkcCWr8qKe"
      },
      "execution_count": null,
      "outputs": []
    },
    {
      "cell_type": "markdown",
      "source": [
        " El método de bisección requiere que el intervalo\n",
        "$[𝑎,𝑏]$ cumpla con la condición de que\n",
        "$𝑓(𝑎)×𝑓(𝑏)<0$ , lo que garantiza que haya al menos una raíz en ese intervalo."
      ],
      "metadata": {
        "id": "eM9IEcHX9nsK"
      }
    },
    {
      "cell_type": "markdown",
      "source": [
        "intervalo `[1,10]` en 🔴"
      ],
      "metadata": {
        "id": "73lDZlbT-c3m"
      }
    },
    {
      "cell_type": "code",
      "source": [
        "plot_1 = sp.plot(f1_, (x_, 1, 10), show=False, title='Gráfico de f(x) = x^2 - 16', xlabel='x', ylabel='f(x)', line_color='red')\n",
        "plot_1.show()"
      ],
      "metadata": {
        "id": "5V-dBza89PKR"
      },
      "execution_count": null,
      "outputs": []
    },
    {
      "cell_type": "markdown",
      "source": [
        "## Atención acá"
      ],
      "metadata": {
        "id": "jH2YojxcAiSJ"
      }
    },
    {
      "cell_type": "markdown",
      "source": [
        "\n",
        "Elegimos el intervalo inicial\n",
        "\n",
        "$[a,b]=[1,10]$. Evaluamos:\n",
        "\n",
        "😁 Iteración 1:\n",
        "\n",
        "$f(1)=1^2-16=−15$ (negativo)\n",
        "\n",
        "$f(10)=10^2-16=84$ (positivo)\n",
        "\n",
        "Calcular el punto medio $c$ del intervalo actual $[a,b]$:\n",
        "\n",
        "$c = (a + b) / 2  = (1+10)/2 = 5.5$\n",
        "\n",
        "$f(5.5)=5.5^2-16=14.25$ (positivo)\n",
        "\n",
        "* Dado que  $f(1)$ es negativo y  $f(5.5)$ es positivo, la raíz está en el intervalo $[1,5.5]$\n",
        "\n",
        "🙂Iteración 2:\n",
        "\n",
        "$f(1) = 1^2 - 16 = -15$ (negativo)\n",
        "\n",
        "$f(5.5) = 5.5^2 - 16 = 14.25$ (positivo)\n",
        "\n",
        "Calcular el punto medio $c$ del intervalo actual $[1, 5.5]$:\n",
        "\n",
        "$c = (1 + 5.5) / 2 = 3.25$\n",
        "\n",
        "$f(3.25) = 3.25^2 - 16 = -5.4375$ (negativo)\n",
        "\n",
        "* Dado que $f(3.25)$ es negativo y $f(5.5)$ es positivo, la raíz está en el intervalo $[3.25, 5.5]$.\n",
        "\n",
        "🤔Iteración 3:\n",
        "\n",
        "$f(3.25) = 3.25^2 - 16 = -5.4375$ (negativo)\n",
        "\n",
        "$f(5.5) = 5.5^2 - 16 = 14.25$ (positivo)\n",
        "\n",
        "Calcular el punto medio $c$ del intervalo actual $[3.25, 5.5]$:\n",
        "\n",
        "$c = (3.25 + 5.5) / 2 = 4.375$\n",
        "\n",
        "$f(4.375) = 4.375^2 - 16 = 3.140625$ (positivo)\n",
        "\n",
        "* Dado que $f(3.25)$ es negativo y $f(4.375)$ es positivo, la raíz está en el intervalo $[3.25, 4.375]$.\n",
        "\n",
        "🤨Iteración 4:\n",
        "\n",
        "$f(3.25) = 3.25^2 - 16 = -5.4375$ (negativo)\n",
        "\n",
        "$f(4.375) = 4.375^2 - 16 = 3.140625$ (positivo)\n",
        "\n",
        "Calcular el punto medio $c$ del intervalo actual $[3.25, 4.375]$:\n",
        "\n",
        "$c = (3.25 + 4.375) / 2 = 3.8125$\n",
        "\n",
        "$f(3.8125) = 3.8125^2 - 16 = -1.43359375$ (negativo)\n",
        "\n",
        "* Dado que $f(3.8125)$ es negativo y $f(4.375)$ es positivo, la raíz está en el intervalo $[3.8125, 4.375]$.\n",
        "\n",
        "🥱Iteración 5:\n",
        "\n",
        "$f(3.8125) = 3.8125^2 - 16 = -1.43359375$ (negativo)\n",
        "\n",
        "$f(4.375) = 4.375^2 - 16 = 3.140625$ (positivo)\n",
        "\n",
        "Calcular el punto medio $c$ del intervalo actual $[3.8125, 4.375]$:\n",
        "\n",
        "$c = (3.8125 + 4.375) / 2 = 4.09375$\n",
        "\n",
        "$f(4.09375) = 4.09375^2 - 16 = 0.7578125$ (positivo)\n",
        "\n",
        "* Dado que $f(3.8125)$ es negativo y $f(4.09375)$ es positivo, la raíz está en el intervalo $[3.8125, 4.09375]$.\n",
        "\n",
        "😴 Iteración 6: zzz\n",
        "\n",
        "Conclusión:\n",
        "\n",
        "Después de 5 iteraciones (la sexta zzzz), el intervalo donde se encuentra la raíz se ha reducido significativamente, aproximándose a $x = 4$. Este es el comportamiento típico del método de bisección, que divide el intervalo por la mitad en cada iteración, acercándose cada vez más a la raíz.\n"
      ],
      "metadata": {
        "id": "sgBda6EbGmWG"
      }
    },
    {
      "cell_type": "markdown",
      "source": [
        "# Código por favor 🙏"
      ],
      "metadata": {
        "id": "hSgdE8qpKSDw"
      }
    },
    {
      "cell_type": "code",
      "source": [
        "def f1(x):\n",
        "    return x**2 - 16\n",
        "\n",
        "# Definir el intervalo inicial [a, b]\n",
        "a = 1\n",
        "b = 10\n",
        "\n",
        "print(f\"Intervalo inicial: [{a}, {b}]\")\n",
        "\n",
        "# Realizamos algunas iteraciones del método de bisección\n",
        "for i in range(5):  # Realizaremos 5 iteraciones para mostrar el proceso\n",
        "    # Calcular el punto medio\n",
        "    c = (a + b) / 2.0\n",
        "    # Evaluar la función en el punto medio\n",
        "    fc = f1(c)\n",
        "\n",
        "    # Imprimir resultados de la iteración actual\n",
        "    print(f\"Iteración {i+1}:\")\n",
        "    print(f\" - Punto medio c = {c}\")\n",
        "    print(f\" - f(c) = {fc}\")\n",
        "\n",
        "    # Decidir el siguiente intervalo\n",
        "    if fc == 0:\n",
        "        print(f\"Hemos encontrado la raíz exacta: x = {c}\")\n",
        "        break\n",
        "    elif f1(a) * fc < 0:\n",
        "        # La raíz está en el intervalo [a, c]\n",
        "        b = c\n",
        "    else:\n",
        "        # La raíz está en el intervalo [c, b]\n",
        "        a = c\n",
        "\n",
        "    # Imprimir el nuevo intervalo\n",
        "    print(f\"Nuevo intervalo: [{a}, {b}]\")\n",
        "    print()\n",
        "\n",
        "# Mostrar el resultado final después de las iteraciones\n",
        "print(f\"Después de 5 iteraciones, la raíz aproximada es: {c}\")"
      ],
      "metadata": {
        "id": "2DFhnRTGGkDn"
      },
      "execution_count": null,
      "outputs": []
    },
    {
      "cell_type": "markdown",
      "source": [
        "## Tolerancia\n",
        "* La tolerancia en el método de bisección es un criterio de convergencia que determina cuándo el algoritmo debe detenerse.\n",
        "\n",
        "\n",
        "\n",
        "> Es un valor pequeño que representa el nivel de precisión que deseamos para la raíz aproximada que estamos buscando. El método de bisección se detendrá cuando el tamaño del intervalo en el que se encuentra la raíz sea menor que este valor de tolerancia.\n",
        "\n",
        "\n"
      ],
      "metadata": {
        "id": "5-5eN-qEK0t9"
      }
    },
    {
      "cell_type": "markdown",
      "source": [
        "La tolerancia, a menudo denotada como 𝜖 (épsilon), define qué tan cerca queremos que el resultado sea de la raíz real. A medida que el método de bisección divide el intervalo en cada iteración, el tamaño del intervalo\n",
        "$[a,b]$ se reduce. Cuando la diferencia entre\n",
        "`𝑎 y 𝑏 es menor que 𝜖`, se considera que la raíz ha sido aproximada con la precisión deseada, y el algoritmo se detiene.\n",
        "\n",
        "\n",
        "\n",
        "\n",
        "> $(𝑏−𝑎)/2 <𝜖$ : Esta condición asegura que la raíz esté dentro de un intervalo de tamaño\n",
        "𝜖\n",
        "ϵ alrededor del punto medio\n",
        "𝑐\n",
        "c. Se centra en la precisión del punto medio.\n",
        "\n",
        "\n",
        "\n",
        "> $ abs(𝑏−𝑎)<𝜖 $: Esta condición asegura que el tamaño total del intervalo sea menor que 𝜖. Se centra en reducir el intervalo total a un tamaño pequeño.\n",
        "\n",
        "\n",
        "\n",
        "\n",
        "\n"
      ],
      "metadata": {
        "id": "U4MZiNdRLXka"
      }
    },
    {
      "cell_type": "code",
      "source": [
        "def f1(x):\n",
        "    return x**2 - 16\n",
        "\n",
        "# Definir el intervalo inicial [a, b]\n",
        "a = 1\n",
        "b = 10\n",
        "\n",
        "print(f\"Intervalo inicial: [{a}, {b}]\")\n",
        "\n",
        "# Realizamos algunas iteraciones del método de bisección\n",
        "for i in range(5):  # Realizaremos 5 iteraciones para mostrar el proceso\n",
        "    # Calcular el punto medio\n",
        "    c = (a + b) / 2.0\n",
        "    # Evaluar la función en el punto medio\n",
        "    fc = f1(c)\n",
        "\n",
        "    # Imprimir resultados de la iteración actual\n",
        "    print(f\"Iteración {i+1}:\")\n",
        "    print(f\" - Punto medio c = {c}\")\n",
        "    print(f\" - f(c) = {fc}\")\n",
        "    print(f\" - Distancia entre b y a: |b - a| = {abs(b - a)}\")  # Imprimir la distancia entre b y a\n",
        "\n",
        "    # Decidir el siguiente intervalo\n",
        "    if fc == 0:\n",
        "        print(f\"Hemos encontrado la raíz exacta: x = {c}\")\n",
        "        break\n",
        "    elif f1(a) * fc < 0:\n",
        "        # La raíz está en el intervalo [a, c]\n",
        "        b = c\n",
        "    else:\n",
        "        # La raíz está en el intervalo [c, b]\n",
        "        a = c\n",
        "\n",
        "    # Imprimir el nuevo intervalo\n",
        "    print(f\"Nuevo intervalo: [{a}, {b}]\")\n",
        "    print()\n",
        "\n",
        "# Mostrar el resultado final después de las iteraciones\n",
        "print(f\"Después de 5 iteraciones, la raíz aproximada es: {c}\")\n"
      ],
      "metadata": {
        "id": "TAnj5K_GAq_g"
      },
      "execution_count": null,
      "outputs": []
    },
    {
      "cell_type": "markdown",
      "source": [
        "ejemplitos de tolerancia:\n",
        "\n",
        "* Con una **tolerancia de 0.1**, la raíz aproximada estará en el rango de 3.9 a 4.1.\n",
        "\n",
        "* Con una **tolerancia de 0.01**, la raíz aproximada estará en el rango de 3.99 a 4.01."
      ],
      "metadata": {
        "id": "-Q5dCJG8TM1f"
      }
    },
    {
      "cell_type": "code",
      "source": [
        "import matplotlib.pyplot as plt\n",
        "\n",
        "# Configurar el gráfico para mostrar el método de bisección en 5 iteraciones con diferentes colores\n",
        "x_values = [0,1,2,3,4,5,6,7,8,9,10,11]\n",
        "y_values = [f1(0),f1(1),f1(2),f1(3),f1(4),f1(5),f1(6),f1(7),f1(8),f1(9),f1(10),f1(11)] ## ¿existe alguna manera de hacerlo más sencillo ?\n",
        "\n",
        "# Crear el gráf1ico de la f1unción\n",
        "plt.figure(figsize=(10, 6))\n",
        "plt.plot(x_values, y_values, label=\"f(x) = x^2 - 16\", color='blue')\n",
        "\n",
        "# Marcar la raíz exacta\n",
        "plt.axvline(x=4, color='green', linestyle='--', label=\"Raíz Exacta: x = 4\")\n",
        "\n",
        "# Definir el intervalo inicial y las iteraciones deseadas\n",
        "a, b = 1, 10\n",
        "iterations = 5  # 5 iteraciones\n",
        "\n",
        "# Colores para los rectángulos en cada iteración\n",
        "colors = ['#FFC300', '#FF5733', '#C70039', '#900C3F', '#581845']  # Tonos cálidos y distintos\n",
        "\n",
        "# Realizar el método de bisección para 5 iteraciones\n",
        "for i in range(iterations):\n",
        "    c = (a + b) / 2.0\n",
        "\n",
        "    # Dibujar un rectángulo para representar el intervalo\n",
        "    plt.gca().add_patch(\n",
        "        plt.Rectangle((a, -20), b - a, 40, color=colors[i], alpha=0.4, label=f\"Iteración {i+1}\")\n",
        "    )\n",
        "\n",
        "    if f1(c) == 0:\n",
        "        break\n",
        "    elif f1(a) * f1(c) < 0:\n",
        "        b = c\n",
        "    else:\n",
        "        a = c\n",
        "\n",
        "# Configurar el gráfico\n",
        "plt.axhline(y=0, color='black', linewidth=0.8)\n",
        "plt.xlabel('x')\n",
        "plt.ylabel('f(x)')\n",
        "plt.title('Método de Bisección: Reducción del Intervalo en 5 Iteraciones')\n",
        "plt.legend(loc='upper left')\n",
        "plt.grid(True)\n",
        "\n",
        "# Mostrar el gráfico\n",
        "plt.show()\n"
      ],
      "metadata": {
        "id": "TxxaP7XoRBIy"
      },
      "execution_count": null,
      "outputs": []
    },
    {
      "cell_type": "code",
      "source": [
        "import matplotlib.pyplot as plt\n",
        "import numpy as np\n",
        "\n",
        "# Crear un rango de valores para x y calcular f(x) de manera más sencilla\n",
        "x_values = np.linspace(0, 11, 100)\n",
        "y_values = x_values**2 - 16  # Usando f(x) = x^2 - 16 directamente\n",
        "\n",
        "# Crear el gráfico de la función\n",
        "plt.figure(figsize=(10, 6))\n",
        "plt.plot(x_values, y_values, label=\"f(x) = x^2 - 16\", color='blue')\n",
        "\n",
        "# Marcar la raíz exacta\n",
        "plt.axvline(x=4, color='green', linestyle='--', label=\"Raíz Exacta: x = 4\")\n",
        "\n",
        "# Definir el intervalo inicial y las iteraciones deseadas\n",
        "a, b = 1, 10\n",
        "iterations = 5  # 5 iteraciones\n",
        "\n",
        "# Colores para los rectángulos en cada iteración\n",
        "colors = ['#FFC300', '#FF5733', '#C70039', '#900C3F', '#581845']  # Tonos cálidos y distintos\n",
        "\n",
        "# Realizar el método de bisección para 5 iteraciones con rectángulos de diferentes alturas\n",
        "height_increment = 10  # Incremento de altura para distinguir mejor\n",
        "base_height = 20  # Altura base para el primer rectángulo\n",
        "\n",
        "for i in range(iterations):\n",
        "    c = (a + b) / 2.0\n",
        "\n",
        "    # Dibujar un rectángulo para representar el intervalo con diferentes alturas\n",
        "    plt.gca().add_patch(\n",
        "        plt.Rectangle((a, -base_height + i * height_increment), b - a, base_height,\n",
        "                      color=colors[i], alpha=0.4, label=f\"Iteración {i+1}\")\n",
        "    )\n",
        "\n",
        "    if (f1(c) == 0):\n",
        "        break\n",
        "    elif (f1(a) * f1(c) < 0):\n",
        "        b = c\n",
        "    else:\n",
        "        a = c\n",
        "\n",
        "# Configurar el gráfico\n",
        "plt.axhline(y=0, color='black', linewidth=0.8)\n",
        "plt.xlabel('x')\n",
        "plt.ylabel('f(x)')\n",
        "plt.title('Método de Bisección: Reducción del Intervalo en 5 Iteraciones con Diferentes Alturas')\n",
        "plt.legend(loc='upper left')\n",
        "plt.grid(True)\n",
        "\n",
        "# Mostrar el gráfico\n",
        "plt.show()"
      ],
      "metadata": {
        "id": "rqZaoN2zVYAc"
      },
      "execution_count": null,
      "outputs": []
    },
    {
      "cell_type": "markdown",
      "source": [
        "## Números en Notación Científica"
      ],
      "metadata": {
        "id": "jqSj4TJ5YL93"
      }
    },
    {
      "cell_type": "code",
      "source": [
        "a = 1e-10\n",
        "b = 0.0000000001  # También es 1e-10\n",
        "\n",
        "print(a == b)  # Salida: True"
      ],
      "metadata": {
        "id": "_w4-5x99Ylu7"
      },
      "execution_count": null,
      "outputs": []
    },
    {
      "cell_type": "code",
      "source": [
        "num1 = 1e-2\n",
        "num2 = 1e-1\n",
        "\n",
        "print(num1)\n",
        "print(num2)"
      ],
      "metadata": {
        "id": "NTD9uz_2YgLs"
      },
      "execution_count": null,
      "outputs": []
    },
    {
      "cell_type": "markdown",
      "source": [
        "| Decimal       | Notación Científica |\n",
        "|---------------|---------------------|\n",
        "| 0.1           | 1.0e-1             |\n",
        "| 0.01          | 1.0e-2             |\n",
        "| 0.001         | 1.0e-3             |\n",
        "| 0.0001        | 1.0e-4             |\n",
        "| 0.00001       | 1.0e-5             |\n",
        "| 0.000001      | 1.0e-6             |\n",
        "| 0.0000001     | 1.0e-7             |\n",
        "| 0.00000001    | 1.0e-8             |\n",
        "| 0.000000001   | 1.0e-9             |\n",
        "| 0.0000000001  | 1.0e-10            |\n",
        "| 0.00000000001 | 1.0e-11            |\n"
      ],
      "metadata": {
        "id": "y_xCuF84YbwC"
      }
    },
    {
      "cell_type": "markdown",
      "source": [
        "# Tarea!"
      ],
      "metadata": {
        "id": "rnU2dGIzYuTl"
      }
    },
    {
      "cell_type": "markdown",
      "source": [
        "escriba su función de `metodo_biseccion() `\n",
        "\n",
        "* intervalo [a,b]\n",
        "* iteraciones_max\n",
        "* tolerancia\n"
      ],
      "metadata": {
        "id": "dByNRJGpYxWD"
      }
    }
  ]
}
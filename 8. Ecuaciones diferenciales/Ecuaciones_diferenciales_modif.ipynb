{
 "cells": [
  {
   "cell_type": "code",
   "execution_count": 10,
   "metadata": {},
   "outputs": [],
   "source": [
    "def runge_kutta_4(df, x_0, y_0, x_final, h):\n",
    "    \"\"\"\n",
    "    Parámetros:\n",
    "    df : Función que define la derivada dy/dx = f(x, y)\n",
    "    x_0 : valor inicial de x\n",
    "    y_0 : valor inicial de y en x_0 (f(x_0))\n",
    "    x_final : valor de x donde se quiere aproximar y\n",
    "    h : paso de integración (definido en el problema)\n",
    "\n",
    "    Retorna:\n",
    "    Lista de tuplas (i, x_i, y_i, y_(i+1)) con los valores de cada iteración\n",
    "    \"\"\"\n",
    "\n",
    "    n_pasos = int((x_final - x_0) / h)  \n",
    "    x_n, y_n = x_0, y_0  \n",
    "\n",
    "    # Tabla para almacenar los valores de cada iteración\n",
    "    tabla = [] \n",
    "\n",
    "    for i in range(n_pasos):\n",
    "        k1 = df(x_n, y_n)\n",
    "        k2 = df(x_n + h / 2, y_n + k1 * h / 2)\n",
    "        k3 = df(x_n + h / 2, y_n + k2 * h / 2)\n",
    "        k4 = df(x_n + h, y_n + k3 * h)\n",
    "        \n",
    "        # Se actualiza y_n para el siguiente paso\n",
    "        y_next = y_n + (k1 + 2 * k2 + 2 * k3 + k4) * h / 6   \n",
    "\n",
    "        # Guardamos i, x_i, y_i, y_(i+1)\n",
    "        tabla.append((i, x_n, y_n, y_next))  \n",
    "\n",
    "        # Se actualiza x_n e y_n para el siguiente paso\n",
    "        y_n = y_next\n",
    "        x_n += h                                    \n",
    "\n",
    "    return tabla"
   ]
  },
  {
   "cell_type": "code",
   "execution_count": 11,
   "metadata": {},
   "outputs": [
    {
     "name": "stdout",
     "output_type": "stream",
     "text": [
      "i\t x_i\t    y_i\t    y_(i+1)\n",
      "0\t 1.00\t 4.00000\t 4.45210\n",
      "1\t 1.20\t 4.45210\t 5.01760\n",
      "2\t 1.40\t 5.01760\t 5.71210\n"
     ]
    }
   ],
   "source": [
    "import math\n",
    "\n",
    "# Función f(x, y) = x * sqrt(y)\n",
    "def df(x, y):\n",
    "    return x * math.sqrt(y)\n",
    "\n",
    "# Parámetros iniciales\n",
    "x_0 = 1\n",
    "y_0 = 4\n",
    "x_final = 1.6\n",
    "h = 0.2\n",
    "\n",
    "# Función Runge-Kutta\n",
    "tabla = runge_kutta_4(df, x_0, y_0, x_final, h)\n",
    "\n",
    "# Imprimimos la tabla en el formato solicitado\n",
    "print(\"i\\t x_i\\t    y_i\\t    y_(i+1)\")\n",
    "for i, x_i, y_i, y_next in tabla:\n",
    "    print(f\"{i}\\t {x_i:.2f}\\t {y_i:.5f}\\t {y_next:.5f}\")"
   ]
  }
 ],
 "metadata": {
  "colab": {
   "provenance": []
  },
  "kernelspec": {
   "display_name": "Python 3",
   "name": "python3"
  },
  "language_info": {
   "codemirror_mode": {
    "name": "ipython",
    "version": 3
   },
   "file_extension": ".py",
   "mimetype": "text/x-python",
   "name": "python",
   "nbconvert_exporter": "python",
   "pygments_lexer": "ipython3",
   "version": "3.9.6"
  }
 },
 "nbformat": 4,
 "nbformat_minor": 0
}

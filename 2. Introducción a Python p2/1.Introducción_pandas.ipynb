{
  "nbformat": 4,
  "nbformat_minor": 0,
  "metadata": {
    "colab": {
      "provenance": []
    },
    "kernelspec": {
      "name": "python3",
      "display_name": "Python 3"
    },
    "language_info": {
      "name": "python"
    }
  },
  "cells": [
    {
      "cell_type": "code",
      "execution_count": 1,
      "metadata": {
        "id": "1KQQKOR-end0"
      },
      "outputs": [],
      "source": [
        "import pandas as pd\n",
        "import matplotlib.pyplot as plt\n"
      ]
    },
    {
      "cell_type": "markdown",
      "source": [
        "##  Crear un DataFrame"
      ],
      "metadata": {
        "id": "Q5LbTvu9exz1"
      }
    },
    {
      "cell_type": "code",
      "source": [
        "data = {\n",
        "    'Nombre': ['Ana', 'Luis', 'Pedro', 'Marta', 'Jorge'],\n",
        "    'Edad': [23, 34, 45, 28, 30],\n",
        "    'Salario': [50000, 60000, 80000, 50000, 70000],\n",
        "    'Horas_Trabajo': [40, 50, 60, 40, 45]\n",
        "}\n",
        "\n",
        "df = pd.DataFrame(data)\n",
        "df\n"
      ],
      "metadata": {
        "id": "eY4V9lAvesj4"
      },
      "execution_count": null,
      "outputs": []
    },
    {
      "cell_type": "markdown",
      "source": [
        "## Ordenar las filas"
      ],
      "metadata": {
        "id": "o8Y2YjFre0YI"
      }
    },
    {
      "cell_type": "code",
      "source": [
        "df_ordenado = df.sort_values(by='Edad')\n",
        "print(\"\\nDataFrame ordenado por Edad:\")\n",
        "print(df_ordenado)\n"
      ],
      "metadata": {
        "id": "zYSNF6lQewIv"
      },
      "execution_count": null,
      "outputs": []
    },
    {
      "cell_type": "markdown",
      "source": [
        "## Filtrar filas"
      ],
      "metadata": {
        "id": "My5kVA1Te6Mr"
      }
    },
    {
      "cell_type": "code",
      "source": [
        "# Filtrar filas donde el Salario es mayor a 60,000\n",
        "df_filtrado = df[df['Salario'] > 60000]\n",
        "print(\"\\nFiltrado por Salario mayor a 60,000:\")\n",
        "print(df_filtrado)\n"
      ],
      "metadata": {
        "id": "KhhhEQ9ge4X7"
      },
      "execution_count": null,
      "outputs": []
    },
    {
      "cell_type": "markdown",
      "source": [
        "## Graficar datos"
      ],
      "metadata": {
        "id": "wD_vJI4qe_Wj"
      }
    },
    {
      "cell_type": "code",
      "source": [
        "# Graficar la relación entre Salario y Horas de Trabajo\n",
        "plt.figure(figsize=(8, 6))\n",
        "plt.scatter(df['Salario'], df['Horas_Trabajo'], color='blue')\n",
        "plt.title('Relación entre Salario y Horas de Trabajo')\n",
        "plt.xlabel('Salario')\n",
        "plt.ylabel('Horas de Trabajo')\n",
        "plt.grid(True)\n",
        "plt.show()\n"
      ],
      "metadata": {
        "id": "FrxjnmXIe826"
      },
      "execution_count": null,
      "outputs": []
    },
    {
      "cell_type": "markdown",
      "source": [
        "## Sumar y restar columnas"
      ],
      "metadata": {
        "id": "q_0y7UJ_fEPt"
      }
    },
    {
      "cell_type": "code",
      "source": [
        "# Agregar una columna que sea el salario por hora de trabajo\n",
        "df['Salario_Hora'] = df['Salario'] / df['Horas_Trabajo']\n",
        "print(\"\\nDataFrame con columna Salario por Hora:\")\n",
        "print(df)\n",
        "\n",
        "# Restar Edad de Salario_Hora\n",
        "df['Ajuste_Salario'] = df['Salario_Hora'] - df['Edad']\n",
        "print(\"\\nDataFrame con columna Ajuste Salario:\")\n",
        "print(df)\n"
      ],
      "metadata": {
        "id": "KLxhKC2FfA3R"
      },
      "execution_count": null,
      "outputs": []
    },
    {
      "cell_type": "markdown",
      "source": [
        "## Agregar una columna"
      ],
      "metadata": {
        "id": "vyLIrzPPfKav"
      }
    },
    {
      "cell_type": "code",
      "source": [
        "# Agregar una columna que indique si la persona gana más de 65,000\n",
        "df['Gana_Mas_65000'] = df['Salario'] > 65000\n",
        "print(\"\\nDataFrame con columna Gana Mas 65000:\")\n",
        "print(df)"
      ],
      "metadata": {
        "id": "lL5euvXofGEK"
      },
      "execution_count": null,
      "outputs": []
    },
    {
      "cell_type": "markdown",
      "source": [
        "## Eliminar una o más columnas"
      ],
      "metadata": {
        "id": "ZSgbFJ0JfOBP"
      }
    },
    {
      "cell_type": "code",
      "source": [
        "# Eliminar las columnas 'Salario_Hora' y 'Ajuste_Salario'\n",
        "df = df.drop(columns=['Salario_Hora', 'Ajuste_Salario'])\n",
        "print(\"\\nDataFrame después de eliminar columnas:\")\n",
        "print(df)\n"
      ],
      "metadata": {
        "id": "m6X6MqbqfMJa"
      },
      "execution_count": null,
      "outputs": []
    },
    {
      "cell_type": "code",
      "source": [],
      "metadata": {
        "id": "X_1zAEBYfREi"
      },
      "execution_count": null,
      "outputs": []
    }
  ]
}